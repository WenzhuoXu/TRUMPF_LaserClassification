{
  "nbformat": 4,
  "nbformat_minor": 0,
  "metadata": {
    "colab": {
      "name": "U-Net_ISIC_DropAugPrep.ipynb",
      "version": "0.3.2",
      "provenance": [],
      "collapsed_sections": []
    },
    "kernelspec": {
      "name": "python3",
      "display_name": "Python 3"
    },
    "accelerator": "GPU"
  },
  "cells": [
    {
      "metadata": {
        "id": "RsR6wyMG7x_L",
        "colab_type": "text"
      },
      "cell_type": "markdown",
      "source": [
        "### author: zabiralnazi@yahoo.com\n",
        "> 0.40 Dropout, Augmentation, Histogram Equalization pre-processing"
      ]
    },
    {
      "metadata": {
        "id": "B207nogV834C",
        "colab_type": "code",
        "colab": {}
      },
      "cell_type": "code",
      "source": [
        "import os\n",
        "# cleaning up unimportant files\n",
        "def del_file(f_name):\n",
        "  try:\n",
        "    os.remove(f_name)\n",
        "  except:\n",
        "    print('file not found')"
      ],
      "execution_count": 0,
      "outputs": []
    },
    {
      "metadata": {
        "id": "_OuVb1eD9CgJ",
        "colab_type": "code",
        "outputId": "9ebea7fc-e6f8-412e-8f3f-2e054e091230",
        "colab": {
          "base_uri": "https://localhost:8080/",
          "height": 53
        }
      },
      "cell_type": "code",
      "source": [
        "% cd /content/\n",
        "! ls"
      ],
      "execution_count": 0,
      "outputs": [
        {
          "output_type": "stream",
          "text": [
            "/content\n",
            "sample_data\n"
          ],
          "name": "stdout"
        }
      ]
    },
    {
      "metadata": {
        "id": "7IBel4C17Mmn",
        "colab_type": "code",
        "outputId": "e098ecbc-4b83-481d-ccc7-29dbb0c55f8f",
        "colab": {
          "base_uri": "https://localhost:8080/",
          "height": 53
        }
      },
      "cell_type": "code",
      "source": [
        "# get the dataset\n",
        "!wget https://challenge.kitware.com/api/v1/item/5ac37a9d56357d4ff856e176/download"
      ],
      "execution_count": 0,
      "outputs": [
        {
          "output_type": "stream",
          "text": [
            "\n",
            "Redirecting output to ‘wget-log’.\n"
          ],
          "name": "stdout"
        }
      ]
    },
    {
      "metadata": {
        "id": "091AlZxi8CmT",
        "colab_type": "code",
        "outputId": "6afc8048-9d8d-494a-f5e4-dcb020693b40",
        "colab": {
          "base_uri": "https://localhost:8080/",
          "height": 35
        }
      },
      "cell_type": "code",
      "source": [
        "!ls"
      ],
      "execution_count": 0,
      "outputs": [
        {
          "output_type": "stream",
          "text": [
            "download  sample_data  wget-log\n"
          ],
          "name": "stdout"
        }
      ]
    },
    {
      "metadata": {
        "id": "AQfh295Mfhf5",
        "colab_type": "code",
        "outputId": "7bd0eedc-c1bb-442b-ff79-92f6a2c69d63",
        "colab": {
          "base_uri": "https://localhost:8080/",
          "height": 35
        }
      },
      "cell_type": "code",
      "source": [
        "del_file('download.2')"
      ],
      "execution_count": 0,
      "outputs": [
        {
          "output_type": "stream",
          "text": [
            "file not found\n"
          ],
          "name": "stdout"
        }
      ]
    },
    {
      "metadata": {
        "id": "JwTZqwwdfnaT",
        "colab_type": "code",
        "outputId": "b4a99045-9d48-41bf-c8b9-b80b75877a39",
        "colab": {
          "base_uri": "https://localhost:8080/",
          "height": 35
        }
      },
      "cell_type": "code",
      "source": [
        "!ls"
      ],
      "execution_count": 0,
      "outputs": [
        {
          "output_type": "stream",
          "text": [
            "download  sample_data  wget-log\n"
          ],
          "name": "stdout"
        }
      ]
    },
    {
      "metadata": {
        "id": "EqOhKHQN8Ykc",
        "colab_type": "code",
        "colab": {}
      },
      "cell_type": "code",
      "source": [
        "f = open('wget-log', 'r')\n",
        "log_c = f.read()\n",
        "# print(log_c) # download history"
      ],
      "execution_count": 0,
      "outputs": []
    },
    {
      "metadata": {
        "id": "jdR7RWBi-job",
        "colab_type": "code",
        "colab": {}
      },
      "cell_type": "code",
      "source": [
        "# unzip to train_imgs folder\n",
        "import zipfile\n",
        "zip_ref = zipfile.ZipFile('download', 'r')\n",
        "zip_ref.extractall('train_imgs')\n",
        "zip_ref.close()"
      ],
      "execution_count": 0,
      "outputs": []
    },
    {
      "metadata": {
        "id": "zGHjmxQA_Buc",
        "colab_type": "code",
        "outputId": "b26905f3-7885-41e5-a5a0-cb30296c0de5",
        "colab": {
          "base_uri": "https://localhost:8080/",
          "height": 35
        }
      },
      "cell_type": "code",
      "source": [
        "!ls"
      ],
      "execution_count": 0,
      "outputs": [
        {
          "output_type": "stream",
          "text": [
            "download  sample_data  train_imgs  wget-log\n"
          ],
          "name": "stdout"
        }
      ]
    },
    {
      "metadata": {
        "id": "XxQfDjFz_ljU",
        "colab_type": "code",
        "outputId": "e2a07dc8-54d5-4965-d25b-3adb6956771d",
        "colab": {
          "base_uri": "https://localhost:8080/",
          "height": 35
        }
      },
      "cell_type": "code",
      "source": [
        "print(os.stat('download').st_size/1000000000) # GigaBytes (approx)"
      ],
      "execution_count": 0,
      "outputs": [
        {
          "output_type": "stream",
          "text": [
            "11.165358566\n"
          ],
          "name": "stdout"
        }
      ]
    },
    {
      "metadata": {
        "id": "0Fw6qhY3_u7m",
        "colab_type": "code",
        "outputId": "c81a4648-3e9b-4cf1-f083-52a2d7b14d9b",
        "colab": {
          "base_uri": "https://localhost:8080/",
          "height": 53
        }
      },
      "cell_type": "code",
      "source": [
        "# get the segmentation masks\n",
        "!wget https://challenge.kitware.com/api/v1/item/5ac3695656357d4ff856e16a/download"
      ],
      "execution_count": 0,
      "outputs": [
        {
          "output_type": "stream",
          "text": [
            "\n",
            "Redirecting output to ‘wget-log.1’.\n"
          ],
          "name": "stdout"
        }
      ]
    },
    {
      "metadata": {
        "id": "YIF19STu_zWV",
        "colab_type": "code",
        "colab": {}
      },
      "cell_type": "code",
      "source": [
        "zip_ref = zipfile.ZipFile('download.1', 'r')\n",
        "zip_ref.extractall('train_masks')\n",
        "zip_ref.close()"
      ],
      "execution_count": 0,
      "outputs": []
    },
    {
      "metadata": {
        "id": "zaMP_8sO_4VO",
        "colab_type": "code",
        "outputId": "a6aca3b2-c6fc-4bc8-9111-2dac4fb9bac6",
        "colab": {
          "base_uri": "https://localhost:8080/",
          "height": 35
        }
      },
      "cell_type": "code",
      "source": [
        "%cd /content/"
      ],
      "execution_count": 0,
      "outputs": [
        {
          "output_type": "stream",
          "text": [
            "/content\n"
          ],
          "name": "stdout"
        }
      ]
    },
    {
      "metadata": {
        "id": "HlyJQOZY-JTs",
        "colab_type": "code",
        "outputId": "f1b6bb3d-41b2-4654-b832-e0d165e3221f",
        "colab": {
          "base_uri": "https://localhost:8080/",
          "height": 53
        }
      },
      "cell_type": "code",
      "source": [
        "!ls"
      ],
      "execution_count": 0,
      "outputs": [
        {
          "output_type": "stream",
          "text": [
            "download    sample_data  train_masks  wget-log.1\n",
            "download.1  train_imgs\t wget-log\n"
          ],
          "name": "stdout"
        }
      ]
    },
    {
      "metadata": {
        "id": "5QDlK4In-X_F",
        "colab_type": "code",
        "colab": {}
      },
      "cell_type": "code",
      "source": [
        "# use it carefully\n",
        "import shutil\n",
        "try:\n",
        "  #shutil.rmtree('/content/train_masks')\n",
        "  #shutil.rmtree('/content/train_imgs')\n",
        "  #shutil.rmtree('/content/wget-log')\n",
        "  #shutil.rmtree('/content/wget-log.1')\n",
        "  pass\n",
        "except:\n",
        "  print('folder not found')"
      ],
      "execution_count": 0,
      "outputs": []
    },
    {
      "metadata": {
        "id": "63G0NlrCADTf",
        "colab_type": "code",
        "outputId": "7ea0d156-346a-40ae-cf4c-471328a58a23",
        "colab": {
          "base_uri": "https://localhost:8080/",
          "height": 35
        }
      },
      "cell_type": "code",
      "source": [
        "print(os.stat('download.1').st_size/1000000000) # GigaBytes (approx) "
      ],
      "execution_count": 0,
      "outputs": [
        {
          "output_type": "stream",
          "text": [
            "0.027402895\n"
          ],
          "name": "stdout"
        }
      ]
    },
    {
      "metadata": {
        "id": "rJHTFPshAQRm",
        "colab_type": "code",
        "colab": {}
      },
      "cell_type": "code",
      "source": [
        "# To reproduce the results later\n",
        "from numpy.random import seed\n",
        "seed(1997)\n",
        "from tensorflow import set_random_seed\n",
        "set_random_seed(1997)"
      ],
      "execution_count": 0,
      "outputs": []
    },
    {
      "metadata": {
        "id": "AQQceuUGA5YM",
        "colab_type": "code",
        "colab": {}
      },
      "cell_type": "code",
      "source": [
        "# load the images and the masks\n",
        "import glob\n",
        "img_files = []\n",
        "for files in glob.glob('/content/train_imgs/ISIC2018_Task1-2_Training_Input/*.jpg'):\n",
        "    img_files.append(files)\n",
        "\n",
        "mask_files = []\n",
        "for files in glob.glob('/content/train_masks/ISIC2018_Task1_Training_GroundTruth/*.png'):\n",
        "    mask_files.append(files)"
      ],
      "execution_count": 0,
      "outputs": []
    },
    {
      "metadata": {
        "id": "UtfwcD58rJvy",
        "colab_type": "code",
        "colab": {}
      },
      "cell_type": "code",
      "source": [
        "img_files.sort()\n",
        "mask_files.sort()"
      ],
      "execution_count": 0,
      "outputs": []
    },
    {
      "metadata": {
        "id": "ZqwcK-tpBixW",
        "colab_type": "code",
        "outputId": "fb2a6ce5-c6bd-45ab-be22-295368709967",
        "colab": {
          "base_uri": "https://localhost:8080/",
          "height": 90
        }
      },
      "cell_type": "code",
      "source": [
        "print(len(img_files))\n",
        "print(len(mask_files))\n",
        "print(img_files[0])\n",
        "print(mask_files[0])"
      ],
      "execution_count": 0,
      "outputs": [
        {
          "output_type": "stream",
          "text": [
            "2594\n",
            "2594\n",
            "/content/train_imgs/ISIC2018_Task1-2_Training_Input/ISIC_0000000.jpg\n",
            "/content/train_masks/ISIC2018_Task1_Training_GroundTruth/ISIC_0000000_segmentation.png\n"
          ],
          "name": "stdout"
        }
      ]
    },
    {
      "metadata": {
        "id": "sSB74eBDpjFg",
        "colab_type": "code",
        "outputId": "1680283b-cccf-41f8-f324-fabc09627cc6",
        "colab": {
          "base_uri": "https://localhost:8080/",
          "height": 72
        }
      },
      "cell_type": "code",
      "source": [
        "img_id = 2531\n",
        "old_name = mask_files[img_id]\n",
        "print(old_name)\n",
        "new_name = mask_files[img_id][:-17] + '.png'\n",
        "print(new_name)\n",
        "print(img_files[img_id])"
      ],
      "execution_count": 0,
      "outputs": [
        {
          "output_type": "stream",
          "text": [
            "/content/train_masks/ISIC2018_Task1_Training_GroundTruth/ISIC_0015998_segmentation.png\n",
            "/content/train_masks/ISIC2018_Task1_Training_GroundTruth/ISIC_0015998.png\n",
            "/content/train_imgs/ISIC2018_Task1-2_Training_Input/ISIC_0015998.jpg\n"
          ],
          "name": "stdout"
        }
      ]
    },
    {
      "metadata": {
        "id": "1EAa99KapIDM",
        "colab_type": "code",
        "colab": {}
      },
      "cell_type": "code",
      "source": [
        "# rename all the mask images, exclude _segmentation part, Augmentor\n",
        "for old_name in mask_files:\n",
        "  new_name = old_name[:-17] + '.png'\n",
        "  os.rename(old_name,new_name)"
      ],
      "execution_count": 0,
      "outputs": []
    },
    {
      "metadata": {
        "id": "vis1q1yG6XsS",
        "colab_type": "code",
        "colab": {}
      },
      "cell_type": "code",
      "source": [
        "# rename image files to .png -> same extension -> augmentor\n",
        "for old_name in img_files:\n",
        "  new_name = old_name[:-4] + '.png'\n",
        "  os.rename(old_name,new_name)"
      ],
      "execution_count": 0,
      "outputs": []
    },
    {
      "metadata": {
        "id": "5ZF8TN52r5FK",
        "colab_type": "code",
        "colab": {}
      },
      "cell_type": "code",
      "source": [
        "# load the images and the masks\n",
        "import glob\n",
        "img_files = []\n",
        "for files in glob.glob('/content/train_imgs/ISIC2018_Task1-2_Training_Input/*.png'):\n",
        "    img_files.append(files)\n",
        "\n",
        "mask_files = []\n",
        "for files in glob.glob('/content/train_masks/ISIC2018_Task1_Training_GroundTruth/*.png'):\n",
        "    mask_files.append(files)"
      ],
      "execution_count": 0,
      "outputs": []
    },
    {
      "metadata": {
        "id": "3aWOY58nsCjn",
        "colab_type": "code",
        "colab": {}
      },
      "cell_type": "code",
      "source": [
        "img_files.sort()\n",
        "mask_files.sort()"
      ],
      "execution_count": 0,
      "outputs": []
    },
    {
      "metadata": {
        "id": "91DlRYRgr9a9",
        "colab_type": "code",
        "outputId": "62890649-c429-46cb-936d-7eb22314acbf",
        "colab": {
          "base_uri": "https://localhost:8080/",
          "height": 90
        }
      },
      "cell_type": "code",
      "source": [
        "print(len(img_files))\n",
        "print(len(mask_files))\n",
        "print(img_files[527])\n",
        "print(mask_files[527])"
      ],
      "execution_count": 0,
      "outputs": [
        {
          "output_type": "stream",
          "text": [
            "2594\n",
            "2594\n",
            "/content/train_imgs/ISIC2018_Task1-2_Training_Input/ISIC_0002489.png\n",
            "/content/train_masks/ISIC2018_Task1_Training_GroundTruth/ISIC_0002489.png\n"
          ],
          "name": "stdout"
        }
      ]
    },
    {
      "metadata": {
        "id": "PZAb2B_xgAjD",
        "colab_type": "code",
        "colab": {}
      },
      "cell_type": "code",
      "source": [
        "from PIL import Image\n",
        "import os\n",
        "\n",
        "for files in glob.glob('/content/train_imgs/ISIC2018_Task1-2_Training_Input/*.png'):\n",
        "    #img_files.append(files)\n",
        "    im = Image.open(files)\n",
        "    f, e = os.path.splitext(files)\n",
        "    imResize = im.resize((224,224), Image.ANTIALIAS)\n",
        "    imResize.save(f + '.png', 'PNG', quality=100)\n",
        "\n",
        "\n",
        "for files in glob.glob('/content/train_masks/ISIC2018_Task1_Training_GroundTruth/*.png'):\n",
        "    #mask_files.append(files)\n",
        "    im = Image.open(files)\n",
        "    f, e = os.path.splitext(files)\n",
        "    imResize = im.resize((224,224), Image.ANTIALIAS)\n",
        "    imResize.save(f + '.png', 'PNG', quality=100)"
      ],
      "execution_count": 0,
      "outputs": []
    },
    {
      "metadata": {
        "id": "ehAdAEX7Hl2_",
        "colab_type": "code",
        "colab": {}
      },
      "cell_type": "code",
      "source": [
        "import glob\n",
        "img_files = []\n",
        "for files in glob.glob('/content/train_imgs/ISIC2018_Task1-2_Training_Input/*.png'):\n",
        "    img_files.append(files)\n",
        "\n",
        "mask_files = []\n",
        "for files in glob.glob('/content/train_masks/ISIC2018_Task1_Training_GroundTruth/*.png'):\n",
        "    mask_files.append(files)"
      ],
      "execution_count": 0,
      "outputs": []
    },
    {
      "metadata": {
        "id": "6qvtq69_fptW",
        "colab_type": "code",
        "colab": {}
      },
      "cell_type": "code",
      "source": [
        "img_files.sort()\n",
        "mask_files.sort()"
      ],
      "execution_count": 0,
      "outputs": []
    },
    {
      "metadata": {
        "id": "qp6-oJFJHps7",
        "colab_type": "code",
        "outputId": "6b842484-0de5-428f-855c-a3ca31ac504a",
        "colab": {
          "base_uri": "https://localhost:8080/",
          "height": 90
        }
      },
      "cell_type": "code",
      "source": [
        "print(len(img_files))\n",
        "print(len(mask_files))\n",
        "print(img_files[2593])\n",
        "print(mask_files[2593])"
      ],
      "execution_count": 0,
      "outputs": [
        {
          "output_type": "stream",
          "text": [
            "2594\n",
            "2594\n",
            "/content/train_imgs/ISIC2018_Task1-2_Training_Input/ISIC_0016072.png\n",
            "/content/train_masks/ISIC2018_Task1_Training_GroundTruth/ISIC_0016072.png\n"
          ],
          "name": "stdout"
        }
      ]
    },
    {
      "metadata": {
        "id": "ePC_Zej0HtTZ",
        "colab_type": "code",
        "outputId": "4f7a6cbe-ac52-44cb-fb36-c7b1a7891947",
        "colab": {
          "base_uri": "https://localhost:8080/",
          "height": 53
        }
      },
      "cell_type": "code",
      "source": [
        "import cv2\n",
        "a = cv2.imread('/content/train_imgs/ISIC2018_Task1-2_Training_Input/ISIC_0001103.png')\n",
        "print(a.shape)\n",
        "\n",
        "a = cv2.imread('/content/train_masks/ISIC2018_Task1_Training_GroundTruth/ISIC_0001103.png')\n",
        "print(a.shape)"
      ],
      "execution_count": 0,
      "outputs": [
        {
          "output_type": "stream",
          "text": [
            "(224, 224, 3)\n",
            "(224, 224, 3)\n"
          ],
          "name": "stdout"
        }
      ]
    },
    {
      "metadata": {
        "id": "pvjGbmEcsnmN",
        "colab_type": "code",
        "outputId": "efd6f8e3-5f05-435f-e6d5-bc50b4f79a20",
        "colab": {
          "base_uri": "https://localhost:8080/",
          "height": 201
        }
      },
      "cell_type": "code",
      "source": [
        "# install augmentation library\n",
        "! pip install Augmentor"
      ],
      "execution_count": 0,
      "outputs": [
        {
          "output_type": "stream",
          "text": [
            "Collecting Augmentor\n",
            "  Downloading https://files.pythonhosted.org/packages/4d/f4/b0eaa9d3b4120a5450ac92d4417907ca60fad5749c1f50ed95f720792350/Augmentor-0.2.3-py2.py3-none-any.whl\n",
            "Requirement already satisfied: tqdm>=4.9.0 in /usr/local/lib/python3.6/dist-packages (from Augmentor) (4.26.0)\n",
            "Requirement already satisfied: future>=0.16.0 in /usr/local/lib/python3.6/dist-packages (from Augmentor) (0.16.0)\n",
            "Requirement already satisfied: Pillow>=4.0.0 in /usr/local/lib/python3.6/dist-packages (from Augmentor) (4.0.0)\n",
            "Requirement already satisfied: numpy>=1.11.0 in /usr/local/lib/python3.6/dist-packages (from Augmentor) (1.14.5)\n",
            "Requirement already satisfied: olefile in /usr/local/lib/python3.6/dist-packages (from Pillow>=4.0.0->Augmentor) (0.46)\n",
            "Installing collected packages: Augmentor\n",
            "Successfully installed Augmentor-0.2.3\n"
          ],
          "name": "stdout"
        }
      ]
    },
    {
      "metadata": {
        "id": "n8fJwk-a488h",
        "colab_type": "code",
        "outputId": "ca325c77-fd6f-47a2-ae39-61dac25af093",
        "colab": {
          "base_uri": "https://localhost:8080/",
          "height": 35
        }
      },
      "cell_type": "code",
      "source": [
        "import shutil\n",
        "try:\n",
        "  shutil.rmtree('/content/train_imgs/ISIC2018_Task1-2_Training_Input/output')\n",
        "except:\n",
        "  print('folder not found')"
      ],
      "execution_count": 0,
      "outputs": [
        {
          "output_type": "stream",
          "text": [
            "folder not found\n"
          ],
          "name": "stdout"
        }
      ]
    },
    {
      "metadata": {
        "id": "O8wepO9BoBck",
        "colab_type": "code",
        "outputId": "947b61cf-201d-497e-d44a-1b7858441509",
        "colab": {
          "base_uri": "https://localhost:8080/",
          "height": 53
        }
      },
      "cell_type": "code",
      "source": [
        "! ls"
      ],
      "execution_count": 0,
      "outputs": [
        {
          "output_type": "stream",
          "text": [
            "download    sample_data  train_masks  wget-log.1\n",
            "download.1  train_imgs\t wget-log\n"
          ],
          "name": "stdout"
        }
      ]
    },
    {
      "metadata": {
        "id": "tRjA70Gxtcs6",
        "colab_type": "code",
        "outputId": "4814297e-8bab-4262-facf-1a0b59351d90",
        "colab": {
          "base_uri": "https://localhost:8080/",
          "height": 92
        }
      },
      "cell_type": "code",
      "source": [
        "import Augmentor\n",
        "p = Augmentor.Pipeline(\"/content/train_imgs/ISIC2018_Task1-2_Training_Input/\")\n",
        "# Point to a directory containing ground truth data.\n",
        "# Images with the same file names will be added as ground truth data\n",
        "# and augmented in parallel to the original data.\n",
        "p.ground_truth(\"/content/train_masks/ISIC2018_Task1_Training_GroundTruth/\")\n",
        "# Add operations to the pipeline as normal:\n",
        "p.rotate(probability=0.2, max_left_rotation=5, max_right_rotation=5)\n",
        "p.flip_left_right(probability=0.2)\n",
        "p.zoom_random(probability=0.1, percentage_area=0.8)\n",
        "p.flip_top_bottom(probability=0.3)\n",
        "p.gaussian_distortion(probability=0.05, grid_width=4, grid_height=4, magnitude=3, corner='bell', method='in', mex=0.5, mey=0.5, sdx=0.05, sdy=0.05)\n",
        "p.random_brightness(probability=0.05, min_factor=0.7, max_factor=1.3)\n",
        "p.random_color(probability=0.05, min_factor=0.6, max_factor=0.9)\n",
        "p.random_contrast(probability=0.05, min_factor=0.6, max_factor=0.9)\n",
        "p.random_distortion(probability=0.2, grid_width=4, grid_height=4, magnitude=2)\n",
        "\n",
        "p.sample(2500) # change this number to generate different number of augmented variations"
      ],
      "execution_count": 0,
      "outputs": [
        {
          "output_type": "stream",
          "text": [
            "Executing Pipeline:   0%|          | 0/2500 [00:00<?, ? Samples/s]"
          ],
          "name": "stderr"
        },
        {
          "output_type": "stream",
          "text": [
            "Initialised with 2594 image(s) found.\n",
            "Output directory set to /content/train_imgs/ISIC2018_Task1-2_Training_Input/output.2594 ground truth image(s) found.\n"
          ],
          "name": "stdout"
        },
        {
          "output_type": "stream",
          "text": [
            "Processing <PIL.Image.Image image mode=RGB size=224x224 at 0x7F4164276E48>: 100%|██████████| 2500/2500 [01:30<00:00, 27.69 Samples/s]\n"
          ],
          "name": "stderr"
        }
      ]
    },
    {
      "metadata": {
        "id": "KhMx3rvYnl6J",
        "colab_type": "code",
        "outputId": "d63b1280-fdf4-4227-c09e-95e0f6c6b12a",
        "colab": {
          "base_uri": "https://localhost:8080/",
          "height": 35
        }
      },
      "cell_type": "code",
      "source": [
        "% cd /content"
      ],
      "execution_count": 0,
      "outputs": [
        {
          "output_type": "stream",
          "text": [
            "/content\n"
          ],
          "name": "stdout"
        }
      ]
    },
    {
      "metadata": {
        "id": "i6atKaOfezCG",
        "colab_type": "code",
        "outputId": "4e7ebca9-bd55-4427-94e4-99b79e87e9b4",
        "colab": {
          "base_uri": "https://localhost:8080/",
          "height": 53
        }
      },
      "cell_type": "code",
      "source": [
        "! ls"
      ],
      "execution_count": 0,
      "outputs": [
        {
          "output_type": "stream",
          "text": [
            "download    sample_data  train_masks  wget-log.1\n",
            "download.1  train_imgs\t wget-log\n"
          ],
          "name": "stdout"
        }
      ]
    },
    {
      "metadata": {
        "id": "bu2_nks5Otvl",
        "colab_type": "code",
        "colab": {}
      },
      "cell_type": "code",
      "source": [
        "# % cd /content/train_imgs/ISIC2018_Task1-2_Training_Input/output\n",
        "# ! ls"
      ],
      "execution_count": 0,
      "outputs": []
    },
    {
      "metadata": {
        "id": "bVsOhQH6iISE",
        "colab_type": "code",
        "outputId": "961a0aed-8030-46ec-a582-917563b5b374",
        "colab": {
          "base_uri": "https://localhost:8080/",
          "height": 35
        }
      },
      "cell_type": "code",
      "source": [
        "len('/content/train_imgs/ISIC2018_Task1-2_Training_Input/output/')"
      ],
      "execution_count": 0,
      "outputs": [
        {
          "output_type": "execute_result",
          "data": {
            "text/plain": [
              "59"
            ]
          },
          "metadata": {
            "tags": []
          },
          "execution_count": 40
        }
      ]
    },
    {
      "metadata": {
        "id": "uQG5XeY3grPt",
        "colab_type": "code",
        "colab": {}
      },
      "cell_type": "code",
      "source": [
        "aug_imgs = []\n",
        "aug_masks = []\n",
        "\n",
        "aug_path = '/content/train_imgs/ISIC2018_Task1-2_Training_Input/output/*.png'\n",
        "\n",
        "for fnam in glob.glob(aug_path):\n",
        "  # print(fnam)\n",
        "  if(fnam[59]=='_'): # find the proper index\n",
        "    aug_masks.append(fnam)\n",
        "  else:\n",
        "    aug_imgs.append(fnam)"
      ],
      "execution_count": 0,
      "outputs": []
    },
    {
      "metadata": {
        "id": "Vqcn-ovjhXeh",
        "colab_type": "code",
        "outputId": "d274de02-c850-49d6-e8b3-fea0cf17d08c",
        "colab": {
          "base_uri": "https://localhost:8080/",
          "height": 110
        }
      },
      "cell_type": "code",
      "source": [
        "aug_imgs.sort()\n",
        "aug_masks.sort()\n",
        "print(len(aug_imgs))\n",
        "print(len(aug_masks))\n",
        "print(aug_imgs[7])\n",
        "print(aug_masks[7])"
      ],
      "execution_count": 0,
      "outputs": [
        {
          "output_type": "stream",
          "text": [
            "2500\n",
            "2500\n",
            "/content/train_imgs/ISIC2018_Task1-2_Training_Input/output/ISIC2018_Task1-2_Training_Input_original_ISIC_0000008.png_1a3f5576-fad2-4d5a-94c8-8e0cf3c36dfe.png\n",
            "/content/train_imgs/ISIC2018_Task1-2_Training_Input/output/_groundtruth_(1)_ISIC2018_Task1-2_Training_Input_ISIC_0000008.png_1a3f5576-fad2-4d5a-94c8-8e0cf3c36dfe.png\n"
          ],
          "name": "stdout"
        }
      ]
    },
    {
      "metadata": {
        "id": "HJNI8jcTBnQP",
        "colab_type": "code",
        "outputId": "c42f2bb0-d080-4a73-9a75-36e77a0906b5",
        "colab": {
          "base_uri": "https://localhost:8080/",
          "height": 35
        }
      },
      "cell_type": "code",
      "source": [
        "# reference: https://github.com/ZFTurbo/ZF_UNET_224_Pretrained_Model\n",
        "from keras.models import Model\n",
        "from keras.layers import Input, Conv2D, MaxPooling2D, UpSampling2D\n",
        "from keras.layers.normalization import BatchNormalization\n",
        "from keras.layers.core import SpatialDropout2D, Activation\n",
        "from keras import backend as K\n",
        "from keras.layers.merge import concatenate\n",
        "from keras.utils.data_utils import get_file\n",
        "\n",
        "# Number of image channels (for example 3 in case of RGB, or 1 for grayscale images)\n",
        "INPUT_CHANNELS = 3\n",
        "# Number of output masks (1 in case you predict only one type of objects)\n",
        "OUTPUT_MASK_CHANNELS = 1\n",
        "# Pretrained weights\n",
        "\n",
        "\n",
        "def preprocess_input(x):\n",
        "    x /= 255.\n",
        "    # not sure about the mean of the image distribution\n",
        "    return x\n",
        "\n",
        "\n",
        "def dice_coef(y_true, y_pred):\n",
        "    y_true_f = K.flatten(y_true)\n",
        "    y_pred_f = K.flatten(y_pred)\n",
        "    intersection = K.sum(y_true_f * y_pred_f)\n",
        "    # +1 added to avoid 0/0 division\n",
        "    return (2.0 * intersection + 1.0) / (K.sum(y_true_f) + K.sum(y_pred_f) + 1.0)\n",
        "  \n",
        "\n",
        "\n",
        "def jacard_coef(y_true, y_pred):\n",
        "    y_true_f = K.flatten(y_true)\n",
        "    y_pred_f = K.flatten(y_pred)\n",
        "    intersection = K.sum(y_true_f * y_pred_f)\n",
        "    return (intersection + 1.0) / (K.sum(y_true_f) + K.sum(y_pred_f) - intersection + 1.0)\n",
        "\n",
        "\n",
        "def jacard_coef_loss(y_true, y_pred):\n",
        "    return -jacard_coef(y_true, y_pred)\n",
        "\n",
        "\n",
        "def dice_coef_loss(y_true, y_pred):\n",
        "    return -dice_coef(y_true, y_pred)\n",
        "\n",
        "\n",
        "def double_conv_layer(x, size, dropout=0.40, batch_norm=True):\n",
        "    if K.image_dim_ordering() == 'th':\n",
        "        axis = 1\n",
        "    else:\n",
        "        axis = 3\n",
        "    conv = Conv2D(size, (3, 3), padding='same')(x)\n",
        "    if batch_norm is True:\n",
        "        conv = BatchNormalization(axis=axis)(conv)\n",
        "    conv = Activation('relu')(conv)\n",
        "    conv = Conv2D(size, (3, 3), padding='same')(conv)\n",
        "    if batch_norm is True:\n",
        "        conv = BatchNormalization(axis=axis)(conv)\n",
        "    conv = Activation('relu')(conv)\n",
        "    if dropout > 0:\n",
        "        conv = SpatialDropout2D(dropout)(conv)\n",
        "    return conv\n",
        "\n",
        "\n",
        "def UNET_224(dropout_val=0.40, weights=None): # No dropout by default\n",
        "    if K.image_dim_ordering() == 'th':\n",
        "        inputs = Input((INPUT_CHANNELS, 224, 224))\n",
        "        axis = 1\n",
        "    else:\n",
        "        inputs = Input((224, 224, INPUT_CHANNELS))\n",
        "        axis = 3\n",
        "    filters = 32\n",
        "\n",
        "    conv_224 = double_conv_layer(inputs, filters)\n",
        "    pool_112 = MaxPooling2D(pool_size=(2, 2))(conv_224)\n",
        "\n",
        "    conv_112 = double_conv_layer(pool_112, 2*filters)\n",
        "    pool_56 = MaxPooling2D(pool_size=(2, 2))(conv_112)\n",
        "\n",
        "    conv_56 = double_conv_layer(pool_56, 4*filters)\n",
        "    pool_28 = MaxPooling2D(pool_size=(2, 2))(conv_56)\n",
        "\n",
        "    conv_28 = double_conv_layer(pool_28, 8*filters)\n",
        "    pool_14 = MaxPooling2D(pool_size=(2, 2))(conv_28)\n",
        "\n",
        "    conv_14 = double_conv_layer(pool_14, 16*filters)\n",
        "    pool_7 = MaxPooling2D(pool_size=(2, 2))(conv_14)\n",
        "\n",
        "    conv_7 = double_conv_layer(pool_7, 32*filters)\n",
        "\n",
        "    up_14 = concatenate([UpSampling2D(size=(2, 2))(conv_7), conv_14], axis=axis)\n",
        "    up_conv_14 = double_conv_layer(up_14, 16*filters)\n",
        "\n",
        "    up_28 = concatenate([UpSampling2D(size=(2, 2))(up_conv_14), conv_28], axis=axis)\n",
        "    up_conv_28 = double_conv_layer(up_28, 8*filters)\n",
        "\n",
        "    up_56 = concatenate([UpSampling2D(size=(2, 2))(up_conv_28), conv_56], axis=axis)\n",
        "    up_conv_56 = double_conv_layer(up_56, 4*filters)\n",
        "\n",
        "    up_112 = concatenate([UpSampling2D(size=(2, 2))(up_conv_56), conv_112], axis=axis)\n",
        "    up_conv_112 = double_conv_layer(up_112, 2*filters)\n",
        "\n",
        "    up_224 = concatenate([UpSampling2D(size=(2, 2))(up_conv_112), conv_224], axis=axis)\n",
        "    up_conv_224 = double_conv_layer(up_224, filters, dropout_val)\n",
        "\n",
        "    conv_final = Conv2D(OUTPUT_MASK_CHANNELS, (1, 1))(up_conv_224)\n",
        "    conv_final = Activation('sigmoid')(conv_final)\n",
        "\n",
        "    model = Model(inputs, conv_final, name=\"UNET_224\")\n",
        "\n",
        "\n",
        "    return model"
      ],
      "execution_count": 0,
      "outputs": [
        {
          "output_type": "stream",
          "text": [
            "Using TensorFlow backend.\n"
          ],
          "name": "stderr"
        }
      ]
    },
    {
      "metadata": {
        "id": "gPqfE2nEVmDW",
        "colab_type": "code",
        "colab": {}
      },
      "cell_type": "code",
      "source": [
        ""
      ],
      "execution_count": 0,
      "outputs": []
    },
    {
      "metadata": {
        "id": "9BzTNzeUqhAn",
        "colab_type": "code",
        "colab": {}
      },
      "cell_type": "code",
      "source": [
        "#img_files.extend(aug_imgs)\n",
        "#mask_files.extend(aug_masks)"
      ],
      "execution_count": 0,
      "outputs": []
    },
    {
      "metadata": {
        "id": "wYKOFLToqyi9",
        "colab_type": "code",
        "outputId": "bdfe874f-1af9-4dd1-efc9-c415a00182d3",
        "colab": {
          "base_uri": "https://localhost:8080/",
          "height": 90
        }
      },
      "cell_type": "code",
      "source": [
        "print(len(img_files))\n",
        "print(len(mask_files))\n",
        "print(img_files[2000])\n",
        "print(mask_files[2000])"
      ],
      "execution_count": 0,
      "outputs": [
        {
          "output_type": "stream",
          "text": [
            "2594\n",
            "2594\n",
            "/content/train_imgs/ISIC2018_Task1-2_Training_Input/ISIC_0014422.png\n",
            "/content/train_masks/ISIC2018_Task1_Training_GroundTruth/ISIC_0014422.png\n"
          ],
          "name": "stdout"
        }
      ]
    },
    {
      "metadata": {
        "id": "ev0U6jYGEf7l",
        "colab_type": "code",
        "outputId": "d45a3a8f-772e-486c-e4d3-64bdb587e1c9",
        "colab": {
          "base_uri": "https://localhost:8080/",
          "height": 35
        }
      },
      "cell_type": "code",
      "source": [
        "import cv2\n",
        "import random\n",
        "import numpy as np\n",
        "import pandas as pd\n",
        "from keras.optimizers import Adam, SGD\n",
        "from keras.callbacks import ModelCheckpoint, EarlyStopping, ReduceLROnPlateau\n",
        "from keras import __version__\n",
        "\n",
        "img_files.sort()\n",
        "mask_files.sort()\n",
        "\n",
        "print('Updated States ...')\n",
        "img_arr = []\n",
        "mask_arr = []\n",
        "num_train = len(img_files)\n",
        "global gen_batch "
      ],
      "execution_count": 0,
      "outputs": [
        {
          "output_type": "stream",
          "text": [
            "Updated States ...\n"
          ],
          "name": "stdout"
        }
      ]
    },
    {
      "metadata": {
        "id": "cWgZy-nEFLL3",
        "colab_type": "code",
        "outputId": "dbd3bee5-46fa-4604-fa9e-842a09d665a5",
        "colab": {
          "base_uri": "https://localhost:8080/",
          "height": 53
        }
      },
      "cell_type": "code",
      "source": [
        "! ls"
      ],
      "execution_count": 0,
      "outputs": [
        {
          "output_type": "stream",
          "text": [
            "download    sample_data  train_masks  wget-log.1\n",
            "download.1  train_imgs\t wget-log\n"
          ],
          "name": "stdout"
        }
      ]
    },
    {
      "metadata": {
        "id": "617NrhqSZ9oL",
        "colab_type": "code",
        "colab": {}
      },
      "cell_type": "code",
      "source": [
        "import random\n",
        "random.seed(1997) # same seed again\n",
        "for i in range(num_train):\n",
        "    a = cv2.imread(img_files[i])\n",
        "    a = cv2.resize(a, (224, 224)) \n",
        "    a = np.array(a,dtype=np.uint8)\n",
        "    img_arr.append(a)\n",
        "\n",
        "    b = cv2.imread(mask_files[i],0)\n",
        "    b = cv2.resize(b, (224, 224)) \n",
        "    b = np.array(b,dtype=np.uint8)\n",
        "    mask_arr.append(b)\n",
        "gen_batch = 0\n",
        "\n",
        "fin_arr = list(zip(img_arr,mask_arr))\n",
        "random.shuffle(fin_arr)\n",
        "img_arr = [x[0] for x in fin_arr]\n",
        "mask_arr = [x[1] for x in fin_arr]"
      ],
      "execution_count": 0,
      "outputs": []
    },
    {
      "metadata": {
        "id": "2Xh_BDZTb60g",
        "colab_type": "code",
        "outputId": "315be9ba-3c6d-4fc9-d579-b4f0765f22c4",
        "colab": {
          "base_uri": "https://localhost:8080/",
          "height": 144
        }
      },
      "cell_type": "code",
      "source": [
        "tot_data = len(img_arr)\n",
        "print(tot_data)\n",
        "train_split = 0.7\n",
        "validation_split = 0.7 + 0.15\n",
        "test_split = 0.7 + 0.15 + 0.15\n",
        "\n",
        "train_img = img_arr[:int(tot_data*train_split)]\n",
        "validation_img = img_arr[int(tot_data*train_split):int(tot_data*validation_split)]\n",
        "test_img = img_arr[int(tot_data*validation_split):]\n",
        "\n",
        "train_mask = mask_arr[:int(tot_data*train_split)]\n",
        "validation_mask = mask_arr[int(tot_data*train_split):int(tot_data*validation_split)]\n",
        "test_mask = mask_arr[int(tot_data*validation_split):]\n",
        "\n",
        "print(len(train_img))\n",
        "print(len(train_mask))\n",
        "\n",
        "print(len(validation_img))\n",
        "print(len(validation_mask))\n",
        "\n",
        "print(len(test_img))\n",
        "print(len(test_mask))"
      ],
      "execution_count": 0,
      "outputs": [
        {
          "output_type": "stream",
          "text": [
            "2594\n",
            "1815\n",
            "1815\n",
            "389\n",
            "389\n",
            "390\n",
            "390\n"
          ],
          "name": "stdout"
        }
      ]
    },
    {
      "metadata": {
        "id": "-ykUy60h-aKj",
        "colab_type": "code",
        "outputId": "731a4899-0f19-479b-ae33-83928661b3ae",
        "colab": {
          "base_uri": "https://localhost:8080/",
          "height": 35
        }
      },
      "cell_type": "code",
      "source": [
        "len(aug_imgs)"
      ],
      "execution_count": 0,
      "outputs": [
        {
          "output_type": "execute_result",
          "data": {
            "text/plain": [
              "2500"
            ]
          },
          "metadata": {
            "tags": []
          },
          "execution_count": 60
        }
      ]
    },
    {
      "metadata": {
        "id": "qRvsN7lu-jcA",
        "colab_type": "code",
        "outputId": "ed217d37-e11e-403b-efc1-4232fbf6d559",
        "colab": {
          "base_uri": "https://localhost:8080/",
          "height": 35
        }
      },
      "cell_type": "code",
      "source": [
        "len(aug_masks)"
      ],
      "execution_count": 0,
      "outputs": [
        {
          "output_type": "execute_result",
          "data": {
            "text/plain": [
              "2500"
            ]
          },
          "metadata": {
            "tags": []
          },
          "execution_count": 50
        }
      ]
    },
    {
      "metadata": {
        "id": "dZ_pAKo3-Pcz",
        "colab_type": "code",
        "colab": {}
      },
      "cell_type": "code",
      "source": [
        "# load augmented images\n",
        "num_train = len(aug_imgs)\n",
        "img_arr = []\n",
        "mask_arr = []\n",
        "for i in range(num_train):\n",
        "    a = cv2.imread(aug_imgs[i])\n",
        "    a = cv2.resize(a, (224, 224)) \n",
        "    a = np.array(a,dtype=np.uint8)\n",
        "    img_arr.append(a)\n",
        "\n",
        "    b = cv2.imread(aug_masks[i],0)\n",
        "    b = cv2.resize(b, (224, 224)) \n",
        "    b = np.array(b,dtype=np.uint8)\n",
        "    mask_arr.append(b)\n",
        "gen_batch = 0\n",
        "\n",
        "fin_arr = list(zip(img_arr,mask_arr))\n",
        "random.shuffle(fin_arr)\n",
        "img_arr = [x[0] for x in fin_arr]\n",
        "mask_arr = [x[1] for x in fin_arr]"
      ],
      "execution_count": 0,
      "outputs": []
    },
    {
      "metadata": {
        "id": "woWRERmC-5-W",
        "colab_type": "code",
        "outputId": "ffa240ba-f91b-4610-cd4d-f3a2b594d29b",
        "colab": {
          "base_uri": "https://localhost:8080/",
          "height": 90
        }
      },
      "cell_type": "code",
      "source": [
        "print(len(img_arr))\n",
        "print(len(mask_arr))\n",
        "print(img_arr[0].shape)\n",
        "print(mask_arr[0].shape)"
      ],
      "execution_count": 0,
      "outputs": [
        {
          "output_type": "stream",
          "text": [
            "2500\n",
            "2500\n",
            "(224, 224, 3)\n",
            "(224, 224)\n"
          ],
          "name": "stdout"
        }
      ]
    },
    {
      "metadata": {
        "id": "z2BUYED1_W5Y",
        "colab_type": "code",
        "colab": {}
      },
      "cell_type": "code",
      "source": [
        "# use it carefully, num_samples*0.8\n",
        "ns_t = int(len(aug_masks)*0.8)\n",
        "train_img.extend(img_arr[0:ns_t])\n",
        "train_mask.extend(mask_arr[0:ns_t])\n",
        "\n",
        "validation_img.extend(img_arr[ns_t:])\n",
        "validation_mask.extend(mask_arr[ns_t:])"
      ],
      "execution_count": 0,
      "outputs": []
    },
    {
      "metadata": {
        "id": "OBO6Xti__8ih",
        "colab_type": "code",
        "outputId": "134f89a9-4803-47ad-c6f4-daa5cc4e587b",
        "colab": {
          "base_uri": "https://localhost:8080/",
          "height": 90
        }
      },
      "cell_type": "code",
      "source": [
        "print(len(train_img))\n",
        "print(len(train_mask))\n",
        "print(len(validation_img))\n",
        "print(len(validation_mask))"
      ],
      "execution_count": 0,
      "outputs": [
        {
          "output_type": "stream",
          "text": [
            "3815\n",
            "3815\n",
            "889\n",
            "889\n"
          ],
          "name": "stdout"
        }
      ]
    },
    {
      "metadata": {
        "id": "dO_Xqh5cl7Q0",
        "colab_type": "code",
        "colab": {}
      },
      "cell_type": "code",
      "source": [
        "train_img = np.array(train_img, dtype = 'float32')\n",
        "train_img = preprocess_input(train_img)\n",
        "validation_img = np.array(validation_img, dtype = 'float32')\n",
        "validation_img = preprocess_input(validation_img)\n",
        "test_img = np.array(test_img, dtype = 'float32')\n",
        "test_img = preprocess_input(test_img)"
      ],
      "execution_count": 0,
      "outputs": []
    },
    {
      "metadata": {
        "id": "E12UXFffmKtX",
        "colab_type": "code",
        "outputId": "01bc0fdb-55f6-46b7-9a09-149127770f1a",
        "colab": {
          "base_uri": "https://localhost:8080/",
          "height": 72
        }
      },
      "cell_type": "code",
      "source": [
        "print(np.max(train_img[0]))\n",
        "print(np.max(validation_img[0]))\n",
        "print(np.max(test_img[0]))"
      ],
      "execution_count": 0,
      "outputs": [
        {
          "output_type": "stream",
          "text": [
            "0.89411765\n",
            "0.81960785\n",
            "0.9372549\n"
          ],
          "name": "stdout"
        }
      ]
    },
    {
      "metadata": {
        "id": "0XB4SosFm53Q",
        "colab_type": "code",
        "colab": {}
      },
      "cell_type": "code",
      "source": [
        "train_mask = np.array(train_mask, dtype = 'float32')\n",
        "train_mask = preprocess_input(train_mask)\n",
        "validation_mask = np.array(validation_mask, dtype = 'float32')\n",
        "validation_mask = preprocess_input(validation_mask)\n",
        "test_mask = np.array(test_mask, dtype = 'float32')\n",
        "test_mask = preprocess_input(test_mask)"
      ],
      "execution_count": 0,
      "outputs": []
    },
    {
      "metadata": {
        "id": "3P6DfTVAnMEC",
        "colab_type": "code",
        "outputId": "d7e8ccea-1ce3-4f6e-e4f9-1ac3b7e82a8c",
        "colab": {
          "base_uri": "https://localhost:8080/",
          "height": 72
        }
      },
      "cell_type": "code",
      "source": [
        "print(np.max(train_mask[0]))\n",
        "print(np.max(validation_mask[0]))\n",
        "print(np.max(test_mask[0]))"
      ],
      "execution_count": 0,
      "outputs": [
        {
          "output_type": "stream",
          "text": [
            "1.0\n",
            "1.0\n",
            "1.0\n"
          ],
          "name": "stdout"
        }
      ]
    },
    {
      "metadata": {
        "id": "-wBtMcrpb84P",
        "colab_type": "code",
        "outputId": "1f941b5d-0da0-420b-b173-7eff7c896bd9",
        "colab": {
          "base_uri": "https://localhost:8080/",
          "height": 53
        }
      },
      "cell_type": "code",
      "source": [
        "print(train_img[0].shape)\n",
        "print(train_mask[0].shape)"
      ],
      "execution_count": 0,
      "outputs": [
        {
          "output_type": "stream",
          "text": [
            "(224, 224, 3)\n",
            "(224, 224)\n"
          ],
          "name": "stdout"
        }
      ]
    },
    {
      "metadata": {
        "id": "KuhBfzByqt0h",
        "colab_type": "code",
        "outputId": "27c8e97c-de7a-49b3-82c4-bee8ee7c31aa",
        "colab": {
          "base_uri": "https://localhost:8080/",
          "height": 53
        }
      },
      "cell_type": "code",
      "source": [
        "print(train_mask.shape)\n",
        "n_s, r, c = train_mask.shape\n",
        "train_mask = train_mask.reshape(n_s, r, c, 1)\n",
        "print(train_mask.shape)"
      ],
      "execution_count": 0,
      "outputs": [
        {
          "output_type": "stream",
          "text": [
            "(3815, 224, 224)\n",
            "(3815, 224, 224, 1)\n"
          ],
          "name": "stdout"
        }
      ]
    },
    {
      "metadata": {
        "id": "yAaCjYAFrQJQ",
        "colab_type": "code",
        "outputId": "58bc6442-5678-43d7-bff4-8fa662a85c11",
        "colab": {
          "base_uri": "https://localhost:8080/",
          "height": 53
        }
      },
      "cell_type": "code",
      "source": [
        "print(validation_mask.shape)\n",
        "n_s, r, c = validation_mask.shape\n",
        "validation_mask = validation_mask.reshape(n_s, r, c, 1)\n",
        "print(validation_mask.shape)"
      ],
      "execution_count": 0,
      "outputs": [
        {
          "output_type": "stream",
          "text": [
            "(889, 224, 224)\n",
            "(889, 224, 224, 1)\n"
          ],
          "name": "stdout"
        }
      ]
    },
    {
      "metadata": {
        "id": "YCH2DOSordWG",
        "colab_type": "code",
        "outputId": "4b0c7690-1118-42d4-d546-715d9e806570",
        "colab": {
          "base_uri": "https://localhost:8080/",
          "height": 53
        }
      },
      "cell_type": "code",
      "source": [
        "print(test_mask.shape)\n",
        "n_s, r, c = test_mask.shape\n",
        "test_mask = test_mask.reshape(n_s, r, c, 1)\n",
        "print(test_mask.shape)"
      ],
      "execution_count": 0,
      "outputs": [
        {
          "output_type": "stream",
          "text": [
            "(390, 224, 224)\n",
            "(390, 224, 224, 1)\n"
          ],
          "name": "stdout"
        }
      ]
    },
    {
      "metadata": {
        "id": "SKaZ8rkXVwt-",
        "colab_type": "code",
        "outputId": "a659d207-3083-4849-85d3-ef1fe8c844d2",
        "colab": {
          "base_uri": "https://localhost:8080/",
          "height": 3693
        }
      },
      "cell_type": "code",
      "source": [
        "from keras.models import load_model\n",
        "from keras.optimizers import Adam\n",
        "import os\n",
        "\n",
        "out_model_path = 'unet_224_final_model.h5'\n",
        "epochs = 100\n",
        "patience = 20\n",
        "batch_size = 32\n",
        "optim_type = 'Adam'\n",
        "learning_rate = 0.001\n",
        "model = UNET_224()\n",
        "if os.path.isfile(out_model_path):\n",
        "    model.load_weights(out_model_path)\n",
        "\n",
        "if optim_type == 'SGD':\n",
        "    optim = SGD(lr=learning_rate, decay=1e-6, momentum=0.9, nesterov=True)\n",
        "else:\n",
        "    optim = Adam(lr=learning_rate)\n",
        "model.compile(optimizer=optim, loss=dice_coef_loss, metrics=[dice_coef, jacard_coef])\n",
        "\n",
        "\n",
        "model.summary()"
      ],
      "execution_count": 0,
      "outputs": [
        {
          "output_type": "stream",
          "text": [
            "__________________________________________________________________________________________________\n",
            "Layer (type)                    Output Shape         Param #     Connected to                     \n",
            "==================================================================================================\n",
            "input_3 (InputLayer)            (None, 224, 224, 3)  0                                            \n",
            "__________________________________________________________________________________________________\n",
            "conv2d_47 (Conv2D)              (None, 224, 224, 32) 896         input_3[0][0]                    \n",
            "__________________________________________________________________________________________________\n",
            "batch_normalization_45 (BatchNo (None, 224, 224, 32) 128         conv2d_47[0][0]                  \n",
            "__________________________________________________________________________________________________\n",
            "activation_47 (Activation)      (None, 224, 224, 32) 0           batch_normalization_45[0][0]     \n",
            "__________________________________________________________________________________________________\n",
            "conv2d_48 (Conv2D)              (None, 224, 224, 32) 9248        activation_47[0][0]              \n",
            "__________________________________________________________________________________________________\n",
            "batch_normalization_46 (BatchNo (None, 224, 224, 32) 128         conv2d_48[0][0]                  \n",
            "__________________________________________________________________________________________________\n",
            "activation_48 (Activation)      (None, 224, 224, 32) 0           batch_normalization_46[0][0]     \n",
            "__________________________________________________________________________________________________\n",
            "spatial_dropout2d_23 (SpatialDr (None, 224, 224, 32) 0           activation_48[0][0]              \n",
            "__________________________________________________________________________________________________\n",
            "max_pooling2d_11 (MaxPooling2D) (None, 112, 112, 32) 0           spatial_dropout2d_23[0][0]       \n",
            "__________________________________________________________________________________________________\n",
            "conv2d_49 (Conv2D)              (None, 112, 112, 64) 18496       max_pooling2d_11[0][0]           \n",
            "__________________________________________________________________________________________________\n",
            "batch_normalization_47 (BatchNo (None, 112, 112, 64) 256         conv2d_49[0][0]                  \n",
            "__________________________________________________________________________________________________\n",
            "activation_49 (Activation)      (None, 112, 112, 64) 0           batch_normalization_47[0][0]     \n",
            "__________________________________________________________________________________________________\n",
            "conv2d_50 (Conv2D)              (None, 112, 112, 64) 36928       activation_49[0][0]              \n",
            "__________________________________________________________________________________________________\n",
            "batch_normalization_48 (BatchNo (None, 112, 112, 64) 256         conv2d_50[0][0]                  \n",
            "__________________________________________________________________________________________________\n",
            "activation_50 (Activation)      (None, 112, 112, 64) 0           batch_normalization_48[0][0]     \n",
            "__________________________________________________________________________________________________\n",
            "spatial_dropout2d_24 (SpatialDr (None, 112, 112, 64) 0           activation_50[0][0]              \n",
            "__________________________________________________________________________________________________\n",
            "max_pooling2d_12 (MaxPooling2D) (None, 56, 56, 64)   0           spatial_dropout2d_24[0][0]       \n",
            "__________________________________________________________________________________________________\n",
            "conv2d_51 (Conv2D)              (None, 56, 56, 128)  73856       max_pooling2d_12[0][0]           \n",
            "__________________________________________________________________________________________________\n",
            "batch_normalization_49 (BatchNo (None, 56, 56, 128)  512         conv2d_51[0][0]                  \n",
            "__________________________________________________________________________________________________\n",
            "activation_51 (Activation)      (None, 56, 56, 128)  0           batch_normalization_49[0][0]     \n",
            "__________________________________________________________________________________________________\n",
            "conv2d_52 (Conv2D)              (None, 56, 56, 128)  147584      activation_51[0][0]              \n",
            "__________________________________________________________________________________________________\n",
            "batch_normalization_50 (BatchNo (None, 56, 56, 128)  512         conv2d_52[0][0]                  \n",
            "__________________________________________________________________________________________________\n",
            "activation_52 (Activation)      (None, 56, 56, 128)  0           batch_normalization_50[0][0]     \n",
            "__________________________________________________________________________________________________\n",
            "spatial_dropout2d_25 (SpatialDr (None, 56, 56, 128)  0           activation_52[0][0]              \n",
            "__________________________________________________________________________________________________\n",
            "max_pooling2d_13 (MaxPooling2D) (None, 28, 28, 128)  0           spatial_dropout2d_25[0][0]       \n",
            "__________________________________________________________________________________________________\n",
            "conv2d_53 (Conv2D)              (None, 28, 28, 256)  295168      max_pooling2d_13[0][0]           \n",
            "__________________________________________________________________________________________________\n",
            "batch_normalization_51 (BatchNo (None, 28, 28, 256)  1024        conv2d_53[0][0]                  \n",
            "__________________________________________________________________________________________________\n",
            "activation_53 (Activation)      (None, 28, 28, 256)  0           batch_normalization_51[0][0]     \n",
            "__________________________________________________________________________________________________\n",
            "conv2d_54 (Conv2D)              (None, 28, 28, 256)  590080      activation_53[0][0]              \n",
            "__________________________________________________________________________________________________\n",
            "batch_normalization_52 (BatchNo (None, 28, 28, 256)  1024        conv2d_54[0][0]                  \n",
            "__________________________________________________________________________________________________\n",
            "activation_54 (Activation)      (None, 28, 28, 256)  0           batch_normalization_52[0][0]     \n",
            "__________________________________________________________________________________________________\n",
            "spatial_dropout2d_26 (SpatialDr (None, 28, 28, 256)  0           activation_54[0][0]              \n",
            "__________________________________________________________________________________________________\n",
            "max_pooling2d_14 (MaxPooling2D) (None, 14, 14, 256)  0           spatial_dropout2d_26[0][0]       \n",
            "__________________________________________________________________________________________________\n",
            "conv2d_55 (Conv2D)              (None, 14, 14, 512)  1180160     max_pooling2d_14[0][0]           \n",
            "__________________________________________________________________________________________________\n",
            "batch_normalization_53 (BatchNo (None, 14, 14, 512)  2048        conv2d_55[0][0]                  \n",
            "__________________________________________________________________________________________________\n",
            "activation_55 (Activation)      (None, 14, 14, 512)  0           batch_normalization_53[0][0]     \n",
            "__________________________________________________________________________________________________\n",
            "conv2d_56 (Conv2D)              (None, 14, 14, 512)  2359808     activation_55[0][0]              \n",
            "__________________________________________________________________________________________________\n",
            "batch_normalization_54 (BatchNo (None, 14, 14, 512)  2048        conv2d_56[0][0]                  \n",
            "__________________________________________________________________________________________________\n",
            "activation_56 (Activation)      (None, 14, 14, 512)  0           batch_normalization_54[0][0]     \n",
            "__________________________________________________________________________________________________\n",
            "spatial_dropout2d_27 (SpatialDr (None, 14, 14, 512)  0           activation_56[0][0]              \n",
            "__________________________________________________________________________________________________\n",
            "max_pooling2d_15 (MaxPooling2D) (None, 7, 7, 512)    0           spatial_dropout2d_27[0][0]       \n",
            "__________________________________________________________________________________________________\n",
            "conv2d_57 (Conv2D)              (None, 7, 7, 1024)   4719616     max_pooling2d_15[0][0]           \n",
            "__________________________________________________________________________________________________\n",
            "batch_normalization_55 (BatchNo (None, 7, 7, 1024)   4096        conv2d_57[0][0]                  \n",
            "__________________________________________________________________________________________________\n",
            "activation_57 (Activation)      (None, 7, 7, 1024)   0           batch_normalization_55[0][0]     \n",
            "__________________________________________________________________________________________________\n",
            "conv2d_58 (Conv2D)              (None, 7, 7, 1024)   9438208     activation_57[0][0]              \n",
            "__________________________________________________________________________________________________\n",
            "batch_normalization_56 (BatchNo (None, 7, 7, 1024)   4096        conv2d_58[0][0]                  \n",
            "__________________________________________________________________________________________________\n",
            "activation_58 (Activation)      (None, 7, 7, 1024)   0           batch_normalization_56[0][0]     \n",
            "__________________________________________________________________________________________________\n",
            "spatial_dropout2d_28 (SpatialDr (None, 7, 7, 1024)   0           activation_58[0][0]              \n",
            "__________________________________________________________________________________________________\n",
            "up_sampling2d_11 (UpSampling2D) (None, 14, 14, 1024) 0           spatial_dropout2d_28[0][0]       \n",
            "__________________________________________________________________________________________________\n",
            "concatenate_11 (Concatenate)    (None, 14, 14, 1536) 0           up_sampling2d_11[0][0]           \n",
            "                                                                 spatial_dropout2d_27[0][0]       \n",
            "__________________________________________________________________________________________________\n",
            "conv2d_59 (Conv2D)              (None, 14, 14, 512)  7078400     concatenate_11[0][0]             \n",
            "__________________________________________________________________________________________________\n",
            "batch_normalization_57 (BatchNo (None, 14, 14, 512)  2048        conv2d_59[0][0]                  \n",
            "__________________________________________________________________________________________________\n",
            "activation_59 (Activation)      (None, 14, 14, 512)  0           batch_normalization_57[0][0]     \n",
            "__________________________________________________________________________________________________\n",
            "conv2d_60 (Conv2D)              (None, 14, 14, 512)  2359808     activation_59[0][0]              \n",
            "__________________________________________________________________________________________________\n",
            "batch_normalization_58 (BatchNo (None, 14, 14, 512)  2048        conv2d_60[0][0]                  \n",
            "__________________________________________________________________________________________________\n",
            "activation_60 (Activation)      (None, 14, 14, 512)  0           batch_normalization_58[0][0]     \n",
            "__________________________________________________________________________________________________\n",
            "spatial_dropout2d_29 (SpatialDr (None, 14, 14, 512)  0           activation_60[0][0]              \n",
            "__________________________________________________________________________________________________\n",
            "up_sampling2d_12 (UpSampling2D) (None, 28, 28, 512)  0           spatial_dropout2d_29[0][0]       \n",
            "__________________________________________________________________________________________________\n",
            "concatenate_12 (Concatenate)    (None, 28, 28, 768)  0           up_sampling2d_12[0][0]           \n",
            "                                                                 spatial_dropout2d_26[0][0]       \n",
            "__________________________________________________________________________________________________\n",
            "conv2d_61 (Conv2D)              (None, 28, 28, 256)  1769728     concatenate_12[0][0]             \n",
            "__________________________________________________________________________________________________\n",
            "batch_normalization_59 (BatchNo (None, 28, 28, 256)  1024        conv2d_61[0][0]                  \n",
            "__________________________________________________________________________________________________\n",
            "activation_61 (Activation)      (None, 28, 28, 256)  0           batch_normalization_59[0][0]     \n",
            "__________________________________________________________________________________________________\n",
            "conv2d_62 (Conv2D)              (None, 28, 28, 256)  590080      activation_61[0][0]              \n",
            "__________________________________________________________________________________________________\n",
            "batch_normalization_60 (BatchNo (None, 28, 28, 256)  1024        conv2d_62[0][0]                  \n",
            "__________________________________________________________________________________________________\n",
            "activation_62 (Activation)      (None, 28, 28, 256)  0           batch_normalization_60[0][0]     \n",
            "__________________________________________________________________________________________________\n",
            "spatial_dropout2d_30 (SpatialDr (None, 28, 28, 256)  0           activation_62[0][0]              \n",
            "__________________________________________________________________________________________________\n",
            "up_sampling2d_13 (UpSampling2D) (None, 56, 56, 256)  0           spatial_dropout2d_30[0][0]       \n",
            "__________________________________________________________________________________________________\n",
            "concatenate_13 (Concatenate)    (None, 56, 56, 384)  0           up_sampling2d_13[0][0]           \n",
            "                                                                 spatial_dropout2d_25[0][0]       \n",
            "__________________________________________________________________________________________________\n",
            "conv2d_63 (Conv2D)              (None, 56, 56, 128)  442496      concatenate_13[0][0]             \n",
            "__________________________________________________________________________________________________\n",
            "batch_normalization_61 (BatchNo (None, 56, 56, 128)  512         conv2d_63[0][0]                  \n",
            "__________________________________________________________________________________________________\n",
            "activation_63 (Activation)      (None, 56, 56, 128)  0           batch_normalization_61[0][0]     \n",
            "__________________________________________________________________________________________________\n",
            "conv2d_64 (Conv2D)              (None, 56, 56, 128)  147584      activation_63[0][0]              \n",
            "__________________________________________________________________________________________________\n",
            "batch_normalization_62 (BatchNo (None, 56, 56, 128)  512         conv2d_64[0][0]                  \n",
            "__________________________________________________________________________________________________\n",
            "activation_64 (Activation)      (None, 56, 56, 128)  0           batch_normalization_62[0][0]     \n",
            "__________________________________________________________________________________________________\n",
            "spatial_dropout2d_31 (SpatialDr (None, 56, 56, 128)  0           activation_64[0][0]              \n",
            "__________________________________________________________________________________________________\n",
            "up_sampling2d_14 (UpSampling2D) (None, 112, 112, 128 0           spatial_dropout2d_31[0][0]       \n",
            "__________________________________________________________________________________________________\n",
            "concatenate_14 (Concatenate)    (None, 112, 112, 192 0           up_sampling2d_14[0][0]           \n",
            "                                                                 spatial_dropout2d_24[0][0]       \n",
            "__________________________________________________________________________________________________\n",
            "conv2d_65 (Conv2D)              (None, 112, 112, 64) 110656      concatenate_14[0][0]             \n",
            "__________________________________________________________________________________________________\n",
            "batch_normalization_63 (BatchNo (None, 112, 112, 64) 256         conv2d_65[0][0]                  \n",
            "__________________________________________________________________________________________________\n",
            "activation_65 (Activation)      (None, 112, 112, 64) 0           batch_normalization_63[0][0]     \n",
            "__________________________________________________________________________________________________\n",
            "conv2d_66 (Conv2D)              (None, 112, 112, 64) 36928       activation_65[0][0]              \n",
            "__________________________________________________________________________________________________\n",
            "batch_normalization_64 (BatchNo (None, 112, 112, 64) 256         conv2d_66[0][0]                  \n",
            "__________________________________________________________________________________________________\n",
            "activation_66 (Activation)      (None, 112, 112, 64) 0           batch_normalization_64[0][0]     \n",
            "__________________________________________________________________________________________________\n",
            "spatial_dropout2d_32 (SpatialDr (None, 112, 112, 64) 0           activation_66[0][0]              \n",
            "__________________________________________________________________________________________________\n",
            "up_sampling2d_15 (UpSampling2D) (None, 224, 224, 64) 0           spatial_dropout2d_32[0][0]       \n",
            "__________________________________________________________________________________________________\n",
            "concatenate_15 (Concatenate)    (None, 224, 224, 96) 0           up_sampling2d_15[0][0]           \n",
            "                                                                 spatial_dropout2d_23[0][0]       \n",
            "__________________________________________________________________________________________________\n",
            "conv2d_67 (Conv2D)              (None, 224, 224, 32) 27680       concatenate_15[0][0]             \n",
            "__________________________________________________________________________________________________\n",
            "batch_normalization_65 (BatchNo (None, 224, 224, 32) 128         conv2d_67[0][0]                  \n",
            "__________________________________________________________________________________________________\n",
            "activation_67 (Activation)      (None, 224, 224, 32) 0           batch_normalization_65[0][0]     \n",
            "__________________________________________________________________________________________________\n",
            "conv2d_68 (Conv2D)              (None, 224, 224, 32) 9248        activation_67[0][0]              \n",
            "__________________________________________________________________________________________________\n",
            "batch_normalization_66 (BatchNo (None, 224, 224, 32) 128         conv2d_68[0][0]                  \n",
            "__________________________________________________________________________________________________\n",
            "activation_68 (Activation)      (None, 224, 224, 32) 0           batch_normalization_66[0][0]     \n",
            "__________________________________________________________________________________________________\n",
            "spatial_dropout2d_33 (SpatialDr (None, 224, 224, 32) 0           activation_68[0][0]              \n",
            "__________________________________________________________________________________________________\n",
            "conv2d_69 (Conv2D)              (None, 224, 224, 1)  33          spatial_dropout2d_33[0][0]       \n",
            "__________________________________________________________________________________________________\n",
            "activation_69 (Activation)      (None, 224, 224, 1)  0           conv2d_69[0][0]                  \n",
            "==================================================================================================\n",
            "Total params: 31,466,753\n",
            "Trainable params: 31,454,721\n",
            "Non-trainable params: 12,032\n",
            "__________________________________________________________________________________________________\n"
          ],
          "name": "stdout"
        }
      ]
    },
    {
      "metadata": {
        "id": "Pim9dR9ahYdx",
        "colab_type": "code",
        "outputId": "5de88bd8-6424-4002-9a21-d960452ea92a",
        "colab": {
          "base_uri": "https://localhost:8080/",
          "height": 7790
        }
      },
      "cell_type": "code",
      "source": [
        "from keras.models import load_model\n",
        "import os\n",
        "\n",
        "out_model_path = 'unet_224_final_model.h5'\n",
        "epochs = 100\n",
        "patience = 20\n",
        "batch_size = 32\n",
        "optim_type = 'Adam'\n",
        "learning_rate = 0.001\n",
        "model = UNET_224()\n",
        "if os.path.isfile(out_model_path):\n",
        "    model.load_weights(out_model_path)\n",
        "\n",
        "if optim_type == 'SGD':\n",
        "    optim = SGD(lr=learning_rate, decay=1e-6, momentum=0.9, nesterov=True)\n",
        "else:\n",
        "    optim = Adam(lr=learning_rate)\n",
        "model.compile(optimizer=optim, loss=dice_coef_loss, metrics=[dice_coef, jacard_coef])\n",
        "\n",
        "callbacks = [\n",
        "    ReduceLROnPlateau(monitor='val_loss', factor=0.5, patience=5, min_lr=1e-9, epsilon=0.00001, verbose=1, mode='min'),\n",
        "    #EarlyStopping(monitor='val_loss', patience=patience, verbose=0),\n",
        "    ModelCheckpoint('unet_224_best_weight.h5', monitor='val_loss', save_best_only=True, verbose=1),\n",
        "]\n",
        "\n",
        "print('Training Init()')\n",
        "history = model.fit(\n",
        "    x = train_img,\n",
        "    y = train_mask,\n",
        "    batch_size = batch_size,\n",
        "    epochs=epochs,\n",
        "    #steps_per_epoch= 1815//batch_size,\n",
        "    validation_data= (validation_img, validation_mask),\n",
        "    #validation_steps= 389//16,\n",
        "    verbose=1,\n",
        "    callbacks=callbacks)\n",
        "\n",
        "model.save(out_model_path)"
      ],
      "execution_count": 0,
      "outputs": [
        {
          "output_type": "stream",
          "text": [
            "/usr/local/lib/python3.6/dist-packages/keras/callbacks.py:928: UserWarning: `epsilon` argument is deprecated and will be removed, use `min_delta` insted.\n",
            "  warnings.warn('`epsilon` argument is deprecated and '\n"
          ],
          "name": "stderr"
        },
        {
          "output_type": "stream",
          "text": [
            "Training Init()\n",
            "Train on 3815 samples, validate on 889 samples\n",
            "Epoch 1/100\n",
            "3815/3815 [==============================] - 219s 57ms/step - loss: -0.6068 - dice_coef: 0.6068 - jacard_coef: 0.4406 - val_loss: -0.5632 - val_dice_coef: 0.5632 - val_jacard_coef: 0.3930\n",
            "\n",
            "Epoch 00001: val_loss improved from inf to -0.56323, saving model to unet_224_best_weight.h5\n",
            "Epoch 2/100\n",
            "3815/3815 [==============================] - 196s 51ms/step - loss: -0.7011 - dice_coef: 0.7011 - jacard_coef: 0.5420 - val_loss: -0.6594 - val_dice_coef: 0.6594 - val_jacard_coef: 0.4939\n",
            "\n",
            "Epoch 00002: val_loss improved from -0.56323 to -0.65941, saving model to unet_224_best_weight.h5\n",
            "Epoch 3/100\n",
            "3815/3815 [==============================] - 195s 51ms/step - loss: -0.7344 - dice_coef: 0.7344 - jacard_coef: 0.5830 - val_loss: -0.7583 - val_dice_coef: 0.7583 - val_jacard_coef: 0.6119\n",
            "\n",
            "Epoch 00003: val_loss improved from -0.65941 to -0.75829, saving model to unet_224_best_weight.h5\n",
            "Epoch 4/100\n",
            "3815/3815 [==============================] - 195s 51ms/step - loss: -0.7575 - dice_coef: 0.7575 - jacard_coef: 0.6122 - val_loss: -0.7837 - val_dice_coef: 0.7837 - val_jacard_coef: 0.6459\n",
            "\n",
            "Epoch 00004: val_loss improved from -0.75829 to -0.78370, saving model to unet_224_best_weight.h5\n",
            "Epoch 5/100\n",
            "3815/3815 [==============================] - 196s 51ms/step - loss: -0.7766 - dice_coef: 0.7766 - jacard_coef: 0.6369 - val_loss: -0.8033 - val_dice_coef: 0.8033 - val_jacard_coef: 0.6727\n",
            "\n",
            "Epoch 00005: val_loss improved from -0.78370 to -0.80330, saving model to unet_224_best_weight.h5\n",
            "Epoch 6/100\n",
            "3815/3815 [==============================] - 195s 51ms/step - loss: -0.7850 - dice_coef: 0.7850 - jacard_coef: 0.6483 - val_loss: -0.7908 - val_dice_coef: 0.7908 - val_jacard_coef: 0.6560\n",
            "\n",
            "Epoch 00006: val_loss did not improve from -0.80330\n",
            "Epoch 7/100\n",
            "3815/3815 [==============================] - 195s 51ms/step - loss: -0.7950 - dice_coef: 0.7950 - jacard_coef: 0.6613 - val_loss: -0.8047 - val_dice_coef: 0.8047 - val_jacard_coef: 0.6748\n",
            "\n",
            "Epoch 00007: val_loss improved from -0.80330 to -0.80473, saving model to unet_224_best_weight.h5\n",
            "Epoch 8/100\n",
            "3815/3815 [==============================] - 196s 51ms/step - loss: -0.8086 - dice_coef: 0.8086 - jacard_coef: 0.6806 - val_loss: -0.8166 - val_dice_coef: 0.8166 - val_jacard_coef: 0.6914\n",
            "\n",
            "Epoch 00008: val_loss improved from -0.80473 to -0.81660, saving model to unet_224_best_weight.h5\n",
            "Epoch 9/100\n",
            "3815/3815 [==============================] - 196s 51ms/step - loss: -0.8135 - dice_coef: 0.8135 - jacard_coef: 0.6878 - val_loss: -0.7765 - val_dice_coef: 0.7765 - val_jacard_coef: 0.6372\n",
            "\n",
            "Epoch 00009: val_loss did not improve from -0.81660\n",
            "Epoch 10/100\n",
            "3815/3815 [==============================] - 195s 51ms/step - loss: -0.8169 - dice_coef: 0.8169 - jacard_coef: 0.6927 - val_loss: -0.8389 - val_dice_coef: 0.8389 - val_jacard_coef: 0.7239\n",
            "\n",
            "Epoch 00010: val_loss improved from -0.81660 to -0.83892, saving model to unet_224_best_weight.h5\n",
            "Epoch 11/100\n",
            "3815/3815 [==============================] - 195s 51ms/step - loss: -0.8251 - dice_coef: 0.8251 - jacard_coef: 0.7043 - val_loss: -0.8315 - val_dice_coef: 0.8315 - val_jacard_coef: 0.7130\n",
            "\n",
            "Epoch 00011: val_loss did not improve from -0.83892\n",
            "Epoch 12/100\n",
            "3815/3815 [==============================] - 196s 51ms/step - loss: -0.8288 - dice_coef: 0.8288 - jacard_coef: 0.7093 - val_loss: -0.8296 - val_dice_coef: 0.8296 - val_jacard_coef: 0.7108\n",
            "\n",
            "Epoch 00012: val_loss did not improve from -0.83892\n",
            "Epoch 13/100\n",
            "3815/3815 [==============================] - 195s 51ms/step - loss: -0.8237 - dice_coef: 0.8237 - jacard_coef: 0.7026 - val_loss: -0.8290 - val_dice_coef: 0.8290 - val_jacard_coef: 0.7100\n",
            "\n",
            "Epoch 00013: val_loss did not improve from -0.83892\n",
            "Epoch 14/100\n",
            "3815/3815 [==============================] - 196s 51ms/step - loss: -0.8331 - dice_coef: 0.8331 - jacard_coef: 0.7154 - val_loss: -0.8384 - val_dice_coef: 0.8384 - val_jacard_coef: 0.7231\n",
            "\n",
            "Epoch 00014: val_loss did not improve from -0.83892\n",
            "Epoch 15/100\n",
            "3815/3815 [==============================] - 196s 51ms/step - loss: -0.8350 - dice_coef: 0.8350 - jacard_coef: 0.7185 - val_loss: -0.8388 - val_dice_coef: 0.8388 - val_jacard_coef: 0.7240\n",
            "\n",
            "Epoch 00015: ReduceLROnPlateau reducing learning rate to 0.0005000000237487257.\n",
            "\n",
            "Epoch 00015: val_loss did not improve from -0.83892\n",
            "Epoch 16/100\n",
            "3815/3815 [==============================] - 195s 51ms/step - loss: -0.8447 - dice_coef: 0.8447 - jacard_coef: 0.7327 - val_loss: -0.8600 - val_dice_coef: 0.8600 - val_jacard_coef: 0.7558\n",
            "\n",
            "Epoch 00016: val_loss improved from -0.83892 to -0.86002, saving model to unet_224_best_weight.h5\n",
            "Epoch 17/100\n",
            "3815/3815 [==============================] - 195s 51ms/step - loss: -0.8491 - dice_coef: 0.8491 - jacard_coef: 0.7389 - val_loss: -0.8594 - val_dice_coef: 0.8594 - val_jacard_coef: 0.7551\n",
            "\n",
            "Epoch 00017: val_loss did not improve from -0.86002\n",
            "Epoch 18/100\n",
            "3815/3815 [==============================] - 195s 51ms/step - loss: -0.8503 - dice_coef: 0.8503 - jacard_coef: 0.7408 - val_loss: -0.8147 - val_dice_coef: 0.8147 - val_jacard_coef: 0.6889\n",
            "\n",
            "Epoch 00018: val_loss did not improve from -0.86002\n",
            "Epoch 19/100\n",
            "3815/3815 [==============================] - 196s 51ms/step - loss: -0.8508 - dice_coef: 0.8508 - jacard_coef: 0.7417 - val_loss: -0.8596 - val_dice_coef: 0.8596 - val_jacard_coef: 0.7550\n",
            "\n",
            "Epoch 00019: val_loss did not improve from -0.86002\n",
            "Epoch 20/100\n",
            "3815/3815 [==============================] - 195s 51ms/step - loss: -0.8542 - dice_coef: 0.8542 - jacard_coef: 0.7470 - val_loss: -0.8519 - val_dice_coef: 0.8519 - val_jacard_coef: 0.7438\n",
            "\n",
            "Epoch 00020: val_loss did not improve from -0.86002\n",
            "Epoch 21/100\n",
            "3815/3815 [==============================] - 195s 51ms/step - loss: -0.8566 - dice_coef: 0.8566 - jacard_coef: 0.7505 - val_loss: -0.8707 - val_dice_coef: 0.8707 - val_jacard_coef: 0.7721\n",
            "\n",
            "Epoch 00021: val_loss improved from -0.86002 to -0.87071, saving model to unet_224_best_weight.h5\n",
            "Epoch 22/100\n",
            "3815/3815 [==============================] - 196s 51ms/step - loss: -0.8557 - dice_coef: 0.8557 - jacard_coef: 0.7490 - val_loss: -0.8598 - val_dice_coef: 0.8598 - val_jacard_coef: 0.7555\n",
            "\n",
            "Epoch 00022: val_loss did not improve from -0.87071\n",
            "Epoch 23/100\n",
            "3815/3815 [==============================] - 196s 51ms/step - loss: -0.8594 - dice_coef: 0.8594 - jacard_coef: 0.7545 - val_loss: -0.8242 - val_dice_coef: 0.8242 - val_jacard_coef: 0.7034\n",
            "\n",
            "Epoch 00023: val_loss did not improve from -0.87071\n",
            "Epoch 24/100\n",
            "3815/3815 [==============================] - 195s 51ms/step - loss: -0.8603 - dice_coef: 0.8603 - jacard_coef: 0.7563 - val_loss: -0.8438 - val_dice_coef: 0.8438 - val_jacard_coef: 0.7317\n",
            "\n",
            "Epoch 00024: val_loss did not improve from -0.87071\n",
            "Epoch 25/100\n",
            "3815/3815 [==============================] - 195s 51ms/step - loss: -0.8577 - dice_coef: 0.8577 - jacard_coef: 0.7523 - val_loss: -0.8606 - val_dice_coef: 0.8606 - val_jacard_coef: 0.7570\n",
            "\n",
            "Epoch 00025: val_loss did not improve from -0.87071\n",
            "Epoch 26/100\n",
            "3815/3815 [==============================] - 196s 51ms/step - loss: -0.8606 - dice_coef: 0.8606 - jacard_coef: 0.7568 - val_loss: -0.8656 - val_dice_coef: 0.8656 - val_jacard_coef: 0.7646\n",
            "\n",
            "Epoch 00026: ReduceLROnPlateau reducing learning rate to 0.0002500000118743628.\n",
            "\n",
            "Epoch 00026: val_loss did not improve from -0.87071\n",
            "Epoch 27/100\n",
            "3815/3815 [==============================] - 195s 51ms/step - loss: -0.8620 - dice_coef: 0.8620 - jacard_coef: 0.7588 - val_loss: -0.8764 - val_dice_coef: 0.8764 - val_jacard_coef: 0.7814\n",
            "\n",
            "Epoch 00027: val_loss improved from -0.87071 to -0.87637, saving model to unet_224_best_weight.h5\n",
            "Epoch 28/100\n",
            "3815/3815 [==============================] - 196s 51ms/step - loss: -0.8690 - dice_coef: 0.8690 - jacard_coef: 0.7693 - val_loss: -0.8763 - val_dice_coef: 0.8763 - val_jacard_coef: 0.7811\n",
            "\n",
            "Epoch 00028: val_loss did not improve from -0.87637\n",
            "Epoch 29/100\n",
            "3815/3815 [==============================] - 196s 51ms/step - loss: -0.8712 - dice_coef: 0.8712 - jacard_coef: 0.7729 - val_loss: -0.8764 - val_dice_coef: 0.8764 - val_jacard_coef: 0.7813\n",
            "\n",
            "Epoch 00029: val_loss improved from -0.87637 to -0.87640, saving model to unet_224_best_weight.h5\n",
            "Epoch 30/100\n",
            "3815/3815 [==============================] - 195s 51ms/step - loss: -0.8737 - dice_coef: 0.8737 - jacard_coef: 0.7768 - val_loss: -0.8783 - val_dice_coef: 0.8783 - val_jacard_coef: 0.7841\n",
            "\n",
            "Epoch 00030: val_loss improved from -0.87640 to -0.87830, saving model to unet_224_best_weight.h5\n",
            "Epoch 31/100\n",
            "3815/3815 [==============================] - 195s 51ms/step - loss: -0.8734 - dice_coef: 0.8734 - jacard_coef: 0.7765 - val_loss: -0.8735 - val_dice_coef: 0.8735 - val_jacard_coef: 0.7770\n",
            "\n",
            "Epoch 00031: val_loss did not improve from -0.87830\n",
            "Epoch 32/100\n",
            "3815/3815 [==============================] - 196s 51ms/step - loss: -0.8723 - dice_coef: 0.8723 - jacard_coef: 0.7746 - val_loss: -0.8619 - val_dice_coef: 0.8619 - val_jacard_coef: 0.7590\n",
            "\n",
            "Epoch 00032: val_loss did not improve from -0.87830\n",
            "Epoch 33/100\n",
            "3815/3815 [==============================] - 196s 51ms/step - loss: -0.8735 - dice_coef: 0.8735 - jacard_coef: 0.7767 - val_loss: -0.8768 - val_dice_coef: 0.8768 - val_jacard_coef: 0.7819\n",
            "\n",
            "Epoch 00033: val_loss did not improve from -0.87830\n",
            "Epoch 34/100\n",
            "3815/3815 [==============================] - 195s 51ms/step - loss: -0.8737 - dice_coef: 0.8737 - jacard_coef: 0.7768 - val_loss: -0.8687 - val_dice_coef: 0.8687 - val_jacard_coef: 0.7695\n",
            "\n",
            "Epoch 00034: val_loss did not improve from -0.87830\n",
            "Epoch 35/100\n",
            "3815/3815 [==============================] - 196s 51ms/step - loss: -0.8760 - dice_coef: 0.8760 - jacard_coef: 0.7804 - val_loss: -0.8764 - val_dice_coef: 0.8764 - val_jacard_coef: 0.7811\n",
            "\n",
            "Epoch 00035: ReduceLROnPlateau reducing learning rate to 0.0001250000059371814.\n",
            "\n",
            "Epoch 00035: val_loss did not improve from -0.87830\n",
            "Epoch 36/100\n",
            "3815/3815 [==============================] - 196s 51ms/step - loss: -0.8783 - dice_coef: 0.8783 - jacard_coef: 0.7842 - val_loss: -0.8814 - val_dice_coef: 0.8814 - val_jacard_coef: 0.7893\n",
            "\n",
            "Epoch 00036: val_loss improved from -0.87830 to -0.88144, saving model to unet_224_best_weight.h5\n",
            "Epoch 37/100\n",
            "3815/3815 [==============================] - 195s 51ms/step - loss: -0.8789 - dice_coef: 0.8789 - jacard_coef: 0.7853 - val_loss: -0.8812 - val_dice_coef: 0.8812 - val_jacard_coef: 0.7889\n",
            "\n",
            "Epoch 00037: val_loss did not improve from -0.88144\n",
            "Epoch 38/100\n",
            "3815/3815 [==============================] - 195s 51ms/step - loss: -0.8796 - dice_coef: 0.8796 - jacard_coef: 0.7865 - val_loss: -0.8819 - val_dice_coef: 0.8819 - val_jacard_coef: 0.7900\n",
            "\n",
            "Epoch 00038: val_loss improved from -0.88144 to -0.88192, saving model to unet_224_best_weight.h5\n",
            "Epoch 39/100\n",
            "3815/3815 [==============================] - 196s 51ms/step - loss: -0.8812 - dice_coef: 0.8812 - jacard_coef: 0.7884 - val_loss: -0.8810 - val_dice_coef: 0.8810 - val_jacard_coef: 0.7888\n",
            "\n",
            "Epoch 00039: val_loss did not improve from -0.88192\n",
            "Epoch 40/100\n",
            "3815/3815 [==============================] - 196s 51ms/step - loss: -0.8826 - dice_coef: 0.8826 - jacard_coef: 0.7906 - val_loss: -0.8766 - val_dice_coef: 0.8766 - val_jacard_coef: 0.7820\n",
            "\n",
            "Epoch 00040: val_loss did not improve from -0.88192\n",
            "Epoch 41/100\n",
            "3815/3815 [==============================] - 195s 51ms/step - loss: -0.8825 - dice_coef: 0.8825 - jacard_coef: 0.7908 - val_loss: -0.8850 - val_dice_coef: 0.8850 - val_jacard_coef: 0.7949\n",
            "\n",
            "Epoch 00041: val_loss improved from -0.88192 to -0.88503, saving model to unet_224_best_weight.h5\n",
            "Epoch 42/100\n",
            "3815/3815 [==============================] - 196s 51ms/step - loss: -0.8813 - dice_coef: 0.8813 - jacard_coef: 0.7887 - val_loss: -0.8847 - val_dice_coef: 0.8847 - val_jacard_coef: 0.7944\n",
            "\n",
            "Epoch 00042: val_loss did not improve from -0.88503\n",
            "Epoch 43/100\n",
            "3815/3815 [==============================] - 196s 51ms/step - loss: -0.8869 - dice_coef: 0.8869 - jacard_coef: 0.7976 - val_loss: -0.8804 - val_dice_coef: 0.8804 - val_jacard_coef: 0.7878\n",
            "\n",
            "Epoch 00043: val_loss did not improve from -0.88503\n",
            "Epoch 44/100\n",
            "3815/3815 [==============================] - 195s 51ms/step - loss: -0.8859 - dice_coef: 0.8859 - jacard_coef: 0.7960 - val_loss: -0.8840 - val_dice_coef: 0.8840 - val_jacard_coef: 0.7933\n",
            "\n",
            "Epoch 00044: val_loss did not improve from -0.88503\n",
            "Epoch 45/100\n",
            "3815/3815 [==============================] - 195s 51ms/step - loss: -0.8843 - dice_coef: 0.8843 - jacard_coef: 0.7937 - val_loss: -0.8858 - val_dice_coef: 0.8858 - val_jacard_coef: 0.7960\n",
            "\n",
            "Epoch 00045: val_loss improved from -0.88503 to -0.88577, saving model to unet_224_best_weight.h5\n",
            "Epoch 46/100\n",
            "3815/3815 [==============================] - 195s 51ms/step - loss: -0.8880 - dice_coef: 0.8880 - jacard_coef: 0.7992 - val_loss: -0.8804 - val_dice_coef: 0.8804 - val_jacard_coef: 0.7876\n",
            "\n",
            "Epoch 00046: val_loss did not improve from -0.88577\n",
            "Epoch 47/100\n",
            "3815/3815 [==============================] - 195s 51ms/step - loss: -0.8869 - dice_coef: 0.8869 - jacard_coef: 0.7977 - val_loss: -0.8865 - val_dice_coef: 0.8865 - val_jacard_coef: 0.7971\n",
            "\n",
            "Epoch 00047: val_loss improved from -0.88577 to -0.88645, saving model to unet_224_best_weight.h5\n",
            "Epoch 48/100\n",
            "3815/3815 [==============================] - 195s 51ms/step - loss: -0.8896 - dice_coef: 0.8896 - jacard_coef: 0.8019 - val_loss: -0.8844 - val_dice_coef: 0.8844 - val_jacard_coef: 0.7940\n",
            "\n",
            "Epoch 00048: val_loss did not improve from -0.88645\n",
            "Epoch 49/100\n",
            "3815/3815 [==============================] - 195s 51ms/step - loss: -0.8860 - dice_coef: 0.8860 - jacard_coef: 0.7966 - val_loss: -0.8835 - val_dice_coef: 0.8835 - val_jacard_coef: 0.7924\n",
            "\n",
            "Epoch 00049: val_loss did not improve from -0.88645\n",
            "Epoch 50/100\n",
            "3815/3815 [==============================] - 195s 51ms/step - loss: -0.8880 - dice_coef: 0.8880 - jacard_coef: 0.7994 - val_loss: -0.8837 - val_dice_coef: 0.8837 - val_jacard_coef: 0.7928\n",
            "\n",
            "Epoch 00050: val_loss did not improve from -0.88645\n",
            "Epoch 51/100\n",
            "3815/3815 [==============================] - 195s 51ms/step - loss: -0.8907 - dice_coef: 0.8907 - jacard_coef: 0.8038 - val_loss: -0.8831 - val_dice_coef: 0.8831 - val_jacard_coef: 0.7921\n",
            "\n",
            "Epoch 00051: val_loss did not improve from -0.88645\n",
            "Epoch 52/100\n",
            "3815/3815 [==============================] - 195s 51ms/step - loss: -0.8907 - dice_coef: 0.8907 - jacard_coef: 0.8036 - val_loss: -0.8841 - val_dice_coef: 0.8841 - val_jacard_coef: 0.7935\n",
            "\n",
            "Epoch 00052: ReduceLROnPlateau reducing learning rate to 6.25000029685907e-05.\n",
            "\n",
            "Epoch 00052: val_loss did not improve from -0.88645\n",
            "Epoch 53/100\n",
            "3815/3815 [==============================] - 195s 51ms/step - loss: -0.8932 - dice_coef: 0.8932 - jacard_coef: 0.8077 - val_loss: -0.8861 - val_dice_coef: 0.8861 - val_jacard_coef: 0.7967\n",
            "\n",
            "Epoch 00053: val_loss did not improve from -0.88645\n",
            "Epoch 54/100\n",
            "3815/3815 [==============================] - 195s 51ms/step - loss: -0.8924 - dice_coef: 0.8924 - jacard_coef: 0.8066 - val_loss: -0.8855 - val_dice_coef: 0.8855 - val_jacard_coef: 0.7958\n",
            "\n",
            "Epoch 00054: val_loss did not improve from -0.88645\n",
            "Epoch 55/100\n",
            "3815/3815 [==============================] - 195s 51ms/step - loss: -0.8948 - dice_coef: 0.8948 - jacard_coef: 0.8104 - val_loss: -0.8889 - val_dice_coef: 0.8889 - val_jacard_coef: 0.8011\n",
            "\n",
            "Epoch 00055: val_loss improved from -0.88645 to -0.88895, saving model to unet_224_best_weight.h5\n",
            "Epoch 56/100\n",
            "3815/3815 [==============================] - 195s 51ms/step - loss: -0.8931 - dice_coef: 0.8931 - jacard_coef: 0.8077 - val_loss: -0.8882 - val_dice_coef: 0.8882 - val_jacard_coef: 0.7999\n",
            "\n",
            "Epoch 00056: val_loss did not improve from -0.88895\n",
            "Epoch 57/100\n",
            "3815/3815 [==============================] - 195s 51ms/step - loss: -0.8927 - dice_coef: 0.8927 - jacard_coef: 0.8070 - val_loss: -0.8874 - val_dice_coef: 0.8874 - val_jacard_coef: 0.7987\n",
            "\n",
            "Epoch 00057: val_loss did not improve from -0.88895\n",
            "Epoch 58/100\n",
            "3815/3815 [==============================] - 195s 51ms/step - loss: -0.8976 - dice_coef: 0.8976 - jacard_coef: 0.8149 - val_loss: -0.8866 - val_dice_coef: 0.8866 - val_jacard_coef: 0.7976\n",
            "\n",
            "Epoch 00058: val_loss did not improve from -0.88895\n",
            "Epoch 59/100\n",
            "3815/3815 [==============================] - 195s 51ms/step - loss: -0.8946 - dice_coef: 0.8946 - jacard_coef: 0.8100 - val_loss: -0.8880 - val_dice_coef: 0.8880 - val_jacard_coef: 0.7997\n",
            "\n",
            "Epoch 00059: val_loss did not improve from -0.88895\n",
            "Epoch 60/100\n",
            "3815/3815 [==============================] - 195s 51ms/step - loss: -0.8945 - dice_coef: 0.8945 - jacard_coef: 0.8099 - val_loss: -0.8874 - val_dice_coef: 0.8874 - val_jacard_coef: 0.7987\n",
            "\n",
            "Epoch 00060: ReduceLROnPlateau reducing learning rate to 3.125000148429535e-05.\n",
            "\n",
            "Epoch 00060: val_loss did not improve from -0.88895\n",
            "Epoch 61/100\n",
            "3815/3815 [==============================] - 195s 51ms/step - loss: -0.8966 - dice_coef: 0.8966 - jacard_coef: 0.8133 - val_loss: -0.8886 - val_dice_coef: 0.8886 - val_jacard_coef: 0.8007\n",
            "\n",
            "Epoch 00061: val_loss did not improve from -0.88895\n",
            "Epoch 62/100\n",
            "3815/3815 [==============================] - 195s 51ms/step - loss: -0.8971 - dice_coef: 0.8971 - jacard_coef: 0.8141 - val_loss: -0.8879 - val_dice_coef: 0.8879 - val_jacard_coef: 0.7996\n",
            "\n",
            "Epoch 00062: val_loss did not improve from -0.88895\n",
            "Epoch 63/100\n",
            "3815/3815 [==============================] - 195s 51ms/step - loss: -0.8978 - dice_coef: 0.8978 - jacard_coef: 0.8153 - val_loss: -0.8892 - val_dice_coef: 0.8892 - val_jacard_coef: 0.8016\n",
            "\n",
            "Epoch 00063: val_loss improved from -0.88895 to -0.88919, saving model to unet_224_best_weight.h5\n",
            "Epoch 64/100\n",
            "3815/3815 [==============================] - 195s 51ms/step - loss: -0.8985 - dice_coef: 0.8985 - jacard_coef: 0.8164 - val_loss: -0.8897 - val_dice_coef: 0.8897 - val_jacard_coef: 0.8024\n",
            "\n",
            "Epoch 00064: val_loss improved from -0.88919 to -0.88969, saving model to unet_224_best_weight.h5\n",
            "Epoch 65/100\n",
            "3815/3815 [==============================] - 195s 51ms/step - loss: -0.8980 - dice_coef: 0.8980 - jacard_coef: 0.8156 - val_loss: -0.8892 - val_dice_coef: 0.8892 - val_jacard_coef: 0.8017\n",
            "\n",
            "Epoch 00065: val_loss did not improve from -0.88969\n",
            "Epoch 66/100\n",
            "3815/3815 [==============================] - 195s 51ms/step - loss: -0.8985 - dice_coef: 0.8985 - jacard_coef: 0.8166 - val_loss: -0.8890 - val_dice_coef: 0.8890 - val_jacard_coef: 0.8014\n",
            "\n",
            "Epoch 00066: val_loss did not improve from -0.88969\n",
            "Epoch 67/100\n",
            "3815/3815 [==============================] - 195s 51ms/step - loss: -0.8974 - dice_coef: 0.8974 - jacard_coef: 0.8145 - val_loss: -0.8890 - val_dice_coef: 0.8890 - val_jacard_coef: 0.8014\n",
            "\n",
            "Epoch 00067: val_loss did not improve from -0.88969\n",
            "Epoch 68/100\n",
            "3815/3815 [==============================] - 195s 51ms/step - loss: -0.8990 - dice_coef: 0.8990 - jacard_coef: 0.8172 - val_loss: -0.8889 - val_dice_coef: 0.8889 - val_jacard_coef: 0.8013\n",
            "\n",
            "Epoch 00068: val_loss did not improve from -0.88969\n",
            "Epoch 69/100\n",
            "3815/3815 [==============================] - 195s 51ms/step - loss: -0.8987 - dice_coef: 0.8987 - jacard_coef: 0.8168 - val_loss: -0.8880 - val_dice_coef: 0.8880 - val_jacard_coef: 0.7998\n",
            "\n",
            "Epoch 00069: ReduceLROnPlateau reducing learning rate to 1.5625000742147677e-05.\n",
            "\n",
            "Epoch 00069: val_loss did not improve from -0.88969\n",
            "Epoch 70/100\n",
            "3815/3815 [==============================] - 195s 51ms/step - loss: -0.8970 - dice_coef: 0.8970 - jacard_coef: 0.8139 - val_loss: -0.8887 - val_dice_coef: 0.8887 - val_jacard_coef: 0.8009\n",
            "\n",
            "Epoch 00070: val_loss did not improve from -0.88969\n",
            "Epoch 71/100\n",
            "3815/3815 [==============================] - 195s 51ms/step - loss: -0.8974 - dice_coef: 0.8974 - jacard_coef: 0.8151 - val_loss: -0.8891 - val_dice_coef: 0.8891 - val_jacard_coef: 0.8015\n",
            "\n",
            "Epoch 00071: val_loss did not improve from -0.88969\n",
            "Epoch 72/100\n",
            "3815/3815 [==============================] - 195s 51ms/step - loss: -0.8967 - dice_coef: 0.8967 - jacard_coef: 0.8134 - val_loss: -0.8886 - val_dice_coef: 0.8886 - val_jacard_coef: 0.8008\n",
            "\n",
            "Epoch 00072: val_loss did not improve from -0.88969\n",
            "Epoch 73/100\n",
            "3815/3815 [==============================] - 195s 51ms/step - loss: -0.8998 - dice_coef: 0.8998 - jacard_coef: 0.8185 - val_loss: -0.8897 - val_dice_coef: 0.8897 - val_jacard_coef: 0.8025\n",
            "\n",
            "Epoch 00073: val_loss did not improve from -0.88969\n",
            "Epoch 74/100\n",
            "3815/3815 [==============================] - 195s 51ms/step - loss: -0.9011 - dice_coef: 0.9011 - jacard_coef: 0.8207 - val_loss: -0.8892 - val_dice_coef: 0.8892 - val_jacard_coef: 0.8017\n",
            "\n",
            "Epoch 00074: ReduceLROnPlateau reducing learning rate to 7.812500371073838e-06.\n",
            "\n",
            "Epoch 00074: val_loss did not improve from -0.88969\n",
            "Epoch 75/100\n",
            "3815/3815 [==============================] - 195s 51ms/step - loss: -0.8991 - dice_coef: 0.8991 - jacard_coef: 0.8175 - val_loss: -0.8895 - val_dice_coef: 0.8895 - val_jacard_coef: 0.8022\n",
            "\n",
            "Epoch 00075: val_loss did not improve from -0.88969\n",
            "Epoch 76/100\n",
            "3815/3815 [==============================] - 195s 51ms/step - loss: -0.8973 - dice_coef: 0.8973 - jacard_coef: 0.8146 - val_loss: -0.8894 - val_dice_coef: 0.8894 - val_jacard_coef: 0.8020\n",
            "\n",
            "Epoch 00076: val_loss did not improve from -0.88969\n",
            "Epoch 77/100\n",
            "3815/3815 [==============================] - 195s 51ms/step - loss: -0.8987 - dice_coef: 0.8987 - jacard_coef: 0.8168 - val_loss: -0.8898 - val_dice_coef: 0.8898 - val_jacard_coef: 0.8027\n",
            "\n",
            "Epoch 00077: val_loss improved from -0.88969 to -0.88982, saving model to unet_224_best_weight.h5\n",
            "Epoch 78/100\n",
            "3815/3815 [==============================] - 195s 51ms/step - loss: -0.9007 - dice_coef: 0.9007 - jacard_coef: 0.8200 - val_loss: -0.8896 - val_dice_coef: 0.8896 - val_jacard_coef: 0.8023\n",
            "\n",
            "Epoch 00078: val_loss did not improve from -0.88982\n",
            "Epoch 79/100\n",
            "3815/3815 [==============================] - 195s 51ms/step - loss: -0.8983 - dice_coef: 0.8983 - jacard_coef: 0.8162 - val_loss: -0.8900 - val_dice_coef: 0.8900 - val_jacard_coef: 0.8029\n",
            "\n",
            "Epoch 00079: val_loss improved from -0.88982 to -0.88997, saving model to unet_224_best_weight.h5\n",
            "Epoch 80/100\n",
            "3815/3815 [==============================] - 195s 51ms/step - loss: -0.8996 - dice_coef: 0.8996 - jacard_coef: 0.8182 - val_loss: -0.8902 - val_dice_coef: 0.8902 - val_jacard_coef: 0.8032\n",
            "\n",
            "Epoch 00080: val_loss improved from -0.88997 to -0.89018, saving model to unet_224_best_weight.h5\n",
            "Epoch 81/100\n",
            "3815/3815 [==============================] - 195s 51ms/step - loss: -0.9000 - dice_coef: 0.9000 - jacard_coef: 0.8190 - val_loss: -0.8899 - val_dice_coef: 0.8899 - val_jacard_coef: 0.8029\n",
            "\n",
            "Epoch 00081: val_loss did not improve from -0.89018\n",
            "Epoch 82/100\n",
            "3815/3815 [==============================] - 195s 51ms/step - loss: -0.8999 - dice_coef: 0.8999 - jacard_coef: 0.8188 - val_loss: -0.8898 - val_dice_coef: 0.8898 - val_jacard_coef: 0.8026\n",
            "\n",
            "Epoch 00082: val_loss did not improve from -0.89018\n",
            "Epoch 83/100\n",
            "3815/3815 [==============================] - 195s 51ms/step - loss: -0.8999 - dice_coef: 0.8999 - jacard_coef: 0.8189 - val_loss: -0.8894 - val_dice_coef: 0.8894 - val_jacard_coef: 0.8019\n",
            "\n",
            "Epoch 00083: val_loss did not improve from -0.89018\n",
            "Epoch 84/100\n",
            "3815/3815 [==============================] - 195s 51ms/step - loss: -0.9022 - dice_coef: 0.9022 - jacard_coef: 0.8223 - val_loss: -0.8897 - val_dice_coef: 0.8897 - val_jacard_coef: 0.8024\n",
            "\n",
            "Epoch 00084: val_loss did not improve from -0.89018\n",
            "Epoch 85/100\n",
            "3815/3815 [==============================] - 195s 51ms/step - loss: -0.9002 - dice_coef: 0.9002 - jacard_coef: 0.8191 - val_loss: -0.8894 - val_dice_coef: 0.8894 - val_jacard_coef: 0.8020\n",
            "\n",
            "Epoch 00085: ReduceLROnPlateau reducing learning rate to 3.906250185536919e-06.\n",
            "\n",
            "Epoch 00085: val_loss did not improve from -0.89018\n",
            "Epoch 86/100\n",
            "3815/3815 [==============================] - 195s 51ms/step - loss: -0.9001 - dice_coef: 0.9001 - jacard_coef: 0.8190 - val_loss: -0.8897 - val_dice_coef: 0.8897 - val_jacard_coef: 0.8025\n",
            "\n",
            "Epoch 00086: val_loss did not improve from -0.89018\n",
            "Epoch 87/100\n",
            "3815/3815 [==============================] - 195s 51ms/step - loss: -0.8993 - dice_coef: 0.8993 - jacard_coef: 0.8178 - val_loss: -0.8896 - val_dice_coef: 0.8896 - val_jacard_coef: 0.8023\n",
            "\n",
            "Epoch 00087: val_loss did not improve from -0.89018\n",
            "Epoch 88/100\n",
            "3815/3815 [==============================] - 195s 51ms/step - loss: -0.8984 - dice_coef: 0.8984 - jacard_coef: 0.8162 - val_loss: -0.8896 - val_dice_coef: 0.8896 - val_jacard_coef: 0.8023\n",
            "\n",
            "Epoch 00088: val_loss did not improve from -0.89018\n",
            "Epoch 89/100\n",
            "3815/3815 [==============================] - 195s 51ms/step - loss: -0.8999 - dice_coef: 0.8999 - jacard_coef: 0.8187 - val_loss: -0.8895 - val_dice_coef: 0.8895 - val_jacard_coef: 0.8021\n",
            "\n",
            "Epoch 00089: val_loss did not improve from -0.89018\n",
            "Epoch 90/100\n",
            "3815/3815 [==============================] - 195s 51ms/step - loss: -0.9006 - dice_coef: 0.9006 - jacard_coef: 0.8198 - val_loss: -0.8896 - val_dice_coef: 0.8896 - val_jacard_coef: 0.8023\n",
            "\n",
            "Epoch 00090: ReduceLROnPlateau reducing learning rate to 1.9531250927684596e-06.\n",
            "\n",
            "Epoch 00090: val_loss did not improve from -0.89018\n",
            "Epoch 91/100\n",
            "3815/3815 [==============================] - 195s 51ms/step - loss: -0.8987 - dice_coef: 0.8987 - jacard_coef: 0.8167 - val_loss: -0.8898 - val_dice_coef: 0.8898 - val_jacard_coef: 0.8026\n",
            "\n",
            "Epoch 00091: val_loss did not improve from -0.89018\n",
            "Epoch 92/100\n",
            "3815/3815 [==============================] - 195s 51ms/step - loss: -0.9003 - dice_coef: 0.9003 - jacard_coef: 0.8196 - val_loss: -0.8897 - val_dice_coef: 0.8897 - val_jacard_coef: 0.8026\n",
            "\n",
            "Epoch 00092: val_loss did not improve from -0.89018\n",
            "Epoch 93/100\n",
            "3815/3815 [==============================] - 195s 51ms/step - loss: -0.9004 - dice_coef: 0.9004 - jacard_coef: 0.8195 - val_loss: -0.8899 - val_dice_coef: 0.8899 - val_jacard_coef: 0.8028\n",
            "\n",
            "Epoch 00093: val_loss did not improve from -0.89018\n",
            "Epoch 94/100\n",
            "3815/3815 [==============================] - 195s 51ms/step - loss: -0.8987 - dice_coef: 0.8987 - jacard_coef: 0.8169 - val_loss: -0.8895 - val_dice_coef: 0.8895 - val_jacard_coef: 0.8022\n",
            "\n",
            "Epoch 00094: val_loss did not improve from -0.89018\n",
            "Epoch 95/100\n",
            "3815/3815 [==============================] - 195s 51ms/step - loss: -0.9000 - dice_coef: 0.9000 - jacard_coef: 0.8189 - val_loss: -0.8897 - val_dice_coef: 0.8897 - val_jacard_coef: 0.8025\n",
            "\n",
            "Epoch 00095: ReduceLROnPlateau reducing learning rate to 9.765625463842298e-07.\n",
            "\n",
            "Epoch 00095: val_loss did not improve from -0.89018\n",
            "Epoch 96/100\n",
            "3815/3815 [==============================] - 195s 51ms/step - loss: -0.9000 - dice_coef: 0.9000 - jacard_coef: 0.8188 - val_loss: -0.8895 - val_dice_coef: 0.8895 - val_jacard_coef: 0.8022\n",
            "\n",
            "Epoch 00096: val_loss did not improve from -0.89018\n",
            "Epoch 97/100\n",
            "3815/3815 [==============================] - 195s 51ms/step - loss: -0.9003 - dice_coef: 0.9003 - jacard_coef: 0.8196 - val_loss: -0.8896 - val_dice_coef: 0.8896 - val_jacard_coef: 0.8023\n",
            "\n",
            "Epoch 00097: val_loss did not improve from -0.89018\n",
            "Epoch 98/100\n",
            "3815/3815 [==============================] - 195s 51ms/step - loss: -0.8999 - dice_coef: 0.8999 - jacard_coef: 0.8188 - val_loss: -0.8895 - val_dice_coef: 0.8895 - val_jacard_coef: 0.8021\n",
            "\n",
            "Epoch 00098: val_loss did not improve from -0.89018\n",
            "Epoch 99/100\n",
            "3815/3815 [==============================] - 195s 51ms/step - loss: -0.8996 - dice_coef: 0.8996 - jacard_coef: 0.8181 - val_loss: -0.8894 - val_dice_coef: 0.8894 - val_jacard_coef: 0.8020\n",
            "\n",
            "Epoch 00099: val_loss did not improve from -0.89018\n",
            "Epoch 100/100\n",
            "3815/3815 [==============================] - 195s 51ms/step - loss: -0.8999 - dice_coef: 0.8999 - jacard_coef: 0.8186 - val_loss: -0.8896 - val_dice_coef: 0.8896 - val_jacard_coef: 0.8023\n",
            "\n",
            "Epoch 00100: ReduceLROnPlateau reducing learning rate to 4.882812731921149e-07.\n",
            "\n",
            "Epoch 00100: val_loss did not improve from -0.89018\n"
          ],
          "name": "stdout"
        }
      ]
    },
    {
      "metadata": {
        "id": "5KZEtsPCpA9r",
        "colab_type": "code",
        "outputId": "7c427879-1139-4c43-b553-876df64baf8c",
        "colab": {
          "base_uri": "https://localhost:8080/",
          "height": 35
        }
      },
      "cell_type": "code",
      "source": [
        "type(history.history)"
      ],
      "execution_count": 0,
      "outputs": [
        {
          "output_type": "execute_result",
          "data": {
            "text/plain": [
              "dict"
            ]
          },
          "metadata": {
            "tags": []
          },
          "execution_count": 74
        }
      ]
    },
    {
      "metadata": {
        "id": "WIzoJ3X7Vs7_",
        "colab_type": "code",
        "colab": {}
      },
      "cell_type": "code",
      "source": [
        "model_hist = history.history\n",
        "np.save('model.hist.npy',model_hist)"
      ],
      "execution_count": 0,
      "outputs": []
    },
    {
      "metadata": {
        "id": "6-2Sdfi7WF1V",
        "colab_type": "code",
        "outputId": "86917eea-cc3e-4187-c2c6-0353e2d79e1a",
        "colab": {
          "base_uri": "https://localhost:8080/",
          "height": 53
        }
      },
      "cell_type": "code",
      "source": [
        "!ls"
      ],
      "execution_count": 0,
      "outputs": [
        {
          "output_type": "stream",
          "text": [
            "download    model.hist.npy  train_imgs\t unet_224_best_weight.h5  wget-log\n",
            "download.1  sample_data     train_masks  unet_224_final_model.h5  wget-log.1\n"
          ],
          "name": "stdout"
        }
      ]
    },
    {
      "metadata": {
        "id": "OqZYaxiWWID8",
        "colab_type": "code",
        "colab": {}
      },
      "cell_type": "code",
      "source": [
        "from google.colab import files\n",
        "files.download('model.hist.npy')"
      ],
      "execution_count": 0,
      "outputs": []
    },
    {
      "metadata": {
        "id": "BRrK7OHqXBN9",
        "colab_type": "code",
        "colab": {}
      },
      "cell_type": "code",
      "source": [
        "y_test = model.predict(test_img)"
      ],
      "execution_count": 0,
      "outputs": []
    },
    {
      "metadata": {
        "id": "Wy2bQ73IdoW9",
        "colab_type": "code",
        "outputId": "129f0d95-402d-40ca-eace-da05adda60b4",
        "colab": {
          "base_uri": "https://localhost:8080/",
          "height": 35
        }
      },
      "cell_type": "code",
      "source": [
        "print(y_test.shape)"
      ],
      "execution_count": 0,
      "outputs": [
        {
          "output_type": "stream",
          "text": [
            "(390, 224, 224, 1)\n"
          ],
          "name": "stdout"
        }
      ]
    },
    {
      "metadata": {
        "id": "wrEZ24q3iT7Z",
        "colab_type": "code",
        "colab": {}
      },
      "cell_type": "code",
      "source": [
        "def dice_coef_eval(y_true, y_pred):\n",
        "    y_p = y_pred.flatten()\n",
        "    #print(y_p.shape)\n",
        "    y_b = y_true.flatten()\n",
        "    #print(y_b.shape)\n",
        "    cc = np.dot(y_p,y_b)\n",
        "    #print(cc)\n",
        "    ps = np.sum(y_p)\n",
        "    pb = np.sum(y_b)\n",
        "    ds = (2.0*cc + 1.0)/(ps+pb+1.0)\n",
        "    #print(type(ds))\n",
        "    return ds\n",
        "  \n",
        "def jacard_coef_eval(y_true, y_pred):\n",
        "    y_p = y_pred.flatten()\n",
        "    #print(y_p.shape)\n",
        "    y_b = y_true.flatten()\n",
        "    #print(y_b.shape)\n",
        "    cc = np.dot(y_p,y_b)\n",
        "    #print(cc)\n",
        "    ps = np.sum(y_p)\n",
        "    pb = np.sum(y_b)\n",
        "    js = (cc + 1.0)/(ps+pb-cc+1.0)\n",
        "    #print(type(ds))\n",
        "    return js"
      ],
      "execution_count": 0,
      "outputs": []
    },
    {
      "metadata": {
        "id": "Vq-6j921mX-W",
        "colab_type": "code",
        "colab": {}
      },
      "cell_type": "code",
      "source": [
        "# binary conversion\n",
        "y_test[y_test<0.5] = 0.0\n",
        "y_test[y_test>=0.5] = 1.0"
      ],
      "execution_count": 0,
      "outputs": []
    },
    {
      "metadata": {
        "id": "LF1P_8dyeHzG",
        "colab_type": "code",
        "colab": {}
      },
      "cell_type": "code",
      "source": [
        "dice_score_test = []\n",
        "jacard_score_test = []\n",
        "\n",
        "n_s, r, c, ch = y_test.shape\n",
        "for i in range(n_s):\n",
        "  dice_score_test.append(dice_coef_eval(y_test[i,:,:,:], test_mask[i,:,:,:]))\n",
        "  jacard_score_test.append(jacard_coef_eval(y_test[i,:,:,:], test_mask[i,:,:,:]))"
      ],
      "execution_count": 0,
      "outputs": []
    },
    {
      "metadata": {
        "id": "ksp613FhmV5k",
        "colab_type": "code",
        "outputId": "d92da2e3-2147-4d41-f4c5-659cc58fb34a",
        "colab": {
          "base_uri": "https://localhost:8080/",
          "height": 73
        }
      },
      "cell_type": "code",
      "source": [
        "print(dice_score_test)\n",
        "print(jacard_score_test)"
      ],
      "execution_count": 0,
      "outputs": [
        {
          "output_type": "stream",
          "text": [
            "[0.8633537054871867, 0.7593491912172045, 0.21918485502997162, 0.8724706742855598, 0.9311120024318164, 0.8800933741264689, 0.7647080911477552, 0.9187787620975666, 0.9058847863750487, 0.944747771531199, 0.8516688126178217, 0.9438062530068227, 0.9746040380519491, 0.9706092317119945, 0.982727725858924, 0.5392609643412903, 0.9448466693186988, 0.8976198751514445, 0.917430966521893, 0.9180950636440096, 0.8427417702362842, 0.8826802261645091, 0.6148983452710803, 0.9600329222972496, 0.9759405524792791, 0.924429510874868, 0.7103527789702776, 0.9506114491195915, 0.8638386419743207, 0.9456712016492484, 0.5113398452162365, 0.875639601820212, 0.9048342458384517, 0.9220949143423128, 0.7844915943986515, 0.8890951562163089, 0.5804397389736784, 0.8964050264784194, 0.8796106133174859, 0.9160806932717892, 0.9133162117579533, 0.9323690743205589, 0.8505183949014631, 0.934477881711057, 0.9496087347298293, 0.960273129194397, 0.8647655673951498, 0.962991759167703, 0.9473403285317328, 0.7901145314701443, 0.9627615483273724, 0.9363390378703865, 0.3961730763717753, 0.9148639246676561, 0.8856320284100831, 0.9241853620042644, 0.9445163392075664, 0.912784052355449, 0.9061309327103869, 0.9628340979763698, 0.8464300009243826, 0.726240717682309, 0.9590893737982189, 0.9090746364349951, 0.7930496772613393, 0.8323595944066874, 0.8725390481976646, 0.8560551151620313, 0.9561200846029679, 0.0002038877856581867, 0.9489547864675482, 0.8121870263159536, 0.9192507430103092, 0.9655441610439691, 0.9063993429541817, 0.16851089117419357, 0.8121301343649892, 0.9556640706508, 0.9300243549726727, 0.9414540882698424, 0.9677989865924874, 0.9218071519333054, 0.8677410906318066, 0.912254962653571, 0.958399327481752, 0.8668499758387865, 0.9656430381208753, 0.8270767233740817, 0.9400120117119752, 0.9250443179043586, 0.9303490447851268, 0.9625185532269148, 0.9728140604660876, 0.8968363411114587, 0.960490932858327, 0.9509558886424855, 0.9163374423637441, 0.910831650048205, 0.8642535671451764, 0.9453109445236424, 0.8276322211479856, 0.9229245741048958, 0.8978418163186584, 0.9462618115701212, 0.945987185254532, 0.9445427886326286, 0.9632676125789036, 0.9405405951098876, 0.9748953703796597, 0.9213585680250014, 0.8919727561889579, 0.8966532912067784, 0.9641840579386945, 0.9504071726288332, 0.9081914371192048, 0.9581126436178902, 0.9194087170604138, 0.8526174107471439, 0.6572944559818027, 0.8912113839603731, 0.9125214776916101, 0.8926643647325675, 0.9373336562815807, 0.9119242172053099, 0.8110678760127197, 0.9335572283781711, 0.6949352144687686, 0.22381532295815093, 0.9563250928562805, 0.5705764335478906, 0.7531420277245975, 0.358097688537125, 0.9431832006456041, 0.952352107688226, 0.9408684571477126, 0.9593098286494636, 0.2980368888211509, 0.6432331910336964, 0.9729199445691458, 0.9000339542891221, 0.9806048546788728, 0.9723753112332395, 0.9690784621620574, 0.948883617572389, 0.9658146298486117, 0.9035834548326236, 0.827278026488731, 0.9807761602767369, 0.9479754088896094, 0.892509462488032, 0.9143694526700915, 0.9728673688968784, 0.9466719580346417, 0.8721028232298275, 0.8999769131985386, 0.9386991002912912, 0.9021050221465289, 0.7625903280297608, 0.9296331112909585, 0.9284666174311933, 0.9683065957314915, 0.9549733592870666, 0.9386110652198986, 0.919280078998725, 0.47028694047741765, 0.9210952022226764, 0.8793118806997747, 0.9481749323102302, 0.8173358999695307, 0.0006249678628280986, 0.8991530252073169, 0.9644662469421447, 0.9145013855817139, 0.9645410838484512, 0.8675235660626505, 0.862915546883338, 0.93475649131007, 0.48547408249863566, 0.9396065631340759, 0.9294087391192452, 0.9618658429914717, 0.7846790775060724, 0.5848164825656574, 0.9366734043548004, 0.9706600440466094, 0.8369177394263462, 0.9559159468239186, 0.7586542775087022, 0.9721576766528129, 0.8225542490210296, 0.9412348316285899, 0.9464698138908861, 0.969756672035264, 0.9484447122836854, 0.7844618247791593, 0.8456082402569737, 0.9699811032547792, 0.3828832637547414, 0.9345421677882988, 0.9129246439681347, 0.9463205136135058, 0.9635966393294416, 0.8885093366050745, 0.9438119338323623, 0.8964688792733947, 0.8588036048225413, 0.7213731100808084, 0.7761752108583461, 0.8503204462872543, 0.87812562316005, 0.9241141351835069, 0.9554203812204337, 0.8886134187406356, 0.9670064576315777, 0.9583959338603635, 0.9250025634311978, 0.9513761749119655, 0.952071593171928, 0.7796001646031296, 0.9675997391279931, 0.9435546857030953, 0.9402784674171651, 0.8718765734787587, 0.9685701618422464, 0.9568632730979698, 0.9532690992686252, 0.908562812970083, 0.8141094748262774, 0.8557112613572313, 0.939773568704188, 0.9834925556773575, 0.9558078523128148, 0.8896755880625932, 0.954563980934725, 0.9108447158920557, 0.9557333442363518, 0.9791853295075719, 0.5421423324623837, 0.9491346129800272, 0.9186448339016848, 0.7480648874878648, 0.8831498180265587, 0.9044002044118515, 0.9371465258916893, 0.8619344078487086, 0.9593133460392042, 0.8937895415795493, 0.7606391207965988, 0.9591876411120274, 0.97037803693389, 0.46207333173409826, 0.9597078393020683, 0.8977322372230326, 0.9688313958762718, 0.9565298136583851, 0.9806606807904897, 0.9324293141749733, 0.9766630842602154, 0.9313292596835537, 0.9233580673853398, 0.947889980742597, 0.9495546411718735, 0.933843744508043, 0.8663081544790432, 0.9620445832988856, 0.9685280170918263, 0.9617383884365436, 0.951342831653398, 0.542508154550191, 0.9782999472977942, 0.9297217282549473, 0.9237681164905879, 0.9650920529490432, 0.9504866443128434, 0.9668533222511452, 0.9314463946671959, 0.8775168407636091, 0.9356834255821144, 0.9650846174632354, 0.9566529980412396, 0.7897210863842641, 0.8638003642704294, 0.7175425608104877, 0.9315408121839126, 0.965319536867333, 0.8647430256492166, 0.9340428153420138, 0.9268826530683997, 0.9491028269474773, 0.9445990012677047, 0.9197491557210269, 0.6362091268840618, 0.9507250988392298, 0.9138568271607882, 0.9036439796827926, 0.23631680330384178, 0.9523039907098148, 0.9538123885594333, 0.9275472240881032, 0.9189863413588083, 0.0999885141138569, 0.9444806298169022, 0.9503703857935984, 0.9199925588434926, 0.8607370333763189, 0.9378788421817085, 0.960958931129522, 0.9689305938094932, 0.9170266125794382, 0.9022341672096831, 0.9396267857108133, 0.8381034076070598, 0.8584615173207882, 0.9573707647974131, 0.8438025591416012, 0.35668032300179703, 0.5251363004137077, 0.918216422071885, 0.963331270947963, 0.9266279193859662, 0.9562241292458694, 0.8867479354486514, 0.9201049131729969, 0.9750979235870608, 0.9735077733666598, 0.8815956353365698, 0.9308161451528106, 0.9666595462819026, 0.9235468547974086, 0.9216560889479556, 0.8437590585919665, 0.9201165160129307, 0.5912698233759747, 0.9065581834439805, 0.9489271809770624, 0.723054397683681, 0.8098719765524113, 0.9572192430427637, 0.9155679513184585, 0.9766628410042967, 0.9414246003256428, 0.9719727913411883, 0.9250686171698166, 0.9603768526729963, 0.8324336078479471, 0.9256997172506386, 0.9194321594891779, 0.9590428803431923, 0.9278019228918873, 0.9502115843747173, 0.9666398041871241, 0.9321270827519816, 0.9571701743374901, 0.0007110451912965013, 0.9239839344516966, 0.9426970437637752, 0.5791170370151957, 0.9149478855596943, 0.9469331093010823, 0.8929863942374517, 0.930948020457255, 0.8897545071334415, 0.7955665012784082, 0.968909384794286, 0.8101630076253467, 0.8701184540958624, 0.9535178472997106, 0.9289284482621841, 0.931095032895109, 0.8463406852814288, 0.8122029778244578, 0.9468245812170628, 0.9390330341404497, 0.9555542947396741, 0.7839220879995442, 0.887992413237008, 0.9166360946218363, 0.9071369170136055, 0.9468711008781958, 0.9682876797832073, 0.8390629569657967, 0.8604202810868049, 0.9457805307859191, 0.7247614701617826, 0.9506451263902349, 0.9453100267554264, 0.837742299797092, 0.9474059401142098, 0.8538007497964447, 0.9342891105016494]\n",
            "[0.7595666132280519, 0.6120691977890768, 0.12312078352801682, 0.7737952070075801, 0.8711064293965318, 0.7858703503979954, 0.6191059159839162, 0.8497639177759256, 0.8279858775144775, 0.8952930040370009, 0.7416720767293041, 0.8936241173658387, 0.9504668984897687, 0.9428974296537308, 0.9660458002398709, 0.3691969319861682, 0.8955100581165231, 0.8142616711048042, 0.847474343684669, 0.8485947869339121, 0.7282296317530067, 0.790008027496683, 0.4439665911359353, 0.9231542470782303, 0.953012261411404, 0.8594819240995716, 0.5513947947238763, 0.905914230515719, 0.7603773567682541, 0.8969696403075637, 0.3435025199730116, 0.7788327174756036, 0.8262102079356654, 0.8554656639062364, 0.6456211855650192, 0.8004155465035988, 0.4090300686357258, 0.8122703290020208, 0.7853356925677928, 0.8451619204502006, 0.8404679099658443, 0.8733465069608195, 0.7399401124386868, 0.8770782569867371, 0.9041005545108907, 0.92358540073621, 0.7617724896616646, 0.9286261124835701, 0.8999507415381726, 0.6530797006831309, 0.9282034671821563, 0.8803000218074906, 0.24714494168092252, 0.8430907655632052, 0.7948534103503843, 0.8590724151468646, 0.8948728424023414, 0.8395779650754147, 0.8283933104819481, 0.9283384621856235, 0.7337550801158227, 0.5701715460761548, 0.9213993433723792, 0.8333408363644048, 0.6571136172600924, 0.7130353114407703, 0.773904024937268, 0.7483528003373381, 0.9159336675556118, 0.0002038877856581867, 0.9028709442181003, 0.6837903752800597, 0.8506313593806748, 0.9333845362569199, 0.828864336403982, 0.09206322698952317, 0.6837597837215603, 0.9150939537666068, 0.8692131516538505, 0.8893874139035044, 0.9376158846846966, 0.8550251672404473, 0.7665265544134902, 0.8386884457163708, 0.9201479559329196, 0.7649993864790389, 0.9335697626239522, 0.7051758642911999, 0.886832537491185, 0.8605480277779082, 0.8697740435900198, 0.9277499278744531, 0.9470686297503169, 0.8129718374696978, 0.9239874995365757, 0.9065244827808795, 0.8455974510640285, 0.8362665617950316, 0.7610098695939956, 0.8962975907156845, 0.7059781474653883, 0.8569300298230418, 0.8146295462725018, 0.8980153401879817, 0.8975389524684746, 0.8949943804547833, 0.929139356472516, 0.8877622647798132, 0.9510216347991748, 0.8541887868593954, 0.8050582412855948, 0.8126833634549848, 0.9308471716145988, 0.9055290624030701, 0.8318466722160361, 0.9195949046097014, 0.8508422177350939, 0.7432496813804994, 0.4895951687511992, 0.8037727941078808, 0.8391701442654885, 0.8061490954105266, 0.8820600833281541, 0.8381106635489984, 0.6821970492313693, 0.8754092762694201, 0.5326655689151185, 0.12605411882914044, 0.9163084495421122, 0.3991793357065638, 0.6040459360881759, 0.2184086386959654, 0.8924775426448157, 0.9090394194217256, 0.888354905576527, 0.9218209148287815, 0.17512577724954626, 0.47411153679744555, 0.947270182505674, 0.8182436220238135, 0.9619516416941635, 0.9462432865476148, 0.9400156738933815, 0.902741521932101, 0.9339083957092557, 0.8241342557560143, 0.7054465879929908, 0.9622782341829812, 0.9011135163932273, 0.8059151171737594, 0.8422547635704664, 0.9471750285210161, 0.8987508176845912, 0.7733091698607959, 0.8181496845628177, 0.8844836982613011, 0.8216705679000532, 0.6163080644698472, 0.8685312386170949, 0.8664868954082967, 0.9385633197157145, 0.913831924485836, 0.8843255682549043, 0.8506721147737054, 0.30748954342184487, 0.8537737239453131, 0.7846234597022869, 0.9014606070542727, 0.6911162832467347, 0.0006249678628280986, 0.8167961720911083, 0.9313909449893735, 0.842478014544083, 0.9315241577579443, 0.7660484998684914, 0.7589117125333009, 0.8775140385810761, 0.32058284693728367, 0.8860950306260034, 0.8681325099709069, 0.9265344029642644, 0.6457173831750981, 0.4132630986836267, 0.88089834565529, 0.9430019435519396, 0.7199585707414768, 0.9155577998829673, 0.611230986481596, 0.9458247066942719, 0.6986123818940183, 0.8890488360162949, 0.8983838483379629, 0.9412975849224618, 0.901949947942017, 0.6454273874802486, 0.7327439184205236, 0.9417136529427546, 0.23680651340482523, 0.8771547164395616, 0.8398136158480501, 0.8981126665057438, 0.9297521326168741, 0.7995309623176622, 0.8936105910219948, 0.8123997688645302, 0.7526360476620473, 0.5642136103223506, 0.63440261605099, 0.7397254861725358, 0.7827470614512559, 0.858976841216336, 0.9146492302233523, 0.7995825141963189, 0.936128700697465, 0.9201482453397721, 0.8604819185555859, 0.907264535080936, 0.9085399879527323, 0.6388111211806701, 0.9372441333126049, 0.8931453119352032, 0.8872952288554502, 0.7728932250586567, 0.9390568991607652, 0.9172985411096024, 0.9107122577043596, 0.8324517138603836, 0.6865016135818188, 0.7478349542897089, 0.8863920665519334, 0.9675223705264746, 0.9153585087029905, 0.8012815545148063, 0.9130808051886157, 0.8362895314691793, 0.9152234767882452, 0.9592199415581629, 0.37188823529768744, 0.9032006373943156, 0.849533771703854, 0.5975543765389209, 0.7907550453887927, 0.8255705519157249, 0.8817473916878745, 0.7573728227279883, 0.9218103252423274, 0.8079854769112971, 0.6137393111988244, 0.9215773687759761, 0.942472876507333, 0.30049173393414913, 0.9225413867227965, 0.8145604587491915, 0.9395635629271576, 0.9166837443167231, 0.9620569907731769, 0.8734231632548247, 0.9543912535304078, 0.871489684656913, 0.8576422231648793, 0.9009772169655754, 0.9039742492728206, 0.8759028061738787, 0.7641723143631348, 0.9268676508604127, 0.938977962159009, 0.9263111894620304, 0.9072035989002873, 0.37222958422393043, 0.9575237542762283, 0.8686849371676247, 0.8583426641890323, 0.9325425191749973, 0.9056483909451528, 0.9358420465469602, 0.8717227434395753, 0.7817742974078823, 0.8791421675496207, 0.9325368012982937, 0.916957715903382, 0.6525357202225371, 0.7603011735867201, 0.559592609108905, 0.8718608115673052, 0.932967208251329, 0.7617207292433651, 0.8762712859367671, 0.8637366466665153, 0.90313790331311, 0.8950195959713273, 0.8515006272843443, 0.46686491419057374, 0.9060834672903074, 0.8414966564738254, 0.8242295160682523, 0.13400673121620452, 0.9089563208856716, 0.911707986021006, 0.8649158549203221, 0.8501307283114573, 0.052706800901680374, 0.8948114361016548, 0.9054742549676179, 0.8518425604128584, 0.7556812787150086, 0.8830349830266722, 0.9248589980066505, 0.9397443384708035, 0.8467701970480965, 0.8218848728557124, 0.8861305953173618, 0.7213305092673332, 0.7520612223381598, 0.9182431942743713, 0.7298542321518899, 0.21723081437340974, 0.356071053396994, 0.8488326526146048, 0.9292631840993263, 0.8632891874525527, 0.9161214604500604, 0.7965455343142207, 0.8520532254245484, 0.9514071425119606, 0.9483836461564407, 0.7882729186554193, 0.8706413216659221, 0.9354717299055217, 0.8579566089557568, 0.8547004540653158, 0.7297527000518068, 0.8522115297164361, 0.41973657993164126, 0.829104002606555, 0.9028265002811772, 0.5662468358729138, 0.6804948010389145, 0.9179941211042788, 0.8442981339832217, 0.954392204916496, 0.8893410838829674, 0.9454768011617534, 0.8606518330759917, 0.9237755265339643, 0.7129719900198185, 0.8616902822277548, 0.8508889475865594, 0.9213107168597248, 0.8653293588144148, 0.9051863699168934, 0.9354344604629143, 0.8729047279310794, 0.9178706415741361, 0.0007110451912965013, 0.8587129740918631, 0.8916201259455123, 0.4076035658441774, 0.8432357974863403, 0.8992173388497022, 0.806671052722225, 0.8708179771959833, 0.8014909466585747, 0.6605594297141942, 0.9396945351091142, 0.6809379587547332, 0.7701558544459398, 0.9111698748293016, 0.8673351438159197, 0.8710767906434556, 0.7336504193417133, 0.6837980128236336, 0.899021100961255, 0.8850748366530385, 0.9148933012805569, 0.644644074749569, 0.7985557617744833, 0.8461073107565306, 0.8300912385673866, 0.899119083944622, 0.9385267958917625, 0.7227723754230301, 0.7550530256169069, 0.8971599531896769, 0.5683653566948698, 0.9059575278464623, 0.8963101343248504, 0.720813037497335, 0.9000714517378771, 0.7449035524731865, 0.8766840260049695]\n"
          ],
          "name": "stdout"
        }
      ]
    },
    {
      "metadata": {
        "id": "pdHz77cOfdeR",
        "colab_type": "code",
        "outputId": "477d89b0-3404-4712-b499-23c0697dd866",
        "colab": {
          "base_uri": "https://localhost:8080/",
          "height": 126
        }
      },
      "cell_type": "code",
      "source": [
        "print(np.max(dice_score_test))\n",
        "print(np.min(dice_score_test))\n",
        "print(np.mean(dice_score_test))\n",
        "\n",
        "print(np.max(jacard_score_test))\n",
        "print(np.min(jacard_score_test))\n",
        "print(np.mean(dice_score_test))"
      ],
      "execution_count": 0,
      "outputs": [
        {
          "output_type": "stream",
          "text": [
            "0.9834925556773575\n",
            "0.0002038877856581867\n",
            "0.873570896930719\n",
            "0.9675223705264746\n",
            "0.0002038877856581867\n",
            "0.873570896930719\n"
          ],
          "name": "stdout"
        }
      ]
    },
    {
      "metadata": {
        "id": "QfcI8ok_lzrW",
        "colab_type": "code",
        "outputId": "7c2ed0f8-31f5-45a9-97e2-3a7af1dae839",
        "colab": {
          "base_uri": "https://localhost:8080/",
          "height": 365
        }
      },
      "cell_type": "code",
      "source": [
        "import matplotlib.pyplot as plt\n",
        "plt.plot(dice_score_test)"
      ],
      "execution_count": 0,
      "outputs": [
        {
          "output_type": "execute_result",
          "data": {
            "text/plain": [
              "[<matplotlib.lines.Line2D at 0x7f41492e5160>]"
            ]
          },
          "metadata": {
            "tags": []
          },
          "execution_count": 84
        },
        {
          "output_type": "display_data",
          "data": {
            "image/png": "[encoded data removed]",
            "text/plain": [
              "<matplotlib.figure.Figure at 0x7f4169f80ac8>"
            ]
          },
          "metadata": {
            "tags": []
          }
        }
      ]
    },
    {
      "metadata": {
        "id": "AP7yqnGIkTGR",
        "colab_type": "code",
        "outputId": "2962738d-ba6d-4231-ac11-b51dac5e3d49",
        "colab": {
          "base_uri": "https://localhost:8080/",
          "height": 53
        }
      },
      "cell_type": "code",
      "source": [
        "ind = np.unravel_index(np.argmin(dice_score_test, axis=None), len(dice_score_test))\n",
        "print(ind)\n",
        "ind2 = np.unravel_index(np.argmin(jacard_score_test, axis=None), len(jacard_score_test))\n",
        "print(ind2)"
      ],
      "execution_count": 0,
      "outputs": [
        {
          "output_type": "stream",
          "text": [
            "(69,)\n",
            "(69,)\n"
          ],
          "name": "stdout"
        }
      ]
    },
    {
      "metadata": {
        "id": "kEJrja56k7U2",
        "colab_type": "code",
        "outputId": "e5017a2a-84f9-4eb5-bcd2-3f4f66ac2276",
        "colab": {
          "base_uri": "https://localhost:8080/",
          "height": 368
        }
      },
      "cell_type": "code",
      "source": [
        "import matplotlib.pyplot as plt\n",
        "a = test_img[69]\n",
        "plt.imshow(a)"
      ],
      "execution_count": 0,
      "outputs": [
        {
          "output_type": "execute_result",
          "data": {
            "text/plain": [
              "<matplotlib.image.AxesImage at 0x7f413bb8df28>"
            ]
          },
          "metadata": {
            "tags": []
          },
          "execution_count": 86
        },
        {
          "output_type": "display_data",
          "data": {
            "image/png": "[encoded data removed]",
            "text/plain": [
              "<matplotlib.figure.Figure at 0x7f4169f80b70>"
            ]
          },
          "metadata": {
            "tags": []
          }
        }
      ]
    },
    {
      "metadata": {
        "id": "BZB9-BhNlRbH",
        "colab_type": "code",
        "outputId": "2c6c4753-69a7-45ea-904b-8ed30f655f68",
        "colab": {
          "base_uri": "https://localhost:8080/",
          "height": 35
        }
      },
      "cell_type": "code",
      "source": [
        "y_test.shape"
      ],
      "execution_count": 0,
      "outputs": [
        {
          "output_type": "execute_result",
          "data": {
            "text/plain": [
              "(390, 224, 224, 1)"
            ]
          },
          "metadata": {
            "tags": []
          },
          "execution_count": 87
        }
      ]
    },
    {
      "metadata": {
        "id": "8ofECMQZlI6F",
        "colab_type": "code",
        "outputId": "189d98ba-482e-4fa6-d69a-03fbb6e2e54d",
        "colab": {
          "base_uri": "https://localhost:8080/",
          "height": 368
        }
      },
      "cell_type": "code",
      "source": [
        "a = y_test[1,:,:,:].reshape(224,224)\n",
        "plt.imshow(a)"
      ],
      "execution_count": 0,
      "outputs": [
        {
          "output_type": "execute_result",
          "data": {
            "text/plain": [
              "<matplotlib.image.AxesImage at 0x7f413a292160>"
            ]
          },
          "metadata": {
            "tags": []
          },
          "execution_count": 88
        },
        {
          "output_type": "display_data",
          "data": {
            "image/png": "[encoded data removed]",
            "text/plain": [
              "<matplotlib.figure.Figure at 0x7f413bb66748>"
            ]
          },
          "metadata": {
            "tags": []
          }
        }
      ]
    },
    {
      "metadata": {
        "id": "GGIhyTNGnGwo",
        "colab_type": "code",
        "colab": {}
      },
      "cell_type": "code",
      "source": [
        "np.save('img_test.npy', test_img)\n",
        "np.save('img_mask.npy', test_mask)\n",
        "np.save('y_predicted_test.npy', y_test)"
      ],
      "execution_count": 0,
      "outputs": []
    },
    {
      "metadata": {
        "id": "Iup8xznVqhDQ",
        "colab_type": "code",
        "outputId": "c63690c3-20d2-45eb-8025-0eb80d21fd58",
        "colab": {
          "base_uri": "https://localhost:8080/",
          "height": 90
        }
      },
      "cell_type": "code",
      "source": [
        "!ls"
      ],
      "execution_count": 0,
      "outputs": [
        {
          "output_type": "stream",
          "text": [
            "download      model.hist.npy  unet_224_best_weight.h5  y_predicted_test.npy\n",
            "download.1    sample_data     unet_224_final_model.h5\n",
            "img_mask.npy  train_imgs      wget-log\n",
            "img_test.npy  train_masks     wget-log.1\n"
          ],
          "name": "stdout"
        }
      ]
    },
    {
      "metadata": {
        "id": "xMd34ML2vyHm",
        "colab_type": "code",
        "colab": {}
      },
      "cell_type": "code",
      "source": [
        "# Install the PyDrive wrapper & import libraries.\n",
        "# This only needs to be done once in a notebook.\n",
        "!pip install -U -q PyDrive"
      ],
      "execution_count": 0,
      "outputs": []
    },
    {
      "metadata": {
        "id": "Z-3GrEBtt7zr",
        "colab_type": "code",
        "outputId": "58e4d420-bbf8-4846-b059-c5ed6004ab38",
        "colab": {
          "base_uri": "https://localhost:8080/",
          "height": 35
        }
      },
      "cell_type": "code",
      "source": [
        "# saving to google drive for backup\n",
        "\n",
        "\n",
        "from pydrive.auth import GoogleAuth\n",
        "from pydrive.drive import GoogleDrive\n",
        "from google.colab import auth\n",
        "from oauth2client.client import GoogleCredentials\n",
        "\n",
        "# Authenticate and create the PyDrive client.\n",
        "# This only needs to be done once in a notebook.\n",
        "auth.authenticate_user()\n",
        "gauth = GoogleAuth()\n",
        "gauth.credentials = GoogleCredentials.get_application_default()\n",
        "drive = GoogleDrive(gauth)\n",
        "\n",
        "# Create & upload a file.\n",
        "uploaded = drive.CreateFile({'title': 'img_mask_drop_aug.npy'})\n",
        "uploaded.SetContentFile('img_mask.npy')\n",
        "uploaded.Upload()\n",
        "print('Uploaded file with ID {}'.format(uploaded.get('id')))"
      ],
      "execution_count": 0,
      "outputs": [
        {
          "output_type": "stream",
          "text": [
            "Uploaded file with ID 1HxdsITGxbNG2R6y8-UDlqBZg4iWsPYA7\n"
          ],
          "name": "stdout"
        }
      ]
    },
    {
      "metadata": {
        "id": "AqHQk5_1wDv_",
        "colab_type": "code",
        "outputId": "9ad7431f-000f-4661-bb09-6e87e8d4eb7f",
        "colab": {
          "base_uri": "https://localhost:8080/",
          "height": 35
        }
      },
      "cell_type": "code",
      "source": [
        "# Create & upload a file.\n",
        "uploaded = drive.CreateFile({'title': 'img_test_drop_aug.npy'})\n",
        "uploaded.SetContentFile('img_test.npy')\n",
        "uploaded.Upload()\n",
        "print('Uploaded file with ID {}'.format(uploaded.get('id')))"
      ],
      "execution_count": 0,
      "outputs": [
        {
          "output_type": "stream",
          "text": [
            "Uploaded file with ID 1qrMQa1t9r3dQZolYmwa6HEqzBWIsrQFc\n"
          ],
          "name": "stdout"
        }
      ]
    },
    {
      "metadata": {
        "id": "5kANxGTSxknm",
        "colab_type": "code",
        "outputId": "d8a82f7e-fe2e-4340-8b48-464c0c62a1f3",
        "colab": {
          "base_uri": "https://localhost:8080/",
          "height": 35
        }
      },
      "cell_type": "code",
      "source": [
        "# Create & upload a file.\n",
        "uploaded = drive.CreateFile({'title': 'y_predicted_test_drop_aug.npy'})\n",
        "uploaded.SetContentFile('y_predicted_test.npy')\n",
        "uploaded.Upload()\n",
        "print('Uploaded file with ID {}'.format(uploaded.get('id')))"
      ],
      "execution_count": 0,
      "outputs": [
        {
          "output_type": "stream",
          "text": [
            "Uploaded file with ID 151Rncx_uDNa4UbQXMQhprmVWcf5MCZJs\n"
          ],
          "name": "stdout"
        }
      ]
    },
    {
      "metadata": {
        "id": "o9qLeQuMxv5g",
        "colab_type": "code",
        "outputId": "d5f134f2-9238-41c2-f23c-887aaeb083d7",
        "colab": {
          "base_uri": "https://localhost:8080/",
          "height": 35
        }
      },
      "cell_type": "code",
      "source": [
        "# Create & upload a file.\n",
        "uploaded = drive.CreateFile({'title': 'model.hist_drop_aug.npy'})\n",
        "uploaded.SetContentFile('model.hist.npy')\n",
        "uploaded.Upload()\n",
        "print('Uploaded file with ID {}'.format(uploaded.get('id')))"
      ],
      "execution_count": 0,
      "outputs": [
        {
          "output_type": "stream",
          "text": [
            "Uploaded file with ID 1hTXTaqgVLxyaV2J1YofEssWY66vGrUak\n"
          ],
          "name": "stdout"
        }
      ]
    },
    {
      "metadata": {
        "id": "5wcLMET9yQFr",
        "colab_type": "code",
        "outputId": "c7219ade-cc7e-4c23-834e-94dd079f6a8c",
        "colab": {
          "base_uri": "https://localhost:8080/",
          "height": 35
        }
      },
      "cell_type": "code",
      "source": [
        "# Create & upload a file.\n",
        "uploaded = drive.CreateFile({'title': 'unet_224_best_weight_drop_aug.h5'})\n",
        "uploaded.SetContentFile('unet_224_best_weight.h5')\n",
        "uploaded.Upload()\n",
        "print('Uploaded file with ID {}'.format(uploaded.get('id')))"
      ],
      "execution_count": 0,
      "outputs": [
        {
          "output_type": "stream",
          "text": [
            "Uploaded file with ID 1kp1DmVFtWD9-P_0sF5f_nVqAaTCNLu8w\n"
          ],
          "name": "stdout"
        }
      ]
    },
    {
      "metadata": {
        "id": "oGa25tzByeLk",
        "colab_type": "code",
        "outputId": "d5931f67-12a9-41de-ca60-f2e982a1578b",
        "colab": {
          "base_uri": "https://localhost:8080/",
          "height": 35
        }
      },
      "cell_type": "code",
      "source": [
        "# Create & upload a file.\n",
        "uploaded = drive.CreateFile({'title': 'unet_224_final_model_drop_aug.h5'})\n",
        "uploaded.SetContentFile('unet_224_final_model.h5')\n",
        "uploaded.Upload()\n",
        "print('Uploaded file with ID {}'.format(uploaded.get('id')))"
      ],
      "execution_count": 0,
      "outputs": [
        {
          "output_type": "stream",
          "text": [
            "Uploaded file with ID 1W47B_Dt7b-FGczbMC8C7q10lEETgIQ26\n"
          ],
          "name": "stdout"
        }
      ]
    },
    {
      "metadata": {
        "id": "6W1jVP6GyuEl",
        "colab_type": "code",
        "colab": {}
      },
      "cell_type": "code",
      "source": [
        "# img_mask\n",
        "# https://drive.google.com/open?id=1t7-wJjzUteuGAOnVWeEnCsOIe7aj3U3g\n",
        "# img_test\n",
        "# https://drive.google.com/open?id=1XDzdT7ERkHeqrTg8JxGv9b_VVmdZONqM\n",
        "# model.history\n",
        "# https://drive.google.com/open?id=18ybbnkQ1yV-Z7TmnMOg12179EpkpraDg\n",
        "# unet_224_final_model\n",
        "# https://drive.google.com/open?id=1gETJeGjMOTUSbmwv553lZAGK5RkD_gm6\n",
        "# unet_224_best_weight\n",
        "# https://drive.google.com/open?id=1cgE3duyxiyv6NgfT2hWE0yQoMPvCuGdx"
      ],
      "execution_count": 0,
      "outputs": []
    },
    {
      "metadata": {
        "id": "RyBfhO0h3c0S",
        "colab_type": "code",
        "colab": {}
      },
      "cell_type": "code",
      "source": [
        ""
      ],
      "execution_count": 0,
      "outputs": []
    }
  ]
}