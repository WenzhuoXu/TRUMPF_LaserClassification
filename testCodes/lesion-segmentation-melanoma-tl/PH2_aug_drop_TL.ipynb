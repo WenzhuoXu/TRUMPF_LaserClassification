{
  "nbformat": 4,
  "nbformat_minor": 0,
  "metadata": {
    "colab": {
      "name": "PH2_aug_drop_TL.ipynb",
      "version": "0.3.2",
      "provenance": [],
      "collapsed_sections": []
    },
    "kernelspec": {
      "name": "python3",
      "display_name": "Python 3"
    },
    "accelerator": "GPU"
  },
  "cells": [
    {
      "metadata": {
        "id": "FX6wdZdoz0qI",
        "colab_type": "text"
      },
      "cell_type": "markdown",
      "source": [
        "### author: zabiralnazi@yahoo.com\n",
        "> 0.40 Dropout, Transfer Learning"
      ]
    },
    {
      "metadata": {
        "id": "bLYKNAT3FvKz",
        "colab_type": "code",
        "colab": {}
      },
      "cell_type": "code",
      "source": [
        "## data_seg.zip URL: https://drive.google.com/open?id=15Bav4EU2fEKMB76zerubFNIUkJjqy7V2"
      ],
      "execution_count": 0,
      "outputs": []
    },
    {
      "metadata": {
        "id": "cFLrGFDv1zW3",
        "colab_type": "code",
        "outputId": "9e75bcd5-e2e6-4469-e27f-bb2cd5f9f27e",
        "colab": {
          "base_uri": "https://localhost:8080/",
          "height": 128
        }
      },
      "cell_type": "code",
      "source": [
        "# Load the Drive helper and mount\n",
        "from google.colab import drive\n",
        "\n",
        "# This will prompt for authorization.\n",
        "drive.mount('/content/drive')"
      ],
      "execution_count": 0,
      "outputs": [
        {
          "output_type": "stream",
          "text": [
            "Go to this URL in a browser: https://accounts.google.com/o/oauth2/auth?client_id=947318989803-6bn6qk8qdgf4n4g3pfee6491hc0brc4i.apps.googleusercontent.com&redirect_uri=urn%3Aietf%3Awg%3Aoauth%3A2.0%3Aoob&scope=email%20https%3A%2F%2Fwww.googleapis.com%2Fauth%2Fdocs.test%20https%3A%2F%2Fwww.googleapis.com%2Fauth%2Fdrive%20https%3A%2F%2Fwww.googleapis.com%2Fauth%2Fdrive.photos.readonly%20https%3A%2F%2Fwww.googleapis.com%2Fauth%2Fpeopleapi.readonly&response_type=code\n",
            "\n",
            "Enter your authorization code:\n",
            "··········\n",
            "Mounted at /content/drive\n"
          ],
          "name": "stdout"
        }
      ]
    },
    {
      "metadata": {
        "id": "aZrnwzi0CIgp",
        "colab_type": "code",
        "outputId": "2692a1c4-2ae5-4ad8-b382-af8397207b96",
        "colab": {
          "base_uri": "https://localhost:8080/",
          "height": 35
        }
      },
      "cell_type": "code",
      "source": [
        "% cd /content/drive/My Drive"
      ],
      "execution_count": 0,
      "outputs": [
        {
          "output_type": "stream",
          "text": [
            "/content/drive/My Drive\n"
          ],
          "name": "stdout"
        }
      ]
    },
    {
      "metadata": {
        "id": "cn5MQIp9CM1e",
        "colab_type": "code",
        "colab": {}
      },
      "cell_type": "code",
      "source": [
        "# ! ls"
      ],
      "execution_count": 0,
      "outputs": []
    },
    {
      "metadata": {
        "id": "WGvz1ZQjBg33",
        "colab_type": "code",
        "outputId": "8bb3c32a-b107-469b-8d71-addc8e8585fd",
        "colab": {
          "base_uri": "https://localhost:8080/",
          "height": 35
        }
      },
      "cell_type": "code",
      "source": [
        "import os\n",
        "print(os.stat('/content/drive/My Drive/data_seg.zip').st_size/1000000000) # GigaBytes (approx)"
      ],
      "execution_count": 0,
      "outputs": [
        {
          "output_type": "stream",
          "text": [
            "0.019925205\n"
          ],
          "name": "stdout"
        }
      ]
    },
    {
      "metadata": {
        "id": "g4N5lrF0Cmmt",
        "colab_type": "code",
        "outputId": "d9d48d57-936a-4dd8-a481-197eb711cafa",
        "colab": {
          "base_uri": "https://localhost:8080/",
          "height": 35
        }
      },
      "cell_type": "code",
      "source": [
        "% cd /content/"
      ],
      "execution_count": 0,
      "outputs": [
        {
          "output_type": "stream",
          "text": [
            "/content\n"
          ],
          "name": "stdout"
        }
      ]
    },
    {
      "metadata": {
        "id": "41mpm780Cpkt",
        "colab_type": "code",
        "outputId": "a6cf7eb8-450c-4b4e-8a20-7979b379bfbc",
        "colab": {
          "base_uri": "https://localhost:8080/",
          "height": 35
        }
      },
      "cell_type": "code",
      "source": [
        "! ls"
      ],
      "execution_count": 0,
      "outputs": [
        {
          "output_type": "stream",
          "text": [
            "drive  sample_data\n"
          ],
          "name": "stdout"
        }
      ]
    },
    {
      "metadata": {
        "id": "FKtdCB6xCG1o",
        "colab_type": "code",
        "colab": {}
      },
      "cell_type": "code",
      "source": [
        "# unzip to train_imgs folder\n",
        "data_seg = '/content/drive/My Drive/data_seg.zip'\n",
        "import zipfile\n",
        "zip_ref = zipfile.ZipFile(data_seg, 'r')\n",
        "zip_ref.extractall('img_seg')\n",
        "zip_ref.close()"
      ],
      "execution_count": 0,
      "outputs": []
    },
    {
      "metadata": {
        "id": "2ddKV2GkC0oo",
        "colab_type": "code",
        "outputId": "c4806776-de76-4e50-8d2e-5abbd0a7a453",
        "colab": {
          "base_uri": "https://localhost:8080/",
          "height": 35
        }
      },
      "cell_type": "code",
      "source": [
        "! ls"
      ],
      "execution_count": 0,
      "outputs": [
        {
          "output_type": "stream",
          "text": [
            "drive  img_seg\tsample_data\n"
          ],
          "name": "stdout"
        }
      ]
    },
    {
      "metadata": {
        "id": "W9Bh39DXGUyh",
        "colab_type": "code",
        "outputId": "b8520e62-34ff-49dd-80c5-7d84640c4fc4",
        "colab": {
          "base_uri": "https://localhost:8080/",
          "height": 35
        }
      },
      "cell_type": "code",
      "source": [
        "% cd /content/img_seg/data_seg"
      ],
      "execution_count": 0,
      "outputs": [
        {
          "output_type": "stream",
          "text": [
            "/content/img_seg/data_seg\n"
          ],
          "name": "stdout"
        }
      ]
    },
    {
      "metadata": {
        "id": "R7Kr4Oa7GiRK",
        "colab_type": "code",
        "outputId": "3288f0bd-b961-4022-9738-b6c114824c54",
        "colab": {
          "base_uri": "https://localhost:8080/",
          "height": 35
        }
      },
      "cell_type": "code",
      "source": [
        "! ls"
      ],
      "execution_count": 0,
      "outputs": [
        {
          "output_type": "stream",
          "text": [
            "test  train\n"
          ],
          "name": "stdout"
        }
      ]
    },
    {
      "metadata": {
        "id": "vYvQLEWOC2NJ",
        "colab_type": "code",
        "colab": {}
      },
      "cell_type": "code",
      "source": [
        "import glob\n",
        "img_files_tv = [] # train, validation\n",
        "for files in glob.glob('/content/img_seg/data_seg/train/image/*.png'):\n",
        "    img_files_tv.append(files)\n",
        "\n",
        "mask_files_tv = []\n",
        "for files in glob.glob('/content/img_seg/data_seg/train/label/*.png'):\n",
        "    mask_files_tv.append(files)"
      ],
      "execution_count": 0,
      "outputs": []
    },
    {
      "metadata": {
        "id": "iJrm1qngF7LR",
        "colab_type": "code",
        "outputId": "ceaae684-e625-453e-ca03-16b23fc8307b",
        "colab": {
          "base_uri": "https://localhost:8080/",
          "height": 53
        }
      },
      "cell_type": "code",
      "source": [
        "print(len(img_files_tv))\n",
        "print(len(mask_files_tv))"
      ],
      "execution_count": 0,
      "outputs": [
        {
          "output_type": "stream",
          "text": [
            "170\n",
            "170\n"
          ],
          "name": "stdout"
        }
      ]
    },
    {
      "metadata": {
        "id": "F3PWREZhGCdY",
        "colab_type": "code",
        "colab": {}
      },
      "cell_type": "code",
      "source": [
        "img_files_tst = [] # train, validation\n",
        "for files in glob.glob('/content/img_seg/data_seg/test/image/*.png'):\n",
        "    img_files_tst.append(files)\n",
        "\n",
        "mask_files_tst = []\n",
        "for files in glob.glob('/content/img_seg/data_seg/test/label/*.png'):\n",
        "    mask_files_tst.append(files)"
      ],
      "execution_count": 0,
      "outputs": []
    },
    {
      "metadata": {
        "id": "S-KCL-GjHkDj",
        "colab_type": "code",
        "outputId": "69881405-6c37-4ea4-8615-128e6dd8e611",
        "colab": {
          "base_uri": "https://localhost:8080/",
          "height": 53
        }
      },
      "cell_type": "code",
      "source": [
        "print(len(img_files_tst))\n",
        "print(len(mask_files_tst))"
      ],
      "execution_count": 0,
      "outputs": [
        {
          "output_type": "stream",
          "text": [
            "30\n",
            "30\n"
          ],
          "name": "stdout"
        }
      ]
    },
    {
      "metadata": {
        "id": "mSJD9L3XHnGd",
        "colab_type": "code",
        "colab": {}
      },
      "cell_type": "code",
      "source": [
        "# To reproduce the results later\n",
        "from numpy.random import seed\n",
        "seed(1997)\n",
        "from tensorflow import set_random_seed\n",
        "set_random_seed(1997)"
      ],
      "execution_count": 0,
      "outputs": []
    },
    {
      "metadata": {
        "id": "wmVc9hNqH2TV",
        "colab_type": "code",
        "outputId": "5e50ff30-4028-4869-f719-ff38c2d4c263",
        "colab": {
          "base_uri": "https://localhost:8080/",
          "height": 35
        }
      },
      "cell_type": "code",
      "source": [
        "# reference: https://github.com/ZFTurbo/ZF_UNET_224_Pretrained_Model\n",
        "from keras.models import Model\n",
        "from keras.layers import Input, Conv2D, MaxPooling2D, UpSampling2D\n",
        "from keras.layers.normalization import BatchNormalization\n",
        "from keras.layers.core import SpatialDropout2D, Activation\n",
        "from keras import backend as K\n",
        "from keras.layers.merge import concatenate\n",
        "from keras.utils.data_utils import get_file\n",
        "\n",
        "# Number of image channels (for example 3 in case of RGB, or 1 for grayscale images)\n",
        "INPUT_CHANNELS = 3\n",
        "# Number of output masks (1 in case you predict only one type of objects)\n",
        "OUTPUT_MASK_CHANNELS = 1\n",
        "# Pretrained weights\n",
        "\n",
        "\n",
        "def preprocess_input(x):\n",
        "    x /= 255.\n",
        "    # not sure about the mean of the image distribution\n",
        "    return x\n",
        "\n",
        "\n",
        "def dice_coef(y_true, y_pred):\n",
        "    y_true_f = K.flatten(y_true)\n",
        "    y_pred_f = K.flatten(y_pred)\n",
        "    intersection = K.sum(y_true_f * y_pred_f)\n",
        "    # +1 added to avoid 0/0 division\n",
        "    return (2.0 * intersection + 1.0) / (K.sum(y_true_f) + K.sum(y_pred_f) + 1.0)\n",
        "  \n",
        "\n",
        "\n",
        "def jacard_coef(y_true, y_pred):\n",
        "    y_true_f = K.flatten(y_true)\n",
        "    y_pred_f = K.flatten(y_pred)\n",
        "    intersection = K.sum(y_true_f * y_pred_f)\n",
        "    return (intersection + 1.0) / (K.sum(y_true_f) + K.sum(y_pred_f) - intersection + 1.0)\n",
        "\n",
        "\n",
        "def jacard_coef_loss(y_true, y_pred):\n",
        "    return -jacard_coef(y_true, y_pred)\n",
        "\n",
        "\n",
        "def dice_coef_loss(y_true, y_pred):\n",
        "    return -dice_coef(y_true, y_pred)\n",
        "\n",
        "\n",
        "def double_conv_layer(x, size, dropout=0.5, batch_norm=True):\n",
        "    if K.image_dim_ordering() == 'th':\n",
        "        axis = 1\n",
        "    else:\n",
        "        axis = 3\n",
        "    conv = Conv2D(size, (3, 3), padding='same')(x)\n",
        "    if batch_norm is True:\n",
        "        conv = BatchNormalization(axis=axis)(conv)\n",
        "    conv = Activation('relu')(conv)\n",
        "    conv = Conv2D(size, (3, 3), padding='same')(conv)\n",
        "    if batch_norm is True:\n",
        "        conv = BatchNormalization(axis=axis)(conv)\n",
        "    conv = Activation('relu')(conv)\n",
        "    if dropout > 0:\n",
        "        conv = SpatialDropout2D(dropout)(conv)\n",
        "    return conv\n",
        "\n",
        "\n",
        "def UNET_224(dropout_val=0.5, weights=None): # No dropout by default\n",
        "    if K.image_dim_ordering() == 'th':\n",
        "        inputs = Input((INPUT_CHANNELS, 224, 224))\n",
        "        axis = 1\n",
        "    else:\n",
        "        inputs = Input((224, 224, INPUT_CHANNELS))\n",
        "        axis = 3\n",
        "    filters = 32\n",
        "\n",
        "    conv_224 = double_conv_layer(inputs, filters)\n",
        "    pool_112 = MaxPooling2D(pool_size=(2, 2))(conv_224)\n",
        "\n",
        "    conv_112 = double_conv_layer(pool_112, 2*filters)\n",
        "    pool_56 = MaxPooling2D(pool_size=(2, 2))(conv_112)\n",
        "\n",
        "    conv_56 = double_conv_layer(pool_56, 4*filters)\n",
        "    pool_28 = MaxPooling2D(pool_size=(2, 2))(conv_56)\n",
        "\n",
        "    conv_28 = double_conv_layer(pool_28, 8*filters)\n",
        "    pool_14 = MaxPooling2D(pool_size=(2, 2))(conv_28)\n",
        "\n",
        "    conv_14 = double_conv_layer(pool_14, 16*filters)\n",
        "    pool_7 = MaxPooling2D(pool_size=(2, 2))(conv_14)\n",
        "\n",
        "    conv_7 = double_conv_layer(pool_7, 32*filters)\n",
        "\n",
        "    up_14 = concatenate([UpSampling2D(size=(2, 2))(conv_7), conv_14], axis=axis)\n",
        "    up_conv_14 = double_conv_layer(up_14, 16*filters)\n",
        "\n",
        "    up_28 = concatenate([UpSampling2D(size=(2, 2))(up_conv_14), conv_28], axis=axis)\n",
        "    up_conv_28 = double_conv_layer(up_28, 8*filters)\n",
        "\n",
        "    up_56 = concatenate([UpSampling2D(size=(2, 2))(up_conv_28), conv_56], axis=axis)\n",
        "    up_conv_56 = double_conv_layer(up_56, 4*filters)\n",
        "\n",
        "    up_112 = concatenate([UpSampling2D(size=(2, 2))(up_conv_56), conv_112], axis=axis)\n",
        "    up_conv_112 = double_conv_layer(up_112, 2*filters)\n",
        "\n",
        "    up_224 = concatenate([UpSampling2D(size=(2, 2))(up_conv_112), conv_224], axis=axis)\n",
        "    up_conv_224 = double_conv_layer(up_224, filters, dropout_val)\n",
        "\n",
        "    conv_final = Conv2D(OUTPUT_MASK_CHANNELS, (1, 1))(up_conv_224)\n",
        "    conv_final = Activation('sigmoid')(conv_final)\n",
        "\n",
        "    model = Model(inputs, conv_final, name=\"UNET_224\")\n",
        "\n",
        "\n",
        "    return model"
      ],
      "execution_count": 0,
      "outputs": [
        {
          "output_type": "stream",
          "text": [
            "Using TensorFlow backend.\n"
          ],
          "name": "stderr"
        }
      ]
    },
    {
      "metadata": {
        "id": "73p9yWxtI1qz",
        "colab_type": "code",
        "outputId": "61ce202f-9ec6-40bc-c757-6f6853dd9e2b",
        "colab": {
          "base_uri": "https://localhost:8080/",
          "height": 35
        }
      },
      "cell_type": "code",
      "source": [
        "import cv2\n",
        "import random\n",
        "import numpy as np\n",
        "import pandas as pd\n",
        "from keras.optimizers import Adam, SGD\n",
        "from keras.callbacks import ModelCheckpoint, EarlyStopping, ReduceLROnPlateau\n",
        "from keras import __version__\n",
        "\n",
        "img_files_tv.sort()\n",
        "mask_files_tv.sort()\n",
        "\n",
        "img_files_tst.sort()\n",
        "mask_files_tst.sort()\n",
        "\n",
        "print('Updated States ...')\n",
        "img_arr = []\n",
        "mask_arr = []\n",
        "num_train = len(img_files_tv)\n",
        "global gen_batch "
      ],
      "execution_count": 0,
      "outputs": [
        {
          "output_type": "stream",
          "text": [
            "Updated States ...\n"
          ],
          "name": "stdout"
        }
      ]
    },
    {
      "metadata": {
        "id": "PIOlzja4JZSE",
        "colab_type": "code",
        "outputId": "ac803bae-5207-45ef-f6b4-3677005b14c8",
        "colab": {
          "base_uri": "https://localhost:8080/",
          "height": 53
        }
      },
      "cell_type": "code",
      "source": [
        "import random\n",
        "random.seed(1997) # same seed again\n",
        "for i in range(num_train):\n",
        "    a = cv2.imread(img_files_tv[i])\n",
        "    #a = cv2.resize(a, (224, 224)) \n",
        "    a = np.array(a,dtype=np.uint8)\n",
        "    img_arr.append(a)\n",
        "\n",
        "    b = cv2.imread(mask_files_tv[i],0)\n",
        "    b = cv2.resize(b, (224, 224)) \n",
        "    b = np.array(b,dtype=np.uint8)\n",
        "    mask_arr.append(b)\n",
        "    \n",
        "    \n",
        "for i in range(len(img_files_tst)):\n",
        "    a = cv2.imread(img_files_tst[i])\n",
        "    #a = cv2.resize(a, (224, 224)) \n",
        "    a = np.array(a,dtype=np.uint8)\n",
        "    img_arr.append(a)\n",
        "\n",
        "    b = cv2.imread(mask_files_tst[i],0)\n",
        "    b = cv2.resize(b, (224, 224)) \n",
        "    b = np.array(b,dtype=np.uint8)\n",
        "    mask_arr.append(b)\n",
        "    \n",
        "print(len(img_arr))\n",
        "print(len(mask_arr))\n",
        "    \n",
        "gen_batch = 0\n",
        "\n",
        "fin_arr = list(zip(img_arr,mask_arr))\n",
        "random.shuffle(fin_arr)\n",
        "img_arr = [x[0] for x in fin_arr]\n",
        "mask_arr = [x[1] for x in fin_arr]"
      ],
      "execution_count": 0,
      "outputs": [
        {
          "output_type": "stream",
          "text": [
            "200\n",
            "200\n"
          ],
          "name": "stdout"
        }
      ]
    },
    {
      "metadata": {
        "id": "ioGkCZOBKHMi",
        "colab_type": "code",
        "outputId": "0514e787-c7ee-4b8a-b4ce-938af299a3a6",
        "colab": {
          "base_uri": "https://localhost:8080/",
          "height": 144
        }
      },
      "cell_type": "code",
      "source": [
        "tot_data = len(img_arr)\n",
        "print(tot_data)\n",
        "train_split = 0.5\n",
        "validation_split = 0.5 + 0.2\n",
        "test_split = 0.5 + 0.2 + 0.3\n",
        "\n",
        "train_img = img_arr[:int(tot_data*train_split)]\n",
        "validation_img = img_arr[int(tot_data*train_split):int(tot_data*validation_split)]\n",
        "test_img = img_arr[int(tot_data*validation_split):]\n",
        "\n",
        "train_mask = mask_arr[:int(tot_data*train_split)]\n",
        "validation_mask = mask_arr[int(tot_data*train_split):int(tot_data*validation_split)]\n",
        "test_mask = mask_arr[int(tot_data*validation_split):]\n",
        "\n",
        "print(len(train_img))\n",
        "print(len(train_mask))\n",
        "\n",
        "print(len(validation_img))\n",
        "print(len(validation_mask))\n",
        "\n",
        "print(len(test_img))\n",
        "print(len(test_mask))"
      ],
      "execution_count": 0,
      "outputs": [
        {
          "output_type": "stream",
          "text": [
            "200\n",
            "100\n",
            "100\n",
            "40\n",
            "40\n",
            "60\n",
            "60\n"
          ],
          "name": "stdout"
        }
      ]
    },
    {
      "metadata": {
        "id": "xUW2_DXMKi4b",
        "colab_type": "code",
        "colab": {}
      },
      "cell_type": "code",
      "source": [
        "train_img = np.array(train_img, dtype = 'float32')\n",
        "train_img = preprocess_input(train_img)\n",
        "validation_img = np.array(validation_img, dtype = 'float32')\n",
        "validation_img = preprocess_input(validation_img)\n",
        "test_img = np.array(test_img, dtype = 'float32')\n",
        "test_img = preprocess_input(test_img)"
      ],
      "execution_count": 0,
      "outputs": []
    },
    {
      "metadata": {
        "id": "k39m5yNeK3pb",
        "colab_type": "code",
        "outputId": "20db6f35-ab06-4f15-a18c-f66f2e545e30",
        "colab": {
          "base_uri": "https://localhost:8080/",
          "height": 126
        }
      },
      "cell_type": "code",
      "source": [
        "print(np.max(train_img[0]))\n",
        "print(np.max(validation_img[0]))\n",
        "print(np.max(test_img[0]))\n",
        "\n",
        "print(np.min(train_img[0]))\n",
        "print(np.min(validation_img[0]))\n",
        "print(np.min(test_img[0]))"
      ],
      "execution_count": 0,
      "outputs": [
        {
          "output_type": "stream",
          "text": [
            "1.0\n",
            "1.0\n",
            "1.0\n",
            "0.003921569\n",
            "0.0\n",
            "0.019607844\n"
          ],
          "name": "stdout"
        }
      ]
    },
    {
      "metadata": {
        "id": "kIunBVBMLXqs",
        "colab_type": "code",
        "colab": {}
      },
      "cell_type": "code",
      "source": [
        "train_mask = np.array(train_mask, dtype = 'float32')\n",
        "train_mask = preprocess_input(train_mask)\n",
        "validation_mask = np.array(validation_mask, dtype = 'float32')\n",
        "validation_mask = preprocess_input(validation_mask)\n",
        "test_mask = np.array(test_mask, dtype = 'float32')\n",
        "test_mask = preprocess_input(test_mask)"
      ],
      "execution_count": 0,
      "outputs": []
    },
    {
      "metadata": {
        "id": "XegQ5MjWLjVW",
        "colab_type": "code",
        "outputId": "27bd127e-ad36-479c-d952-3b1394c1ba10",
        "colab": {
          "base_uri": "https://localhost:8080/",
          "height": 126
        }
      },
      "cell_type": "code",
      "source": [
        "print(np.max(train_mask[0]))\n",
        "print(np.max(validation_mask[0]))\n",
        "print(np.max(test_mask[0]))\n",
        "\n",
        "print(np.min(train_mask[0]))\n",
        "print(np.min(validation_mask[0]))\n",
        "print(np.min(test_mask[0]))"
      ],
      "execution_count": 0,
      "outputs": [
        {
          "output_type": "stream",
          "text": [
            "1.0\n",
            "1.0\n",
            "1.0\n",
            "0.0\n",
            "0.0\n",
            "0.0\n"
          ],
          "name": "stdout"
        }
      ]
    },
    {
      "metadata": {
        "id": "pUEg698vLqDb",
        "colab_type": "code",
        "outputId": "6e47b45c-4139-4858-c98f-b5c3ec368852",
        "colab": {
          "base_uri": "https://localhost:8080/",
          "height": 53
        }
      },
      "cell_type": "code",
      "source": [
        "print(train_img[0].shape)\n",
        "print(train_mask[0].shape)"
      ],
      "execution_count": 0,
      "outputs": [
        {
          "output_type": "stream",
          "text": [
            "(224, 224, 3)\n",
            "(224, 224)\n"
          ],
          "name": "stdout"
        }
      ]
    },
    {
      "metadata": {
        "id": "GwNdLKyFLtVd",
        "colab_type": "code",
        "outputId": "1712045a-0523-4715-bd89-007e0895cfb2",
        "colab": {
          "base_uri": "https://localhost:8080/",
          "height": 53
        }
      },
      "cell_type": "code",
      "source": [
        "print(train_mask.shape)\n",
        "n_s, r, c = train_mask.shape\n",
        "train_mask = train_mask.reshape(n_s, r, c, 1)\n",
        "print(train_mask.shape)"
      ],
      "execution_count": 0,
      "outputs": [
        {
          "output_type": "stream",
          "text": [
            "(100, 224, 224)\n",
            "(100, 224, 224, 1)\n"
          ],
          "name": "stdout"
        }
      ]
    },
    {
      "metadata": {
        "id": "OtExY_AfLwp1",
        "colab_type": "code",
        "outputId": "72bb18fb-4182-4d3e-fd89-9be6bc2a1809",
        "colab": {
          "base_uri": "https://localhost:8080/",
          "height": 53
        }
      },
      "cell_type": "code",
      "source": [
        "print(validation_mask.shape)\n",
        "n_s, r, c = validation_mask.shape\n",
        "validation_mask = validation_mask.reshape(n_s, r, c, 1)\n",
        "print(validation_mask.shape)"
      ],
      "execution_count": 0,
      "outputs": [
        {
          "output_type": "stream",
          "text": [
            "(40, 224, 224)\n",
            "(40, 224, 224, 1)\n"
          ],
          "name": "stdout"
        }
      ]
    },
    {
      "metadata": {
        "id": "FLTtYDckL0ed",
        "colab_type": "code",
        "outputId": "aba2757d-8741-423f-934a-593597cf6b0b",
        "colab": {
          "base_uri": "https://localhost:8080/",
          "height": 53
        }
      },
      "cell_type": "code",
      "source": [
        "print(test_mask.shape)\n",
        "n_s, r, c = test_mask.shape\n",
        "test_mask = test_mask.reshape(n_s, r, c, 1)\n",
        "print(test_mask.shape)"
      ],
      "execution_count": 0,
      "outputs": [
        {
          "output_type": "stream",
          "text": [
            "(60, 224, 224)\n",
            "(60, 224, 224, 1)\n"
          ],
          "name": "stdout"
        }
      ]
    },
    {
      "metadata": {
        "id": "lrBV-XA0NUfI",
        "colab_type": "code",
        "outputId": "acf85c1a-da26-407f-f4b9-9a655d1e1bf2",
        "colab": {
          "base_uri": "https://localhost:8080/",
          "height": 35
        }
      },
      "cell_type": "code",
      "source": [
        "print(os.stat('/content/drive/My Drive/unet_224_best_weight_drop_aug.h5').st_size/1000000000) # GigaBytes (approx)"
      ],
      "execution_count": 0,
      "outputs": [
        {
          "output_type": "stream",
          "text": [
            "0.377860192\n"
          ],
          "name": "stdout"
        }
      ]
    },
    {
      "metadata": {
        "id": "hlGowSMbMqFd",
        "colab_type": "code",
        "outputId": "6b545422-e46e-4605-85ef-9d4b11dae2ce",
        "colab": {
          "base_uri": "https://localhost:8080/",
          "height": 1602
        }
      },
      "cell_type": "code",
      "source": [
        "from keras.models import load_model\n",
        "import os\n",
        "\n",
        "out_model_path = 'unet_224_final_model_tf_ph2.h5'\n",
        "\n",
        "pretrained_weights = '/content/drive/My Drive/unet_224_best_weight_drop_aug.h5'\n",
        "epochs = 20\n",
        "patience = 20\n",
        "batch_size = 32\n",
        "optim_type = 'Adam'\n",
        "learning_rate = 0.001\n",
        "model = UNET_224()\n",
        "\n",
        "#if os.path.isfile(out_model_path):\n",
        "\n",
        "model.load_weights(pretrained_weights)\n",
        "\n",
        "if optim_type == 'SGD':\n",
        "    optim = SGD(lr=learning_rate, decay=1e-6, momentum=0.9, nesterov=True)\n",
        "else:\n",
        "    optim = Adam(lr=learning_rate)\n",
        "model.compile(optimizer=optim, loss=dice_coef_loss, metrics=[dice_coef, jacard_coef])\n",
        "\n",
        "callbacks = [\n",
        "    ReduceLROnPlateau(monitor='val_loss', factor=0.5, patience=5, min_lr=1e-9, epsilon=0.00001, verbose=1, mode='min'),\n",
        "    #EarlyStopping(monitor='val_loss', patience=patience, verbose=0),\n",
        "    ModelCheckpoint('unet_224_best_weight.h5', monitor='val_loss', save_best_only=True, verbose=1),\n",
        "]\n",
        "\n",
        "print('Training Init()')\n",
        "history = model.fit(\n",
        "    x = train_img,\n",
        "    y = train_mask,\n",
        "    batch_size = batch_size,\n",
        "    epochs=epochs,\n",
        "    #steps_per_epoch= 1815//batch_size,\n",
        "    validation_data= (validation_img, validation_mask),\n",
        "    #validation_steps= 389//16,\n",
        "    verbose=1,\n",
        "    callbacks=callbacks)\n",
        "\n",
        "model.save(out_model_path)"
      ],
      "execution_count": 0,
      "outputs": [
        {
          "output_type": "stream",
          "text": [
            "/usr/local/lib/python3.6/dist-packages/keras/callbacks.py:928: UserWarning: `epsilon` argument is deprecated and will be removed, use `min_delta` insted.\n",
            "  warnings.warn('`epsilon` argument is deprecated and '\n"
          ],
          "name": "stderr"
        },
        {
          "output_type": "stream",
          "text": [
            "Training Init()\n",
            "Train on 100 samples, validate on 40 samples\n",
            "Epoch 1/20\n",
            "100/100 [==============================] - 23s 234ms/step - loss: -0.9029 - dice_coef: 0.9029 - jacard_coef: 0.8234 - val_loss: -0.8242 - val_dice_coef: 0.8242 - val_jacard_coef: 0.7010\n",
            "\n",
            "Epoch 00001: val_loss improved from inf to -0.82420, saving model to unet_224_best_weight.h5\n",
            "Epoch 2/20\n",
            "100/100 [==============================] - 6s 57ms/step - loss: -0.9156 - dice_coef: 0.9156 - jacard_coef: 0.8445 - val_loss: -0.8627 - val_dice_coef: 0.8627 - val_jacard_coef: 0.7586\n",
            "\n",
            "Epoch 00002: val_loss improved from -0.82420 to -0.86267, saving model to unet_224_best_weight.h5\n",
            "Epoch 3/20\n",
            "100/100 [==============================] - 6s 55ms/step - loss: -0.9351 - dice_coef: 0.9351 - jacard_coef: 0.8781 - val_loss: -0.8454 - val_dice_coef: 0.8454 - val_jacard_coef: 0.7321\n",
            "\n",
            "Epoch 00003: val_loss did not improve from -0.86267\n",
            "Epoch 4/20\n",
            "100/100 [==============================] - 6s 55ms/step - loss: -0.9331 - dice_coef: 0.9331 - jacard_coef: 0.8748 - val_loss: -0.8407 - val_dice_coef: 0.8407 - val_jacard_coef: 0.7251\n",
            "\n",
            "Epoch 00004: val_loss did not improve from -0.86267\n",
            "Epoch 5/20\n",
            "100/100 [==============================] - 6s 55ms/step - loss: -0.9396 - dice_coef: 0.9396 - jacard_coef: 0.8861 - val_loss: -0.8655 - val_dice_coef: 0.8655 - val_jacard_coef: 0.7632\n",
            "\n",
            "Epoch 00005: val_loss improved from -0.86267 to -0.86551, saving model to unet_224_best_weight.h5\n",
            "Epoch 6/20\n",
            "100/100 [==============================] - 6s 55ms/step - loss: -0.9259 - dice_coef: 0.9259 - jacard_coef: 0.8624 - val_loss: -0.8795 - val_dice_coef: 0.8795 - val_jacard_coef: 0.7853\n",
            "\n",
            "Epoch 00006: val_loss improved from -0.86551 to -0.87953, saving model to unet_224_best_weight.h5\n",
            "Epoch 7/20\n",
            "100/100 [==============================] - 6s 55ms/step - loss: -0.9223 - dice_coef: 0.9223 - jacard_coef: 0.8564 - val_loss: -0.8791 - val_dice_coef: 0.8791 - val_jacard_coef: 0.7846\n",
            "\n",
            "Epoch 00007: val_loss did not improve from -0.87953\n",
            "Epoch 8/20\n",
            "100/100 [==============================] - 6s 55ms/step - loss: -0.9255 - dice_coef: 0.9255 - jacard_coef: 0.8616 - val_loss: -0.8715 - val_dice_coef: 0.8715 - val_jacard_coef: 0.7724\n",
            "\n",
            "Epoch 00008: val_loss did not improve from -0.87953\n",
            "Epoch 9/20\n",
            "100/100 [==============================] - 6s 55ms/step - loss: -0.9312 - dice_coef: 0.9312 - jacard_coef: 0.8717 - val_loss: -0.8637 - val_dice_coef: 0.8637 - val_jacard_coef: 0.7602\n",
            "\n",
            "Epoch 00009: val_loss did not improve from -0.87953\n",
            "Epoch 10/20\n",
            "100/100 [==============================] - 6s 55ms/step - loss: -0.9406 - dice_coef: 0.9406 - jacard_coef: 0.8880 - val_loss: -0.8610 - val_dice_coef: 0.8610 - val_jacard_coef: 0.7560\n",
            "\n",
            "Epoch 00010: val_loss did not improve from -0.87953\n",
            "Epoch 11/20\n",
            "100/100 [==============================] - 6s 55ms/step - loss: -0.9418 - dice_coef: 0.9418 - jacard_coef: 0.8901 - val_loss: -0.8714 - val_dice_coef: 0.8714 - val_jacard_coef: 0.7722\n",
            "\n",
            "Epoch 00011: ReduceLROnPlateau reducing learning rate to 0.0005000000237487257.\n",
            "\n",
            "Epoch 00011: val_loss did not improve from -0.87953\n",
            "Epoch 12/20\n",
            "100/100 [==============================] - 6s 55ms/step - loss: -0.9424 - dice_coef: 0.9424 - jacard_coef: 0.8911 - val_loss: -0.8729 - val_dice_coef: 0.8729 - val_jacard_coef: 0.7745\n",
            "\n",
            "Epoch 00012: val_loss did not improve from -0.87953\n",
            "Epoch 13/20\n",
            "100/100 [==============================] - 6s 55ms/step - loss: -0.9452 - dice_coef: 0.9452 - jacard_coef: 0.8962 - val_loss: -0.8744 - val_dice_coef: 0.8744 - val_jacard_coef: 0.7769\n",
            "\n",
            "Epoch 00013: val_loss did not improve from -0.87953\n",
            "Epoch 14/20\n",
            "100/100 [==============================] - 6s 55ms/step - loss: -0.9365 - dice_coef: 0.9365 - jacard_coef: 0.8807 - val_loss: -0.8744 - val_dice_coef: 0.8744 - val_jacard_coef: 0.7769\n",
            "\n",
            "Epoch 00014: val_loss did not improve from -0.87953\n",
            "Epoch 15/20\n",
            "100/100 [==============================] - 6s 55ms/step - loss: -0.9474 - dice_coef: 0.9474 - jacard_coef: 0.9001 - val_loss: -0.8737 - val_dice_coef: 0.8737 - val_jacard_coef: 0.7759\n",
            "\n",
            "Epoch 00015: val_loss did not improve from -0.87953\n",
            "Epoch 16/20\n",
            "100/100 [==============================] - 6s 55ms/step - loss: -0.9415 - dice_coef: 0.9415 - jacard_coef: 0.8898 - val_loss: -0.8820 - val_dice_coef: 0.8820 - val_jacard_coef: 0.7892\n",
            "\n",
            "Epoch 00016: val_loss improved from -0.87953 to -0.88201, saving model to unet_224_best_weight.h5\n",
            "Epoch 17/20\n",
            "100/100 [==============================] - 6s 55ms/step - loss: -0.9350 - dice_coef: 0.9350 - jacard_coef: 0.8781 - val_loss: -0.8940 - val_dice_coef: 0.8940 - val_jacard_coef: 0.8085\n",
            "\n",
            "Epoch 00017: val_loss improved from -0.88201 to -0.89402, saving model to unet_224_best_weight.h5\n",
            "Epoch 18/20\n",
            "100/100 [==============================] - 5s 55ms/step - loss: -0.9492 - dice_coef: 0.9492 - jacard_coef: 0.9034 - val_loss: -0.8965 - val_dice_coef: 0.8965 - val_jacard_coef: 0.8126\n",
            "\n",
            "Epoch 00018: val_loss improved from -0.89402 to -0.89650, saving model to unet_224_best_weight.h5\n",
            "Epoch 19/20\n",
            "100/100 [==============================] - 5s 55ms/step - loss: -0.9488 - dice_coef: 0.9488 - jacard_coef: 0.9026 - val_loss: -0.8988 - val_dice_coef: 0.8988 - val_jacard_coef: 0.8164\n",
            "\n",
            "Epoch 00019: val_loss improved from -0.89650 to -0.89884, saving model to unet_224_best_weight.h5\n",
            "Epoch 20/20\n",
            "100/100 [==============================] - 6s 55ms/step - loss: -0.9470 - dice_coef: 0.9470 - jacard_coef: 0.8994 - val_loss: -0.8978 - val_dice_coef: 0.8978 - val_jacard_coef: 0.8148\n",
            "\n",
            "Epoch 00020: val_loss did not improve from -0.89884\n"
          ],
          "name": "stdout"
        }
      ]
    },
    {
      "metadata": {
        "id": "5DcJTK_ZN88V",
        "colab_type": "code",
        "colab": {}
      },
      "cell_type": "code",
      "source": [
        "predicted_mask = model.predict(test_img)"
      ],
      "execution_count": 0,
      "outputs": []
    },
    {
      "metadata": {
        "id": "AWoSXVYeQxGD",
        "colab_type": "code",
        "outputId": "7d677d3b-6499-4018-9a73-1274ba89fecc",
        "colab": {
          "base_uri": "https://localhost:8080/",
          "height": 35
        }
      },
      "cell_type": "code",
      "source": [
        "predicted_mask.shape"
      ],
      "execution_count": 0,
      "outputs": [
        {
          "output_type": "execute_result",
          "data": {
            "text/plain": [
              "(60, 224, 224, 1)"
            ]
          },
          "metadata": {
            "tags": []
          },
          "execution_count": 32
        }
      ]
    },
    {
      "metadata": {
        "id": "u3pHXqeFQ0Ji",
        "colab_type": "code",
        "colab": {}
      },
      "cell_type": "code",
      "source": [
        "def dice_coef_eval(y_true, y_pred):\n",
        "    y_p = y_pred.flatten()\n",
        "    #print(y_p.shape)\n",
        "    y_b = y_true.flatten()\n",
        "    #print(y_b.shape)\n",
        "    cc = np.dot(y_p,y_b)\n",
        "    #print(cc)\n",
        "    ps = np.sum(y_p)\n",
        "    pb = np.sum(y_b)\n",
        "    ds = (2.0*cc + 1.0)/(ps+pb+1.0)\n",
        "    #print(type(ds))\n",
        "    return ds\n",
        "  \n",
        "def jacard_coef_eval(y_true, y_pred):\n",
        "    y_p = y_pred.flatten()\n",
        "    #print(y_p.shape)\n",
        "    y_b = y_true.flatten()\n",
        "    #print(y_b.shape)\n",
        "    cc = np.dot(y_p,y_b)\n",
        "    #print(cc)\n",
        "    ps = np.sum(y_p)\n",
        "    pb = np.sum(y_b)\n",
        "    js = (cc + 1.0)/(ps+pb-cc+1.0)\n",
        "    #print(type(ds))\n",
        "    return js"
      ],
      "execution_count": 0,
      "outputs": []
    },
    {
      "metadata": {
        "id": "lmKSHT-uVt-E",
        "colab_type": "code",
        "colab": {}
      },
      "cell_type": "code",
      "source": [
        "# binary conversion\n",
        "predicted_mask[predicted_mask<0.5] = 0.0\n",
        "predicted_mask[predicted_mask>=0.5] = 1.0"
      ],
      "execution_count": 0,
      "outputs": []
    },
    {
      "metadata": {
        "id": "zQbi7yUKV2T6",
        "colab_type": "code",
        "colab": {}
      },
      "cell_type": "code",
      "source": [
        "dice_score_test = []\n",
        "jacard_score_test = []\n",
        "\n",
        "n_s, r, c, ch = predicted_mask.shape\n",
        "for i in range(n_s):\n",
        "    dice_score_test.append(dice_coef_eval(predicted_mask[i,:,:,:], test_mask[i,:,:,:]))\n",
        "    jacard_score_test.append(jacard_coef_eval(predicted_mask[i,:,:,:], test_mask[i,:,:,:]))"
      ],
      "execution_count": 0,
      "outputs": []
    },
    {
      "metadata": {
        "id": "1MJwiNpgWEok",
        "colab_type": "code",
        "outputId": "74be6122-97f0-4c21-8829-6be9e4069a0f",
        "colab": {
          "base_uri": "https://localhost:8080/",
          "height": 90
        }
      },
      "cell_type": "code",
      "source": [
        "print(np.mean(dice_score_test))\n",
        "print(2.0*np.std(dice_score_test))\n",
        "\n",
        "print(np.mean(jacard_score_test))\n",
        "print(2.0*np.std(jacard_score_test))"
      ],
      "execution_count": 0,
      "outputs": [
        {
          "output_type": "stream",
          "text": [
            "0.9275341766948207\n",
            "0.12618068346026734\n",
            "0.8704893363514875\n",
            "0.19190177857078056\n"
          ],
          "name": "stdout"
        }
      ]
    },
    {
      "metadata": {
        "id": "32MPop50Wsro",
        "colab_type": "code",
        "colab": {}
      },
      "cell_type": "code",
      "source": [
        "# Install the PyDrive wrapper & import libraries.\n",
        "# This only needs to be done once in a notebook.\n",
        "!pip install -U -q PyDrive"
      ],
      "execution_count": 0,
      "outputs": []
    },
    {
      "metadata": {
        "id": "CioN1yDVZugt",
        "colab_type": "code",
        "colab": {}
      },
      "cell_type": "code",
      "source": [
        "np.save('img_test.npy', test_img)\n",
        "np.save('img_mask.npy', test_mask)\n",
        "np.save('y_predicted_test.npy', predicted_mask)\n",
        "np.save('model.hist.npy', history.history)"
      ],
      "execution_count": 0,
      "outputs": []
    },
    {
      "metadata": {
        "id": "A1tsIv7FZdlK",
        "colab_type": "code",
        "outputId": "96833891-7e68-45e8-8efe-b058a1297175",
        "colab": {
          "base_uri": "https://localhost:8080/",
          "height": 35
        }
      },
      "cell_type": "code",
      "source": [
        "# saving to google drive for backup\n",
        "\n",
        "\n",
        "from pydrive.auth import GoogleAuth\n",
        "from pydrive.drive import GoogleDrive\n",
        "from google.colab import auth\n",
        "from oauth2client.client import GoogleCredentials\n",
        "\n",
        "# Authenticate and create the PyDrive client.\n",
        "# This only needs to be done once in a notebook.\n",
        "auth.authenticate_user()\n",
        "gauth = GoogleAuth()\n",
        "gauth.credentials = GoogleCredentials.get_application_default()\n",
        "drive = GoogleDrive(gauth)\n",
        "\n",
        "# Create & upload a file.\n",
        "uploaded = drive.CreateFile({'title': 'img_mask_ph2_tl.npy'})\n",
        "uploaded.SetContentFile('img_mask.npy')\n",
        "uploaded.Upload()\n",
        "print('Uploaded file with ID {}'.format(uploaded.get('id')))"
      ],
      "execution_count": 0,
      "outputs": [
        {
          "output_type": "stream",
          "text": [
            "Uploaded file with ID 18ayvAUBCTmxnKuW4D06PB7ERN6MdC1dq\n"
          ],
          "name": "stdout"
        }
      ]
    },
    {
      "metadata": {
        "id": "6Cs_blHcaLAb",
        "colab_type": "code",
        "outputId": "377f1555-eb70-4e95-c057-cd4f2c0e0488",
        "colab": {
          "base_uri": "https://localhost:8080/",
          "height": 35
        }
      },
      "cell_type": "code",
      "source": [
        "# Create & upload a file.\n",
        "uploaded = drive.CreateFile({'title': 'img_test_ph2_tl.npy'})\n",
        "uploaded.SetContentFile('img_test.npy')\n",
        "uploaded.Upload()\n",
        "print('Uploaded file with ID {}'.format(uploaded.get('id')))"
      ],
      "execution_count": 0,
      "outputs": [
        {
          "output_type": "stream",
          "text": [
            "Uploaded file with ID 1sdMO6dSdY33Fi36URsKctQviDHfFQxzb\n"
          ],
          "name": "stdout"
        }
      ]
    },
    {
      "metadata": {
        "id": "i-gmLOBLaZ5B",
        "colab_type": "code",
        "outputId": "4efe3c4f-c870-4455-b7d7-a65e8dea6e6d",
        "colab": {
          "base_uri": "https://localhost:8080/",
          "height": 35
        }
      },
      "cell_type": "code",
      "source": [
        "# Create & upload a file.\n",
        "uploaded = drive.CreateFile({'title': 'y_predicted_ph2_tl.npy'})\n",
        "uploaded.SetContentFile('y_predicted_test.npy')\n",
        "uploaded.Upload()\n",
        "print('Uploaded file with ID {}'.format(uploaded.get('id')))"
      ],
      "execution_count": 0,
      "outputs": [
        {
          "output_type": "stream",
          "text": [
            "Uploaded file with ID 1aNSIYWoOAKDVc6x-am5zcHMrvSjGPf09\n"
          ],
          "name": "stdout"
        }
      ]
    },
    {
      "metadata": {
        "id": "op1ffeFIagla",
        "colab_type": "code",
        "outputId": "4dbb0466-c2d3-4d67-f1ae-dd3c66059f59",
        "colab": {
          "base_uri": "https://localhost:8080/",
          "height": 35
        }
      },
      "cell_type": "code",
      "source": [
        "# Create & upload a file.\n",
        "uploaded = drive.CreateFile({'title': 'model.hist_ph2_tl.npy'})\n",
        "uploaded.SetContentFile('model.hist.npy')\n",
        "uploaded.Upload()\n",
        "print('Uploaded file with ID {}'.format(uploaded.get('id')))"
      ],
      "execution_count": 0,
      "outputs": [
        {
          "output_type": "stream",
          "text": [
            "Uploaded file with ID 11o3uiC9UA2UMqrqygJlxxECRMRQv7rep\n"
          ],
          "name": "stdout"
        }
      ]
    },
    {
      "metadata": {
        "id": "TLP_oQZVcfW4",
        "colab_type": "code",
        "colab": {}
      },
      "cell_type": "code",
      "source": [
        ""
      ],
      "execution_count": 0,
      "outputs": []
    },
    {
      "metadata": {
        "id": "AbOVMAmaamaV",
        "colab_type": "code",
        "outputId": "a80fee36-6b50-47d2-9fa2-57243c4e7135",
        "colab": {
          "base_uri": "https://localhost:8080/",
          "height": 35
        }
      },
      "cell_type": "code",
      "source": [
        "a = history.history\n",
        "np.save('a.npy', a)\n",
        "# a = [()]\n",
        "a = np.load('a.npy')\n",
        "print(type(a))"
      ],
      "execution_count": 0,
      "outputs": [
        {
          "output_type": "stream",
          "text": [
            "<class 'numpy.ndarray'>\n"
          ],
          "name": "stdout"
        }
      ]
    },
    {
      "metadata": {
        "id": "hwJM83D3drK3",
        "colab_type": "code",
        "outputId": "648c557f-aa2e-428e-c223-c9fc119b116e",
        "colab": {
          "base_uri": "https://localhost:8080/",
          "height": 35
        }
      },
      "cell_type": "code",
      "source": [
        "a = a[()]\n",
        "print(type(a))"
      ],
      "execution_count": 0,
      "outputs": [
        {
          "output_type": "stream",
          "text": [
            "<class 'dict'>\n"
          ],
          "name": "stdout"
        }
      ]
    },
    {
      "metadata": {
        "id": "n-ERjiwFcGaX",
        "colab_type": "code",
        "colab": {}
      },
      "cell_type": "code",
      "source": [
        "# a['loss']"
      ],
      "execution_count": 0,
      "outputs": []
    },
    {
      "metadata": {
        "id": "Pb5Y3D30bZD6",
        "colab_type": "code",
        "outputId": "fd66291c-8d88-4d2b-c4fa-68560eab78ed",
        "colab": {
          "base_uri": "https://localhost:8080/",
          "height": 735
        }
      },
      "cell_type": "code",
      "source": [
        "import matplotlib.pyplot as plt\n",
        "\n",
        "# plot_init()\n",
        "plt.title('Dropout U-Net, Transfer Learning')\n",
        "plt.xlabel('epochs')\n",
        "plt.ylabel('jaccard index')\n",
        "plt.plot(range(len(a['val_jacard_coef'])), a['val_jacard_coef'], \n",
        "         label = 'validation', linewidth=2.0)\n",
        "plt.plot(range(len(a['jacard_coef'])), a['jacard_coef'],\n",
        "        label = 'train', linewidth=2.0)\n",
        "plt.legend()\n",
        "# save_plot('unet_jaccard')\n",
        "plt.show()\n",
        "\n",
        "\n",
        "\n",
        "\n",
        "\n",
        "# plot_init()\n",
        "plt.title('Dropout U-Net, Transfer Learning')\n",
        "plt.xlabel('epochs')\n",
        "plt.ylabel('dice loss')\n",
        "plt.plot(range(len(a['val_loss'])), a['val_loss'], \n",
        "         label = 'validation', linewidth=2.0)\n",
        "plt.plot(range(len(a['loss'])), a['loss'],\n",
        "        label = 'train', linewidth=2.0)\n",
        "plt.legend()\n",
        "# save_plot('unet_loss')\n",
        "plt.show()\n"
      ],
      "execution_count": 0,
      "outputs": [
        {
          "output_type": "display_data",
          "data": {
            "image/png": "[encoded data removed]",
            "text/plain": [
              "<matplotlib.figure.Figure at 0x7f99ab9e4908>"
            ]
          },
          "metadata": {
            "tags": []
          }
        },
        {
          "output_type": "display_data",
          "data": {
            "image/png": "[encoded data removed]",
            "text/plain": [
              "<matplotlib.figure.Figure at 0x7f99ab9937f0>"
            ]
          },
          "metadata": {
            "tags": []
          }
        }
      ]
    },
    {
      "metadata": {
        "id": "C-667PEDb-c8",
        "colab_type": "code",
        "colab": {}
      },
      "cell_type": "code",
      "source": [
        ""
      ],
      "execution_count": 0,
      "outputs": []
    }
  ]
}