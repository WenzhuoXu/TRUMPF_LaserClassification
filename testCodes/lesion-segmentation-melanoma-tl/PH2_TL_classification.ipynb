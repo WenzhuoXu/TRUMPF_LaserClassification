{
  "nbformat": 4,
  "nbformat_minor": 0,
  "metadata": {
    "colab": {
      "name": "PH2_TL_classification.ipynb",
      "version": "0.3.2",
      "provenance": [],
      "collapsed_sections": []
    },
    "kernelspec": {
      "name": "python3",
      "display_name": "Python 3"
    },
    "accelerator": "GPU"
  },
  "cells": [
    {
      "metadata": {
        "id": "RuedS1Aw1QE4",
        "colab_type": "text"
      },
      "cell_type": "markdown",
      "source": [
        "### author: zabiralnazi@yahoo.com\n",
        "> TL, DCNN as feature extractor, feature concatenation, comparison with different classifiers"
      ]
    },
    {
      "metadata": {
        "id": "xQ4atY_y05rt",
        "colab_type": "code",
        "colab": {}
      },
      "cell_type": "code",
      "source": [
        "## data_seg.zip URL: https://drive.google.com/open?id=15Bav4EU2fEKMB76zerubFNIUkJjqy7V2"
      ],
      "execution_count": 0,
      "outputs": []
    },
    {
      "metadata": {
        "id": "IuYpOQK21uC7",
        "colab_type": "code",
        "outputId": "1660b8d5-3d3f-493a-cbcb-2e1b96edad16",
        "colab": {
          "base_uri": "https://localhost:8080/",
          "height": 35
        }
      },
      "cell_type": "code",
      "source": [
        "# Load the Drive helper and mount\n",
        "from google.colab import drive\n",
        "\n",
        "# This will prompt for authorization.\n",
        "drive.mount('/content/drive')"
      ],
      "execution_count": 0,
      "outputs": [
        {
          "output_type": "stream",
          "text": [
            "Mounted at /content/drive\n"
          ],
          "name": "stdout"
        }
      ]
    },
    {
      "metadata": {
        "id": "Hac2HdpC2DXj",
        "colab_type": "code",
        "outputId": "d71bb290-fa54-4b1c-e182-35a71d470645",
        "colab": {
          "base_uri": "https://localhost:8080/",
          "height": 35
        }
      },
      "cell_type": "code",
      "source": [
        "% cd /content/drive/My Drive"
      ],
      "execution_count": 0,
      "outputs": [
        {
          "output_type": "stream",
          "text": [
            "/content/drive/My Drive\n"
          ],
          "name": "stdout"
        }
      ]
    },
    {
      "metadata": {
        "id": "yOsCjems20pi",
        "colab_type": "code",
        "outputId": "4f697a7b-7eff-4114-d57d-b726494b6b8d",
        "colab": {
          "base_uri": "https://localhost:8080/",
          "height": 35
        }
      },
      "cell_type": "code",
      "source": [
        "import os\n",
        "print(os.stat('/content/drive/My Drive/data_seg.zip').st_size/1000000000) # GigaBytes (approx)"
      ],
      "execution_count": 0,
      "outputs": [
        {
          "output_type": "stream",
          "text": [
            "0.019925205\n"
          ],
          "name": "stdout"
        }
      ]
    },
    {
      "metadata": {
        "id": "e40Ci1bS25Gr",
        "colab_type": "code",
        "outputId": "6f729392-b8e3-4902-eafb-8540d0291556",
        "colab": {
          "base_uri": "https://localhost:8080/",
          "height": 35
        }
      },
      "cell_type": "code",
      "source": [
        "% cd /content/"
      ],
      "execution_count": 0,
      "outputs": [
        {
          "output_type": "stream",
          "text": [
            "/content\n"
          ],
          "name": "stdout"
        }
      ]
    },
    {
      "metadata": {
        "id": "zDbzj1Ko2_Jj",
        "colab_type": "code",
        "outputId": "40044760-d190-4122-dfcc-c9057934f311",
        "colab": {
          "base_uri": "https://localhost:8080/",
          "height": 35
        }
      },
      "cell_type": "code",
      "source": [
        "! ls"
      ],
      "execution_count": 0,
      "outputs": [
        {
          "output_type": "stream",
          "text": [
            "drive  sample_data\n"
          ],
          "name": "stdout"
        }
      ]
    },
    {
      "metadata": {
        "id": "bwA10n_H3Afa",
        "colab_type": "code",
        "colab": {}
      },
      "cell_type": "code",
      "source": [
        "# unzip to train_imgs folder\n",
        "data_seg = '/content/drive/My Drive/data_seg.zip'\n",
        "import zipfile\n",
        "zip_ref = zipfile.ZipFile(data_seg, 'r')\n",
        "zip_ref.extractall('img_seg')\n",
        "zip_ref.close()"
      ],
      "execution_count": 0,
      "outputs": []
    },
    {
      "metadata": {
        "id": "PyRjPjA-3jMS",
        "colab_type": "code",
        "outputId": "1e18b81d-5b26-4c2e-a675-c138a859dbb7",
        "colab": {
          "base_uri": "https://localhost:8080/",
          "height": 35
        }
      },
      "cell_type": "code",
      "source": [
        "! ls"
      ],
      "execution_count": 0,
      "outputs": [
        {
          "output_type": "stream",
          "text": [
            "drive  img_seg\tsample_data\n"
          ],
          "name": "stdout"
        }
      ]
    },
    {
      "metadata": {
        "id": "Aw7CGg7p3lt8",
        "colab_type": "code",
        "outputId": "a4d9a71f-9ff9-440e-9a6f-273c83e1f3a9",
        "colab": {
          "base_uri": "https://localhost:8080/",
          "height": 35
        }
      },
      "cell_type": "code",
      "source": [
        "% cd /content/img_seg/data_seg"
      ],
      "execution_count": 0,
      "outputs": [
        {
          "output_type": "stream",
          "text": [
            "/content/img_seg/data_seg\n"
          ],
          "name": "stdout"
        }
      ]
    },
    {
      "metadata": {
        "id": "CbZvraAZ3oQr",
        "colab_type": "code",
        "outputId": "720a15c0-eb23-41d0-8ecc-ce9fd609b43f",
        "colab": {
          "base_uri": "https://localhost:8080/",
          "height": 35
        }
      },
      "cell_type": "code",
      "source": [
        "! ls"
      ],
      "execution_count": 0,
      "outputs": [
        {
          "output_type": "stream",
          "text": [
            "test  train\n"
          ],
          "name": "stdout"
        }
      ]
    },
    {
      "metadata": {
        "id": "fZ1hqolp3rWL",
        "colab_type": "code",
        "outputId": "a3fae85e-19dc-45d1-f3b8-91003af94a41",
        "colab": {
          "base_uri": "https://localhost:8080/",
          "height": 35
        }
      },
      "cell_type": "code",
      "source": [
        "import os\n",
        "print(os.stat('/content/drive/My Drive/label_dict.npy').st_size/1000000000) # GigaBytes (approx)"
      ],
      "execution_count": 0,
      "outputs": [
        {
          "output_type": "stream",
          "text": [
            "2.724e-06\n"
          ],
          "name": "stdout"
        }
      ]
    },
    {
      "metadata": {
        "id": "1lVGH-H8Gzqh",
        "colab_type": "code",
        "outputId": "f27b7d04-5657-4f39-fcfd-b2978ba91622",
        "colab": {
          "base_uri": "https://localhost:8080/",
          "height": 92
        }
      },
      "cell_type": "code",
      "source": [
        "import numpy as np\n",
        "label_dict = np.load('/content/drive/My Drive/label_dict.npy')\n",
        "print(label_dict)\n",
        "print(type(label_dict))\n",
        "print(label_dict.item().get('003'))"
      ],
      "execution_count": 0,
      "outputs": [
        {
          "output_type": "stream",
          "text": [
            "{'003': 0, '009': 0, '016': 0, '022': 0, '024': 0, '025': 0, '035': 0, '038': 0, '042': 0, '044': 0, '045': 0, '050': 0, '092': 0, '101': 0, '103': 0, '112': 0, '118': 0, '125': 0, '132': 0, '134': 0, '135': 0, '144': 0, '146': 0, '147': 0, '150': 0, '152': 0, '156': 0, '159': 0, '161': 0, '162': 0, '175': 0, '177': 0, '182': 0, '198': 0, '200': 0, '010': 0, '017': 0, '020': 0, '039': 0, '041': 0, '105': 0, '107': 0, '108': 0, '133': 0, '142': 0, '143': 0, '160': 0, '173': 0, '176': 0, '196': 0, '197': 0, '199': 0, '203': 0, '204': 0, '206': 0, '207': 0, '208': 0, '364': 0, '365': 0, '367': 0, '371': 0, '372': 0, '374': 0, '375': 0, '378': 0, '379': 0, '380': 0, '381': 0, '383': 0, '384': 0, '385': 0, '389': 0, '390': 0, '392': 0, '394': 0, '395': 0, '397': 0, '399': 0, '400': 0, '402': 0, '002': 1, '004': 1, '013': 1, '015': 1, '019': 1, '021': 1, '027': 1, '030': 1, '032': 1, '033': 1, '037': 1, '040': 1, '043': 1, '047': 1, '048': 1, '049': 1, '057': 1, '075': 1, '076': 1, '078': 1, '120': 1, '126': 1, '137': 1, '138': 1, '139': 1, '140': 1, '149': 1, '153': 1, '157': 1, '164': 1, '166': 1, '169': 1, '171': 1, '210': 1, '347': 1, '155': 1, '376': 1, '006': 1, '008': 1, '014': 1, '018': 1, '023': 1, '031': 1, '036': 1, '154': 1, '170': 1, '226': 1, '243': 1, '251': 1, '254': 1, '256': 1, '278': 1, '279': 1, '280': 1, '304': 1, '305': 1, '306': 1, '312': 1, '328': 1, '331': 1, '339': 1, '356': 1, '360': 1, '368': 1, '369': 1, '370': 1, '382': 1, '386': 1, '388': 1, '393': 1, '396': 1, '398': 1, '427': 1, '430': 1, '431': 1, '432': 1, '433': 1, '434': 1, '436': 1, '437': 1, '058': 2, '061': 2, '063': 2, '064': 2, '065': 2, '080': 2, '085': 2, '088': 2, '090': 2, '091': 2, '168': 2, '211': 2, '219': 2, '240': 2, '242': 2, '284': 2, '285': 2, '348': 2, '349': 2, '403': 2, '404': 2, '405': 2, '407': 2, '408': 2, '409': 2, '410': 2, '413': 2, '417': 2, '418': 2, '419': 2, '406': 2, '411': 2, '420': 2, '421': 2, '423': 2, '424': 2, '425': 2, '426': 2, '429': 2, '435': 2}\n",
            "<class 'numpy.ndarray'>\n",
            "0\n"
          ],
          "name": "stdout"
        }
      ]
    },
    {
      "metadata": {
        "id": "poRmESebHruQ",
        "colab_type": "code",
        "colab": {}
      },
      "cell_type": "code",
      "source": [
        "import glob\n",
        "img_files_tv = [] # train, validation\n",
        "for files in glob.glob('/content/img_seg/data_seg/train/image/*.png'):\n",
        "    img_files_tv.append(files)\n",
        "\n",
        "mask_files_tv = []\n",
        "for files in glob.glob('/content/img_seg/data_seg/train/label/*.png'):\n",
        "    mask_files_tv.append(files)"
      ],
      "execution_count": 0,
      "outputs": []
    },
    {
      "metadata": {
        "id": "7An6FAj6b32H",
        "colab_type": "code",
        "outputId": "e1754ecd-ef3f-4b54-9a09-ebc5f9b93648",
        "colab": {
          "base_uri": "https://localhost:8080/",
          "height": 53
        }
      },
      "cell_type": "code",
      "source": [
        "print(len(img_files_tv))\n",
        "print(len(mask_files_tv))"
      ],
      "execution_count": 0,
      "outputs": [
        {
          "output_type": "stream",
          "text": [
            "170\n",
            "170\n"
          ],
          "name": "stdout"
        }
      ]
    },
    {
      "metadata": {
        "id": "w0Z72KWdb8rY",
        "colab_type": "code",
        "colab": {}
      },
      "cell_type": "code",
      "source": [
        "img_files_tst = [] # train, validation\n",
        "for files in glob.glob('/content/img_seg/data_seg/test/image/*.png'):\n",
        "    img_files_tst.append(files)\n",
        "\n",
        "mask_files_tst = []\n",
        "for files in glob.glob('/content/img_seg/data_seg/test/label/*.png'):\n",
        "    mask_files_tst.append(files)"
      ],
      "execution_count": 0,
      "outputs": []
    },
    {
      "metadata": {
        "id": "UwYkR65ecShg",
        "colab_type": "code",
        "outputId": "9846845c-f5a4-45b2-95d7-ba5f349eb8a2",
        "colab": {
          "base_uri": "https://localhost:8080/",
          "height": 53
        }
      },
      "cell_type": "code",
      "source": [
        "print(len(img_files_tst))\n",
        "print(len(mask_files_tst))"
      ],
      "execution_count": 0,
      "outputs": [
        {
          "output_type": "stream",
          "text": [
            "30\n",
            "30\n"
          ],
          "name": "stdout"
        }
      ]
    },
    {
      "metadata": {
        "id": "Q3tLy2rhcU2O",
        "colab_type": "code",
        "colab": {}
      },
      "cell_type": "code",
      "source": [
        "# To reproduce the results later\n",
        "from numpy.random import seed\n",
        "seed(1997)\n",
        "from tensorflow import set_random_seed\n",
        "set_random_seed(1997)"
      ],
      "execution_count": 0,
      "outputs": []
    },
    {
      "metadata": {
        "id": "a4WZJgQVcY4P",
        "colab_type": "code",
        "outputId": "57f3be2a-edbe-42f8-dfff-1b0539fb2b43",
        "colab": {
          "base_uri": "https://localhost:8080/",
          "height": 35
        }
      },
      "cell_type": "code",
      "source": [
        "import cv2\n",
        "import random\n",
        "import numpy as np\n",
        "import pandas as pd\n",
        "\n",
        "\n",
        "img_files_tv.sort()\n",
        "mask_files_tv.sort()\n",
        "\n",
        "img_files_tst.sort()\n",
        "mask_files_tst.sort()\n",
        "\n",
        "img_arr = []\n",
        "mask_arr = []\n",
        "labels = []\n",
        "num_train = len(img_files_tv)\n",
        "print(num_train)"
      ],
      "execution_count": 0,
      "outputs": [
        {
          "output_type": "stream",
          "text": [
            "170\n"
          ],
          "name": "stdout"
        }
      ]
    },
    {
      "metadata": {
        "id": "D-kF8G0DrW8n",
        "colab_type": "code",
        "outputId": "ca5c5cdf-26c6-4dde-ff27-3de8bf7ae3eb",
        "colab": {
          "base_uri": "https://localhost:8080/",
          "height": 35
        }
      },
      "cell_type": "code",
      "source": [
        "img_files_tv[0][-7:-4]"
      ],
      "execution_count": 0,
      "outputs": [
        {
          "output_type": "execute_result",
          "data": {
            "text/plain": [
              "'002'"
            ]
          },
          "metadata": {
            "tags": []
          },
          "execution_count": 18
        }
      ]
    },
    {
      "metadata": {
        "id": "Y0mS1xMqctML",
        "colab_type": "code",
        "outputId": "af016084-cc64-4f44-e79f-7bf473990577",
        "colab": {
          "base_uri": "https://localhost:8080/",
          "height": 72
        }
      },
      "cell_type": "code",
      "source": [
        "import random\n",
        "random.seed(1997) # same seed again\n",
        "for i in range(num_train):\n",
        "    a = cv2.imread(img_files_tv[i])\n",
        "    #a = cv2.resize(a, (224, 224)) \n",
        "    img_id = img_files_tv[i][-7:-4]\n",
        "    a = np.array(a,dtype=np.uint8)\n",
        "    img_arr.append(a)\n",
        "\n",
        "    b = cv2.imread(mask_files_tv[i],0)\n",
        "    #b = cv2.resize(b, (224, 224)) \n",
        "    b = np.array(b,dtype=np.uint8)\n",
        "    mask_arr.append(b)\n",
        "    \n",
        "    labels.append(label_dict.item().get(img_id))\n",
        "    \n",
        "    \n",
        "for i in range(len(img_files_tst)):\n",
        "    a = cv2.imread(img_files_tst[i])\n",
        "    #a = cv2.resize(a, (224, 224)) \n",
        "    img_id = img_files_tst[i][-7:-4]\n",
        "    a = np.array(a,dtype=np.uint8)\n",
        "    img_arr.append(a)\n",
        "\n",
        "    b = cv2.imread(mask_files_tst[i],0)\n",
        "    #b = cv2.resize(b, (224, 224)) \n",
        "    b = np.array(b,dtype=np.uint8)\n",
        "    mask_arr.append(b)\n",
        "    labels.append(label_dict.item().get(img_id))\n",
        "    \n",
        "print(len(img_arr))\n",
        "print(len(mask_arr))\n",
        "print(len(labels))\n",
        "\n",
        "gen_batch = 0\n",
        "\n",
        "fin_arr = list(zip(img_arr,mask_arr,labels))\n",
        "random.shuffle(fin_arr)\n",
        "img_arr = [x[0] for x in fin_arr]\n",
        "mask_arr = [x[1] for x in fin_arr]\n",
        "labels = [x[2] for x in fin_arr]"
      ],
      "execution_count": 0,
      "outputs": [
        {
          "output_type": "stream",
          "text": [
            "200\n",
            "200\n",
            "200\n"
          ],
          "name": "stdout"
        }
      ]
    },
    {
      "metadata": {
        "id": "A9UhJaeesf6k",
        "colab_type": "code",
        "outputId": "d4379bbe-3b04-444e-848d-fedaa3b36e85",
        "colab": {
          "base_uri": "https://localhost:8080/",
          "height": 92
        }
      },
      "cell_type": "code",
      "source": [
        "print(labels)\n",
        "print(img_arr[0].shape)\n",
        "print(mask_arr[0].shape)"
      ],
      "execution_count": 0,
      "outputs": [
        {
          "output_type": "stream",
          "text": [
            "[1, 1, 1, 0, 1, 0, 1, 1, 0, 2, 2, 0, 2, 0, 0, 0, 0, 0, 1, 1, 0, 1, 1, 1, 2, 1, 0, 1, 1, 2, 2, 0, 1, 1, 1, 0, 0, 1, 1, 2, 0, 1, 0, 0, 1, 1, 0, 0, 2, 1, 2, 2, 0, 0, 0, 0, 0, 0, 0, 0, 2, 1, 1, 1, 0, 0, 1, 1, 0, 0, 1, 0, 1, 0, 1, 0, 1, 1, 0, 1, 2, 2, 1, 1, 0, 0, 0, 2, 1, 1, 1, 2, 0, 0, 0, 1, 1, 1, 0, 0, 0, 2, 0, 1, 2, 0, 2, 1, 2, 1, 1, 2, 0, 0, 1, 1, 0, 1, 1, 0, 1, 0, 1, 0, 2, 2, 1, 1, 0, 2, 1, 0, 1, 0, 0, 0, 2, 2, 1, 2, 1, 2, 0, 0, 1, 2, 2, 0, 2, 0, 1, 2, 0, 0, 1, 1, 1, 2, 1, 1, 0, 1, 0, 0, 0, 0, 0, 0, 0, 1, 2, 0, 2, 2, 0, 0, 0, 0, 0, 2, 1, 1, 1, 2, 1, 1, 1, 0, 0, 2, 1, 0, 2, 1, 1, 1, 1, 1, 1, 2]\n",
            "(224, 224, 3)\n",
            "(224, 224)\n"
          ],
          "name": "stdout"
        }
      ]
    },
    {
      "metadata": {
        "id": "rnCWpJwsdBvA",
        "colab_type": "code",
        "outputId": "9ebfc37f-a4b9-4ebb-db0d-d2bd43c78e4e",
        "colab": {
          "base_uri": "https://localhost:8080/",
          "height": 35
        }
      },
      "cell_type": "code",
      "source": [
        "img_arr[0].shape"
      ],
      "execution_count": 0,
      "outputs": [
        {
          "output_type": "execute_result",
          "data": {
            "text/plain": [
              "(224, 224, 3)"
            ]
          },
          "metadata": {
            "tags": []
          },
          "execution_count": 21
        }
      ]
    },
    {
      "metadata": {
        "id": "Os_vjiWpdlqo",
        "colab_type": "code",
        "outputId": "e3a671ab-abe3-4ee1-9b3d-c63833ce78e4",
        "colab": {
          "base_uri": "https://localhost:8080/",
          "height": 35
        }
      },
      "cell_type": "code",
      "source": [
        "mask_arr[0].shape"
      ],
      "execution_count": 0,
      "outputs": [
        {
          "output_type": "execute_result",
          "data": {
            "text/plain": [
              "(224, 224)"
            ]
          },
          "metadata": {
            "tags": []
          },
          "execution_count": 22
        }
      ]
    },
    {
      "metadata": {
        "id": "foFAWjUygOUP",
        "colab_type": "code",
        "outputId": "45eaac50-8a4f-49ba-e353-283a178e5f10",
        "colab": {
          "base_uri": "https://localhost:8080/",
          "height": 35
        }
      },
      "cell_type": "code",
      "source": [
        "type(img_arr[0][0,0,0])"
      ],
      "execution_count": 0,
      "outputs": [
        {
          "output_type": "execute_result",
          "data": {
            "text/plain": [
              "numpy.uint8"
            ]
          },
          "metadata": {
            "tags": []
          },
          "execution_count": 23
        }
      ]
    },
    {
      "metadata": {
        "id": "_YP9V3EHgVU3",
        "colab_type": "code",
        "outputId": "1d8f380c-4ad1-4dc2-c70e-0670d0f235df",
        "colab": {
          "base_uri": "https://localhost:8080/",
          "height": 35
        }
      },
      "cell_type": "code",
      "source": [
        "type(mask_arr[0][0,0])"
      ],
      "execution_count": 0,
      "outputs": [
        {
          "output_type": "execute_result",
          "data": {
            "text/plain": [
              "numpy.uint8"
            ]
          },
          "metadata": {
            "tags": []
          },
          "execution_count": 24
        }
      ]
    },
    {
      "metadata": {
        "id": "AVYeLPtReVuw",
        "colab_type": "code",
        "colab": {}
      },
      "cell_type": "code",
      "source": [
        "overlay_img = cv2.bitwise_and(img_arr[5], img_arr[5], mask = mask_arr[5])"
      ],
      "execution_count": 0,
      "outputs": []
    },
    {
      "metadata": {
        "id": "5TQflEhueZRa",
        "colab_type": "code",
        "outputId": "2daed07a-b2b7-4c03-eb6a-87ce6f22039a",
        "colab": {
          "base_uri": "https://localhost:8080/",
          "height": 350
        }
      },
      "cell_type": "code",
      "source": [
        "import matplotlib.pyplot as plt\n",
        "plt.imshow(overlay_img)\n",
        "plt.show()"
      ],
      "execution_count": 0,
      "outputs": [
        {
          "output_type": "display_data",
          "data": {
            "image/png": "[encoded data removed]",
            "text/plain": [
              "<matplotlib.figure.Figure at 0x7f230f364518>"
            ]
          },
          "metadata": {
            "tags": []
          }
        }
      ]
    },
    {
      "metadata": {
        "id": "oTIVA9Esfpaa",
        "colab_type": "code",
        "outputId": "15742e08-b4c6-46b1-a081-fe9505a12b5c",
        "colab": {
          "base_uri": "https://localhost:8080/",
          "height": 90
        }
      },
      "cell_type": "code",
      "source": [
        "# print(overlay_img)\n",
        "(x, y, z_) = np.where(overlay_img > 0)\n",
        "print(np.min(x))\n",
        "print(np.max(x))\n",
        "print(np.min(y))\n",
        "print(np.max(y))"
      ],
      "execution_count": 0,
      "outputs": [
        {
          "output_type": "stream",
          "text": [
            "48\n",
            "173\n",
            "83\n",
            "171\n"
          ],
          "name": "stdout"
        }
      ]
    },
    {
      "metadata": {
        "id": "OFwadoF7i70u",
        "colab_type": "code",
        "outputId": "8f16e67b-e4ac-45bc-cf2a-a0a807cda524",
        "colab": {
          "base_uri": "https://localhost:8080/",
          "height": 350
        }
      },
      "cell_type": "code",
      "source": [
        "crop_img = overlay_img[48:174,83:172,:]\n",
        "crop_img_r = cv2.resize(crop_img, (224,224))\n",
        "plt.imshow(crop_img_r)\n",
        "plt.show()"
      ],
      "execution_count": 0,
      "outputs": [
        {
          "output_type": "display_data",
          "data": {
            "image/png": "[encoded data removed]",
            "text/plain": [
              "<matplotlib.figure.Figure at 0x7f230f2aca20>"
            ]
          },
          "metadata": {
            "tags": []
          }
        }
      ]
    },
    {
      "metadata": {
        "id": "hDNPyePVkZ0j",
        "colab_type": "code",
        "outputId": "64c72483-21cd-4454-d327-8dd0da200d49",
        "colab": {
          "base_uri": "https://localhost:8080/",
          "height": 146
        }
      },
      "cell_type": "code",
      "source": [
        "from keras.applications.vgg16 import VGG16\n",
        "from keras.preprocessing import image\n",
        "from keras.applications.vgg16 import preprocess_input\n",
        "import numpy as np\n",
        "\n",
        "model = VGG16(weights='imagenet', include_top=False)\n",
        "\n",
        "x = crop_img_r\n",
        "print(x.shape)\n",
        "x = np.expand_dims(x, axis=0)\n",
        "print(x.shape)\n",
        "x = np.array(x, dtype='float64')\n",
        "x = preprocess_input(x)\n",
        "\n",
        "features = model.predict(x)\n",
        "print(features.shape)"
      ],
      "execution_count": 0,
      "outputs": [
        {
          "output_type": "stream",
          "text": [
            "Using TensorFlow backend.\n"
          ],
          "name": "stderr"
        },
        {
          "output_type": "stream",
          "text": [
            "Downloading data from https://github.com/fchollet/deep-learning-models/releases/download/v0.1/vgg16_weights_tf_dim_ordering_tf_kernels_notop.h5\n",
            "58892288/58889256 [==============================] - 2s 0us/step\n",
            "(224, 224, 3)\n",
            "(1, 224, 224, 3)\n",
            "(1, 7, 7, 512)\n"
          ],
          "name": "stdout"
        }
      ]
    },
    {
      "metadata": {
        "id": "u-SNAlvdnYpk",
        "colab_type": "code",
        "colab": {}
      },
      "cell_type": "code",
      "source": [
        "a_f = features.flatten()"
      ],
      "execution_count": 0,
      "outputs": []
    },
    {
      "metadata": {
        "id": "BlNs1W-Wog8c",
        "colab_type": "code",
        "outputId": "6c24fe34-ab6b-4f61-f9f9-95ae0a93e712",
        "colab": {
          "base_uri": "https://localhost:8080/",
          "height": 35
        }
      },
      "cell_type": "code",
      "source": [
        "print(a_f.shape)"
      ],
      "execution_count": 0,
      "outputs": [
        {
          "output_type": "stream",
          "text": [
            "(25088,)\n"
          ],
          "name": "stdout"
        }
      ]
    },
    {
      "metadata": {
        "id": "4oT9VKCtoi-D",
        "colab_type": "code",
        "colab": {}
      },
      "cell_type": "code",
      "source": [
        "def img_process(img, mask):\n",
        "  overlay_img = cv2.bitwise_and(img, img, mask = mask)\n",
        "  (x, y, z_) = np.where(overlay_img > 0)\n",
        "  mnx = (np.min(x))\n",
        "  mxx = (np.max(x))\n",
        "  mny = (np.min(y))\n",
        "  mxy = (np.max(y))\n",
        "  crop_img = overlay_img[mnx:mxx,mny:mxy,:]\n",
        "  crop_img_r = cv2.resize(crop_img, (224,224))\n",
        "  return crop_img_r"
      ],
      "execution_count": 0,
      "outputs": []
    },
    {
      "metadata": {
        "id": "0VPLCp7BuRbV",
        "colab_type": "code",
        "outputId": "494eb1e7-7b62-423a-f26a-5738227f61be",
        "colab": {
          "base_uri": "https://localhost:8080/",
          "height": 350
        }
      },
      "cell_type": "code",
      "source": [
        "a = img_process(img_arr[123], mask_arr[123])\n",
        "plt.imshow(a)\n",
        "plt.show()"
      ],
      "execution_count": 0,
      "outputs": [
        {
          "output_type": "display_data",
          "data": {
            "image/png": "[encoded data removed]",
            "text/plain": [
              "<matplotlib.figure.Figure at 0x7f23061bcbe0>"
            ]
          },
          "metadata": {
            "tags": []
          }
        }
      ]
    },
    {
      "metadata": {
        "id": "OqU929WpuaRt",
        "colab_type": "code",
        "colab": {}
      },
      "cell_type": "code",
      "source": [
        "def extract_features(model, img):\n",
        "  x = img\n",
        "  # print(x.shape)\n",
        "  x = np.expand_dims(x, axis=0)\n",
        "  # print(x.shape)\n",
        "  x = np.array(x, dtype='float64')\n",
        "  x = preprocess_input(x)\n",
        "\n",
        "  features = model.predict(x)\n",
        "  features = features.flatten()\n",
        "  return features"
      ],
      "execution_count": 0,
      "outputs": []
    },
    {
      "metadata": {
        "id": "Eo9AHfQSvHsA",
        "colab_type": "code",
        "outputId": "b1d2799a-9d9a-4fad-e192-da39ae728b54",
        "colab": {
          "base_uri": "https://localhost:8080/",
          "height": 35
        }
      },
      "cell_type": "code",
      "source": [
        "extract_features(model,a).shape"
      ],
      "execution_count": 0,
      "outputs": [
        {
          "output_type": "execute_result",
          "data": {
            "text/plain": [
              "(25088,)"
            ]
          },
          "metadata": {
            "tags": []
          },
          "execution_count": 35
        }
      ]
    },
    {
      "metadata": {
        "id": "3RbRzH05vMf4",
        "colab_type": "code",
        "colab": {}
      },
      "cell_type": "code",
      "source": [
        "def generate_feature_vec(model):\n",
        "  X = []\n",
        "  y = labels\n",
        "\n",
        "  for i in range(len(img_arr)):\n",
        "    img = img_arr[i]\n",
        "    mask = mask_arr[i]\n",
        "    overlay_crop_r = img_process(img, mask)\n",
        "    f_set = extract_features(model, overlay_crop_r)\n",
        "    X.append(f_set)\n",
        "    \n",
        "  return (X,y)"
      ],
      "execution_count": 0,
      "outputs": []
    },
    {
      "metadata": {
        "id": "p7X_pWaIwh83",
        "colab_type": "code",
        "outputId": "606267a1-54ce-4a95-db18-ddc0a391e1e8",
        "colab": {
          "base_uri": "https://localhost:8080/",
          "height": 72
        }
      },
      "cell_type": "code",
      "source": [
        "from keras.applications.vgg16 import VGG16\n",
        "from keras.preprocessing import image\n",
        "from keras.applications.vgg16 import preprocess_input\n",
        "\n",
        "model = VGG16(weights='imagenet', include_top=False)\n",
        "(X_vgg16, y) = generate_feature_vec(model)\n",
        "print(len(X_vgg16))\n",
        "print(X_vgg16[0].shape)\n",
        "print(len(y))"
      ],
      "execution_count": 0,
      "outputs": [
        {
          "output_type": "stream",
          "text": [
            "200\n",
            "(25088,)\n",
            "200\n"
          ],
          "name": "stdout"
        }
      ]
    },
    {
      "metadata": {
        "id": "SPXB8O3GynGx",
        "colab_type": "code",
        "outputId": "4c0a1033-e8ae-4e3c-fbde-165bac0d31df",
        "colab": {
          "base_uri": "https://localhost:8080/",
          "height": 35
        }
      },
      "cell_type": "code",
      "source": [
        "from sklearn.preprocessing import StandardScaler\n",
        "\n",
        "scaler = StandardScaler()\n",
        "scaler.fit(X_vgg16)\n",
        "\n",
        "print(scaler.mean_)\n",
        "\n",
        "\n",
        "X = scaler.transform(X_vgg16)\n"
      ],
      "execution_count": 0,
      "outputs": [
        {
          "output_type": "stream",
          "text": [
            "[0.08661335 0.         7.13118579 ... 0.         3.46471557 0.89670552]\n"
          ],
          "name": "stdout"
        }
      ]
    },
    {
      "metadata": {
        "id": "kkytAkpD4Qzj",
        "colab_type": "code",
        "outputId": "9b5f3b77-fb62-4f20-ef8b-8aa7e28468d2",
        "colab": {
          "base_uri": "https://localhost:8080/",
          "height": 53
        }
      },
      "cell_type": "code",
      "source": [
        "print(np.mean(X))\n",
        "print(np.var(X))"
      ],
      "execution_count": 0,
      "outputs": [
        {
          "output_type": "stream",
          "text": [
            "-3.1947233973907567e-18\n",
            "0.8817362882653061\n"
          ],
          "name": "stdout"
        }
      ]
    },
    {
      "metadata": {
        "id": "YCdBWgyk5IlT",
        "colab_type": "code",
        "outputId": "fb383f85-6ef6-40be-a17f-ae06dc1cdeda",
        "colab": {
          "base_uri": "https://localhost:8080/",
          "height": 55
        }
      },
      "cell_type": "code",
      "source": [
        "for i in range(len(y)):\n",
        "  if y[i] == 1:\n",
        "    y[i] = 0\n",
        "for i in range(len(y)):\n",
        "  if y[i] == 2:\n",
        "    y[i] = 1\n",
        "print(y)"
      ],
      "execution_count": 0,
      "outputs": [
        {
          "output_type": "stream",
          "text": [
            "[0, 0, 0, 0, 0, 0, 0, 0, 0, 1, 1, 0, 1, 0, 0, 0, 0, 0, 0, 0, 0, 0, 0, 0, 1, 0, 0, 0, 0, 1, 1, 0, 0, 0, 0, 0, 0, 0, 0, 1, 0, 0, 0, 0, 0, 0, 0, 0, 1, 0, 1, 1, 0, 0, 0, 0, 0, 0, 0, 0, 1, 0, 0, 0, 0, 0, 0, 0, 0, 0, 0, 0, 0, 0, 0, 0, 0, 0, 0, 0, 1, 1, 0, 0, 0, 0, 0, 1, 0, 0, 0, 1, 0, 0, 0, 0, 0, 0, 0, 0, 0, 1, 0, 0, 1, 0, 1, 0, 1, 0, 0, 1, 0, 0, 0, 0, 0, 0, 0, 0, 0, 0, 0, 0, 1, 1, 0, 0, 0, 1, 0, 0, 0, 0, 0, 0, 1, 1, 0, 1, 0, 1, 0, 0, 0, 1, 1, 0, 1, 0, 0, 1, 0, 0, 0, 0, 0, 1, 0, 0, 0, 0, 0, 0, 0, 0, 0, 0, 0, 0, 1, 0, 1, 1, 0, 0, 0, 0, 0, 1, 0, 0, 0, 1, 0, 0, 0, 0, 0, 1, 0, 0, 1, 0, 0, 0, 0, 0, 0, 1]\n"
          ],
          "name": "stdout"
        }
      ]
    },
    {
      "metadata": {
        "id": "S_MBH8YU9nY3",
        "colab_type": "code",
        "outputId": "1161a2b1-7384-4fe2-c8eb-f25871cce908",
        "colab": {
          "base_uri": "https://localhost:8080/",
          "height": 35
        }
      },
      "cell_type": "code",
      "source": [
        "c0 = 0\n",
        "c1 = 0\n",
        "for i in range(len(y)):\n",
        "  if y[i] == 0:\n",
        "    c0 += 1\n",
        "for i in range(len(y)):\n",
        "  if y[i] == 1:\n",
        "    c1 += 1\n",
        "print(c0, ' ', c1)"
      ],
      "execution_count": 0,
      "outputs": [
        {
          "output_type": "stream",
          "text": [
            "160   40\n"
          ],
          "name": "stdout"
        }
      ]
    },
    {
      "metadata": {
        "id": "Wct9U7EN-Lb-",
        "colab_type": "code",
        "colab": {}
      },
      "cell_type": "code",
      "source": [
        "class_weight = {0:0.25, 1:0.75}"
      ],
      "execution_count": 0,
      "outputs": []
    },
    {
      "metadata": {
        "id": "bdrR0Wvv-xik",
        "colab_type": "code",
        "outputId": "08a4ae48-04c6-4628-a0ae-5e70cd9ae60f",
        "colab": {
          "base_uri": "https://localhost:8080/",
          "height": 35
        }
      },
      "cell_type": "code",
      "source": [
        "from sklearn.model_selection import cross_val_score\n",
        "from sklearn import svm\n",
        "\n",
        "clf = svm.SVC(kernel='linear', C=1, class_weight = class_weight)\n",
        "scores = cross_val_score(clf, X, y, cv=10)\n",
        "print('Accuracy: ', scores.mean(), scores.std() * 2)"
      ],
      "execution_count": 0,
      "outputs": [
        {
          "output_type": "stream",
          "text": [
            "Accuracy:  0.8949999999999999 0.11357816691600543\n"
          ],
          "name": "stdout"
        }
      ]
    },
    {
      "metadata": {
        "id": "pLAZbFtH--oG",
        "colab_type": "code",
        "outputId": "49f5e991-16ce-4f2c-8e8f-20c36ee61146",
        "colab": {
          "base_uri": "https://localhost:8080/",
          "height": 35
        }
      },
      "cell_type": "code",
      "source": [
        "from sklearn.ensemble import RandomForestClassifier\n",
        "clf = RandomForestClassifier(n_estimators=10, max_depth=None,\n",
        "    min_samples_split=2, random_state=0, class_weight = class_weight)\n",
        "\n",
        "scores = cross_val_score(clf, X, y, cv=10)\n",
        "print('Accuracy: ', scores.mean(), scores.std() * 2)"
      ],
      "execution_count": 0,
      "outputs": [
        {
          "output_type": "stream",
          "text": [
            "Accuracy:  0.8550000000000001 0.10440306508910546\n"
          ],
          "name": "stdout"
        }
      ]
    },
    {
      "metadata": {
        "id": "tgUuDWeQ_Xi3",
        "colab_type": "code",
        "outputId": "c8b0ffbf-8f31-4154-ba10-a20fcd5b712b",
        "colab": {
          "base_uri": "https://localhost:8080/",
          "height": 53
        }
      },
      "cell_type": "code",
      "source": [
        "from sklearn.neighbors import KNeighborsClassifier\n",
        "knn = KNeighborsClassifier(n_neighbors=70, weights = 'distance', p=1, leaf_size=1)\n",
        "\n",
        "scores = cross_val_score(knn, X, y, cv=10)\n",
        "print(scores)\n",
        "print('Accuracy: ', scores.mean(), scores.std() * 2)"
      ],
      "execution_count": 0,
      "outputs": [
        {
          "output_type": "stream",
          "text": [
            "[0.8 0.8 0.8 0.8 0.8 0.8 0.8 0.8 0.8 0.8]\n",
            "Accuracy:  0.8 0.0\n"
          ],
          "name": "stdout"
        }
      ]
    },
    {
      "metadata": {
        "id": "3olq4uYX_8gt",
        "colab_type": "code",
        "outputId": "613297c5-2f7b-42bf-acf4-17f2135e2311",
        "colab": {
          "base_uri": "https://localhost:8080/",
          "height": 35
        }
      },
      "cell_type": "code",
      "source": [
        "from sklearn import tree\n",
        "clf = tree.DecisionTreeClassifier()\n",
        "\n",
        "scores = cross_val_score(clf, X, y, cv=10)\n",
        "print('Accuracy: ', scores.mean(), scores.std() * 2)"
      ],
      "execution_count": 0,
      "outputs": [
        {
          "output_type": "stream",
          "text": [
            "Accuracy:  0.8150000000000001 0.11874342087037917\n"
          ],
          "name": "stdout"
        }
      ]
    },
    {
      "metadata": {
        "id": "SD4UOF3eFNdA",
        "colab_type": "code",
        "outputId": "078ec33d-8acf-4cf4-e669-05c5cec51150",
        "colab": {
          "base_uri": "https://localhost:8080/",
          "height": 35
        }
      },
      "cell_type": "code",
      "source": [
        "from sklearn.ensemble import AdaBoostClassifier\n",
        "clf = AdaBoostClassifier(n_estimators=100)\n",
        "\n",
        "scores = cross_val_score(clf, X, y, cv=10)\n",
        "print('Accuracy: ', scores.mean(), scores.std() * 2)"
      ],
      "execution_count": 0,
      "outputs": [
        {
          "output_type": "stream",
          "text": [
            "Accuracy:  0.8850000000000001 0.13453624047073706\n"
          ],
          "name": "stdout"
        }
      ]
    },
    {
      "metadata": {
        "id": "KGiIscy0FTvP",
        "colab_type": "code",
        "outputId": "efdb2a9e-876a-4406-a2a8-b74dde239bc8",
        "colab": {
          "base_uri": "https://localhost:8080/",
          "height": 35
        }
      },
      "cell_type": "code",
      "source": [
        "from sklearn.ensemble import GradientBoostingClassifier\n",
        "clf = GradientBoostingClassifier()\n",
        "scores = cross_val_score(clf, X, y, cv=10)\n",
        "print('Accuracy: ', scores.mean(), scores.std() * 2)"
      ],
      "execution_count": 0,
      "outputs": [
        {
          "output_type": "stream",
          "text": [
            "Accuracy:  0.915 0.1268857754044952\n"
          ],
          "name": "stdout"
        }
      ]
    },
    {
      "metadata": {
        "id": "mFEdcldpI7gP",
        "colab_type": "code",
        "outputId": "c90593e9-99df-406f-856c-589ec0629814",
        "colab": {
          "base_uri": "https://localhost:8080/",
          "height": 128
        }
      },
      "cell_type": "code",
      "source": [
        "from keras.applications.inception_resnet_v2 import InceptionResNetV2\n",
        "from keras.preprocessing import image\n",
        "from keras.applications.inception_resnet_v2 import preprocess_input\n",
        "\n",
        "model = InceptionResNetV2(weights='imagenet', include_top=False)\n",
        "(X_incres2, y) = generate_feature_vec(model)\n",
        "print(len(X_incres2))\n",
        "print(X_incres2[0].shape)\n",
        "print(len(y))"
      ],
      "execution_count": 0,
      "outputs": [
        {
          "output_type": "stream",
          "text": [
            "Downloading data from https://github.com/fchollet/deep-learning-models/releases/download/v0.7/inception_resnet_v2_weights_tf_dim_ordering_tf_kernels_notop.h5\n",
            "219062272/219055592 [==============================] - 7s 0us/step\n",
            "200\n",
            "(38400,)\n",
            "200\n"
          ],
          "name": "stdout"
        }
      ]
    },
    {
      "metadata": {
        "id": "9HFxZ4ObKB7w",
        "colab_type": "code",
        "outputId": "b234f7ac-4870-46ea-f557-f2e14e4f2489",
        "colab": {
          "base_uri": "https://localhost:8080/",
          "height": 35
        }
      },
      "cell_type": "code",
      "source": [
        "from sklearn.preprocessing import StandardScaler\n",
        "\n",
        "scaler = StandardScaler()\n",
        "scaler.fit(X_incres2)\n",
        "\n",
        "print(scaler.mean_)\n",
        "\n",
        "\n",
        "X = scaler.transform(X_incres2)"
      ],
      "execution_count": 0,
      "outputs": [
        {
          "output_type": "stream",
          "text": [
            "[0.45715791 0.24072786 0.24614046 ... 0.21584713 0.25599666 0.25358778]\n"
          ],
          "name": "stdout"
        }
      ]
    },
    {
      "metadata": {
        "id": "vLCdzCnyNiTB",
        "colab_type": "code",
        "outputId": "a4b9131f-436c-4571-c8fe-f913eed89a95",
        "colab": {
          "base_uri": "https://localhost:8080/",
          "height": 53
        }
      },
      "cell_type": "code",
      "source": [
        "print(np.mean(X))\n",
        "print(np.var(X))"
      ],
      "execution_count": 0,
      "outputs": [
        {
          "output_type": "stream",
          "text": [
            "-5.625129991434126e-19\n",
            "0.9999999999999991\n"
          ],
          "name": "stdout"
        }
      ]
    },
    {
      "metadata": {
        "id": "4H3vEhotNnYU",
        "colab_type": "code",
        "outputId": "a9973a0f-01dd-4461-8c9b-d3fd02807915",
        "colab": {
          "base_uri": "https://localhost:8080/",
          "height": 35
        }
      },
      "cell_type": "code",
      "source": [
        "from sklearn.model_selection import cross_val_score\n",
        "from sklearn import svm\n",
        "\n",
        "clf = svm.SVC(kernel='linear', C=1, class_weight = class_weight)\n",
        "scores = cross_val_score(clf, X, y, cv=10)\n",
        "print('Accuracy: ', scores.mean(), scores.std() * 2)"
      ],
      "execution_count": 0,
      "outputs": [
        {
          "output_type": "stream",
          "text": [
            "Accuracy:  0.9049999999999999 0.11357816691600543\n"
          ],
          "name": "stdout"
        }
      ]
    },
    {
      "metadata": {
        "id": "SPy96a2MNrty",
        "colab_type": "code",
        "outputId": "ba2f9b9d-0ea5-4770-a62c-ca9586fbdad1",
        "colab": {
          "base_uri": "https://localhost:8080/",
          "height": 35
        }
      },
      "cell_type": "code",
      "source": [
        "from sklearn.ensemble import RandomForestClassifier\n",
        "clf = RandomForestClassifier(n_estimators=10, max_depth=None,\n",
        "    min_samples_split=2, random_state=0, class_weight = class_weight)\n",
        "\n",
        "scores = cross_val_score(clf, X, y, cv=10)\n",
        "print('Accuracy: ', scores.mean(), scores.std() * 2)"
      ],
      "execution_count": 0,
      "outputs": [
        {
          "output_type": "stream",
          "text": [
            "Accuracy:  0.8200000000000001 0.10198039027185571\n"
          ],
          "name": "stdout"
        }
      ]
    },
    {
      "metadata": {
        "id": "slz4kEc4N0CK",
        "colab_type": "code",
        "outputId": "768c654e-3ef6-4599-af57-8cc777c6a984",
        "colab": {
          "base_uri": "https://localhost:8080/",
          "height": 53
        }
      },
      "cell_type": "code",
      "source": [
        "from sklearn.neighbors import KNeighborsClassifier\n",
        "knn = KNeighborsClassifier(n_neighbors=70, weights = 'distance', p=1, leaf_size=1)\n",
        "\n",
        "scores = cross_val_score(knn, X, y, cv=10)\n",
        "print(scores)\n",
        "print('Accuracy: ', scores.mean(), scores.std() * 2)"
      ],
      "execution_count": 0,
      "outputs": [
        {
          "output_type": "stream",
          "text": [
            "[0.8 0.8 0.8 0.8 0.8 0.8 0.8 0.8 0.8 0.8]\n",
            "Accuracy:  0.8 0.0\n"
          ],
          "name": "stdout"
        }
      ]
    },
    {
      "metadata": {
        "id": "PgsqQTYbN3l8",
        "colab_type": "code",
        "outputId": "cf8e392d-fc8d-4c70-f25e-275c237a4f13",
        "colab": {
          "base_uri": "https://localhost:8080/",
          "height": 35
        }
      },
      "cell_type": "code",
      "source": [
        "from sklearn import tree\n",
        "clf = tree.DecisionTreeClassifier()\n",
        "\n",
        "scores = cross_val_score(clf, X, y, cv=10)\n",
        "print('Accuracy: ', scores.mean(), scores.std() * 2)"
      ],
      "execution_count": 0,
      "outputs": [
        {
          "output_type": "stream",
          "text": [
            "Accuracy:  0.82 0.17435595774162696\n"
          ],
          "name": "stdout"
        }
      ]
    },
    {
      "metadata": {
        "id": "426aA7bhOFvS",
        "colab_type": "code",
        "outputId": "81808fab-0235-4a3a-e604-6dd466374a18",
        "colab": {
          "base_uri": "https://localhost:8080/",
          "height": 35
        }
      },
      "cell_type": "code",
      "source": [
        "from sklearn.ensemble import AdaBoostClassifier\n",
        "clf = AdaBoostClassifier(n_estimators=100)\n",
        "\n",
        "scores = cross_val_score(clf, X, y, cv=10)\n",
        "print('Accuracy: ', scores.mean(), scores.std() * 2)"
      ],
      "execution_count": 0,
      "outputs": [
        {
          "output_type": "stream",
          "text": [
            "Accuracy:  0.875 0.10246950765959595\n"
          ],
          "name": "stdout"
        }
      ]
    },
    {
      "metadata": {
        "id": "iAgiM5mdOO06",
        "colab_type": "code",
        "outputId": "4810cd0f-5de9-4457-b5e4-9f115201cf01",
        "colab": {
          "base_uri": "https://localhost:8080/",
          "height": 35
        }
      },
      "cell_type": "code",
      "source": [
        "from sklearn.ensemble import GradientBoostingClassifier\n",
        "clf = GradientBoostingClassifier()\n",
        "scores = cross_val_score(clf, X, y, cv=10)\n",
        "print('Accuracy: ', scores.mean(), scores.std() * 2)"
      ],
      "execution_count": 0,
      "outputs": [
        {
          "output_type": "stream",
          "text": [
            "Accuracy:  0.875 0.09219544457292884\n"
          ],
          "name": "stdout"
        }
      ]
    },
    {
      "metadata": {
        "id": "SzwmQljGQKuU",
        "colab_type": "code",
        "outputId": "1389cae9-524f-4311-d184-90ca773b202c",
        "colab": {
          "base_uri": "https://localhost:8080/",
          "height": 72
        }
      },
      "cell_type": "code",
      "source": [
        "from keras.applications.resnet50 import ResNet50\n",
        "from keras.preprocessing import image\n",
        "from keras.applications.resnet50 import preprocess_input\n",
        "\n",
        "model = ResNet50(weights='imagenet', include_top=False)\n",
        "(X_res50, y) = generate_feature_vec(model)\n",
        "print(len(X_res50))\n",
        "print(X_res50[0].shape)\n",
        "print(len(y))"
      ],
      "execution_count": 0,
      "outputs": [
        {
          "output_type": "stream",
          "text": [
            "200\n",
            "(2048,)\n",
            "200\n"
          ],
          "name": "stdout"
        }
      ]
    },
    {
      "metadata": {
        "id": "nw6kVwICTcjF",
        "colab_type": "code",
        "outputId": "ccb43481-f235-420d-a4b7-f376f4f21d78",
        "colab": {
          "base_uri": "https://localhost:8080/",
          "height": 35
        }
      },
      "cell_type": "code",
      "source": [
        "from sklearn.preprocessing import StandardScaler\n",
        "\n",
        "scaler = StandardScaler()\n",
        "scaler.fit(X_res50)\n",
        "\n",
        "print(scaler.mean_)\n",
        "\n",
        "\n",
        "X = scaler.transform(X_res50)"
      ],
      "execution_count": 0,
      "outputs": [
        {
          "output_type": "stream",
          "text": [
            "[2.6004379  0.3997941  0.47288282 ... 0.10233943 0.15384562 2.25434253]\n"
          ],
          "name": "stdout"
        }
      ]
    },
    {
      "metadata": {
        "id": "Rc3SWVcdUF2k",
        "colab_type": "code",
        "outputId": "0b765178-453d-4cae-f24c-fccba52823b8",
        "colab": {
          "base_uri": "https://localhost:8080/",
          "height": 144
        }
      },
      "cell_type": "code",
      "source": [
        "print(np.mean(X))\n",
        "print(np.var(X))\n",
        "\n",
        "from sklearn.model_selection import cross_val_score\n",
        "from sklearn import svm\n",
        "\n",
        "clf = svm.SVC(kernel='linear', C=1, class_weight = class_weight)\n",
        "scores = cross_val_score(clf, X, y, cv=10)\n",
        "print('Accuracy: ', scores.mean(), scores.std() * 2)\n",
        "\n",
        "\n",
        "\n",
        "from sklearn.ensemble import RandomForestClassifier\n",
        "clf = RandomForestClassifier(n_estimators=10, max_depth=None,\n",
        "    min_samples_split=2, random_state=0, class_weight = class_weight)\n",
        "\n",
        "scores = cross_val_score(clf, X, y, cv=10)\n",
        "print('Accuracy: ', scores.mean(), scores.std() * 2)\n",
        "\n",
        "\n",
        "\n",
        "from sklearn import tree\n",
        "clf = tree.DecisionTreeClassifier()\n",
        "\n",
        "scores = cross_val_score(clf, X, y, cv=10)\n",
        "print('Accuracy: ', scores.mean(), scores.std() * 2)\n",
        "\n",
        "\n",
        "from sklearn.ensemble import AdaBoostClassifier\n",
        "clf = AdaBoostClassifier(n_estimators=100)\n",
        "\n",
        "scores = cross_val_score(clf, X, y, cv=10)\n",
        "print('Accuracy: ', scores.mean(), scores.std() * 2)\n",
        "\n",
        "from sklearn.ensemble import GradientBoostingClassifier\n",
        "clf = GradientBoostingClassifier()\n",
        "scores = cross_val_score(clf, X, y, cv=10)\n",
        "print('Accuracy: ', scores.mean(), scores.std() * 2)"
      ],
      "execution_count": 0,
      "outputs": [
        {
          "output_type": "stream",
          "text": [
            "2.498001805406602e-18\n",
            "1.0\n",
            "Accuracy:  0.9099999999999999 0.10770329614269007\n",
            "Accuracy:  0.85 0.1095445115010332\n",
            "Accuracy:  0.8450000000000001 0.15132745950421556\n",
            "Accuracy:  0.9 0.14832396974191325\n",
            "Accuracy:  0.8799999999999999 0.17435595774162696\n"
          ],
          "name": "stdout"
        }
      ]
    },
    {
      "metadata": {
        "id": "2LnteKHDUu4y",
        "colab_type": "code",
        "outputId": "86d31176-aead-4168-ad14-67beaa754b05",
        "colab": {
          "base_uri": "https://localhost:8080/",
          "height": 128
        }
      },
      "cell_type": "code",
      "source": [
        "from keras.applications.vgg19 import VGG19\n",
        "from keras.preprocessing import image\n",
        "from keras.applications.vgg19 import preprocess_input\n",
        "\n",
        "model = VGG19(weights='imagenet', include_top=False)\n",
        "(X_vgg19, y) = generate_feature_vec(model)\n",
        "print(len(X_vgg19))\n",
        "print(X_vgg19[0].shape)\n",
        "print(len(y))"
      ],
      "execution_count": 0,
      "outputs": [
        {
          "output_type": "stream",
          "text": [
            "Downloading data from https://github.com/fchollet/deep-learning-models/releases/download/v0.1/vgg19_weights_tf_dim_ordering_tf_kernels_notop.h5\n",
            "80142336/80134624 [==============================] - 3s 0us/step\n",
            "200\n",
            "(25088,)\n",
            "200\n"
          ],
          "name": "stdout"
        }
      ]
    },
    {
      "metadata": {
        "id": "XD7YzL7ewmLC",
        "colab_type": "code",
        "outputId": "27d59333-80d3-4708-d48f-f45007e62183",
        "colab": {
          "base_uri": "https://localhost:8080/",
          "height": 35
        }
      },
      "cell_type": "code",
      "source": [
        "print('nabil')"
      ],
      "execution_count": 0,
      "outputs": [
        {
          "output_type": "stream",
          "text": [
            "nabil\n"
          ],
          "name": "stdout"
        }
      ]
    },
    {
      "metadata": {
        "id": "UEeuVF7GXgR0",
        "colab_type": "code",
        "outputId": "6060c5b8-217a-4351-e3a6-af2b01465819",
        "colab": {
          "base_uri": "https://localhost:8080/",
          "height": 163
        }
      },
      "cell_type": "code",
      "source": [
        "from sklearn.preprocessing import StandardScaler\n",
        "\n",
        "scaler = StandardScaler()\n",
        "scaler.fit(X_vgg19)\n",
        "\n",
        "print(scaler.mean_)\n",
        "\n",
        "X = scaler.transform(X_vgg19)\n",
        "\n",
        "print(np.mean(X))\n",
        "print(np.var(X))\n",
        "\n",
        "from sklearn.model_selection import cross_val_score\n",
        "from sklearn import svm\n",
        "\n",
        "clf = svm.SVC(kernel='linear', C=1, class_weight = class_weight)\n",
        "scores = cross_val_score(clf, X, y, cv=10)\n",
        "print('Accuracy: ', scores.mean(), scores.std() * 2)\n",
        "\n",
        "\n",
        "\n",
        "from sklearn.ensemble import RandomForestClassifier\n",
        "clf = RandomForestClassifier(n_estimators=10, max_depth=None,\n",
        "    min_samples_split=2, random_state=0, class_weight = class_weight)\n",
        "\n",
        "scores = cross_val_score(clf, X, y, cv=10)\n",
        "print('Accuracy: ', scores.mean(), scores.std() * 2)\n",
        "\n",
        "\n",
        "\n",
        "from sklearn import tree\n",
        "clf = tree.DecisionTreeClassifier()\n",
        "\n",
        "scores = cross_val_score(clf, X, y, cv=10)\n",
        "print('Accuracy: ', scores.mean(), scores.std() * 2)\n",
        "\n",
        "\n",
        "from sklearn.ensemble import AdaBoostClassifier\n",
        "clf = AdaBoostClassifier(n_estimators=100)\n",
        "\n",
        "scores = cross_val_score(clf, X, y, cv=10)\n",
        "print('Accuracy: ', scores.mean(), scores.std() * 2)\n",
        "\n",
        "from sklearn.ensemble import GradientBoostingClassifier\n",
        "clf = GradientBoostingClassifier()\n",
        "scores = cross_val_score(clf, X, y, cv=10)\n",
        "print('Accuracy: ', scores.mean(), scores.std() * 2)"
      ],
      "execution_count": 0,
      "outputs": [
        {
          "output_type": "stream",
          "text": [
            "[0.04617819 0.         3.80703191 ... 0.         0.14583112 0.25908767]\n",
            "-7.250436079184696e-19\n",
            "0.8730468749999998\n",
            "Accuracy:  0.9000000000000001 0.11832159566199228\n",
            "Accuracy:  0.8550000000000001 0.094339811320566\n",
            "Accuracy:  0.775 0.21563858652847825\n",
            "Accuracy:  0.905 0.12999999999999998\n",
            "Accuracy:  0.86 0.10770329614269007\n"
          ],
          "name": "stdout"
        }
      ]
    },
    {
      "metadata": {
        "id": "05Xos1bJX02u",
        "colab_type": "code",
        "outputId": "b255f0d3-0489-4ec7-ec68-186b445c4d20",
        "colab": {
          "base_uri": "https://localhost:8080/",
          "height": 128
        }
      },
      "cell_type": "code",
      "source": [
        "from keras.applications.xception import Xception\n",
        "from keras.preprocessing import image\n",
        "from keras.applications.xception import preprocess_input\n",
        "\n",
        "model = Xception(weights='imagenet', include_top=False)\n",
        "(X_x, y) = generate_feature_vec(model)\n",
        "print(len(X_x))\n",
        "print(X_x[0].shape)\n",
        "print(len(y))"
      ],
      "execution_count": 0,
      "outputs": [
        {
          "output_type": "stream",
          "text": [
            "Downloading data from https://github.com/fchollet/deep-learning-models/releases/download/v0.4/xception_weights_tf_dim_ordering_tf_kernels_notop.h5\n",
            "83689472/83683744 [==============================] - 3s 0us/step\n",
            "200\n",
            "(100352,)\n",
            "200\n"
          ],
          "name": "stdout"
        }
      ]
    },
    {
      "metadata": {
        "id": "6VHV6JBEgvqD",
        "colab_type": "code",
        "outputId": "8b4e4f00-12c7-4e53-d6d2-0a37a19e146e",
        "colab": {
          "base_uri": "https://localhost:8080/",
          "height": 163
        }
      },
      "cell_type": "code",
      "source": [
        "from sklearn.preprocessing import StandardScaler\n",
        "\n",
        "scaler = StandardScaler()\n",
        "scaler.fit(X_x)\n",
        "\n",
        "print(scaler.mean_)\n",
        "\n",
        "X = scaler.transform(X_x)\n",
        "\n",
        "print(np.mean(X))\n",
        "print(np.var(X))\n",
        "\n",
        "from sklearn.model_selection import cross_val_score\n",
        "from sklearn import svm\n",
        "\n",
        "clf = svm.SVC(kernel='linear', C=1, class_weight = class_weight)\n",
        "scores = cross_val_score(clf, X, y, cv=10)\n",
        "print('Accuracy: ', scores.mean(), scores.std() * 2)\n",
        "\n",
        "\n",
        "\n",
        "from sklearn.ensemble import RandomForestClassifier\n",
        "clf = RandomForestClassifier(n_estimators=10, max_depth=None,\n",
        "    min_samples_split=2, random_state=0, class_weight = class_weight)\n",
        "\n",
        "scores = cross_val_score(clf, X, y, cv=10)\n",
        "print('Accuracy: ', scores.mean(), scores.std() * 2)\n",
        "\n",
        "\n",
        "\n",
        "from sklearn import tree\n",
        "clf = tree.DecisionTreeClassifier()\n",
        "\n",
        "scores = cross_val_score(clf, X, y, cv=10)\n",
        "print('Accuracy: ', scores.mean(), scores.std() * 2)\n",
        "\n",
        "\n",
        "from sklearn.ensemble import AdaBoostClassifier\n",
        "clf = AdaBoostClassifier(n_estimators=100)\n",
        "\n",
        "scores = cross_val_score(clf, X, y, cv=10)\n",
        "print('Accuracy: ', scores.mean(), scores.std() * 2)\n",
        "\n",
        "from sklearn.ensemble import GradientBoostingClassifier\n",
        "clf = GradientBoostingClassifier()\n",
        "scores = cross_val_score(clf, X, y, cv=10)\n",
        "print('Accuracy: ', scores.mean(), scores.std() * 2)"
      ],
      "execution_count": 0,
      "outputs": [
        {
          "output_type": "stream",
          "text": [
            "[0.00223656 0.00273003 0.00081848 ... 0.32296943 0.37922437 0.33682621]\n",
            "2.9001744316738784e-18\n",
            "0.9921376753826545\n",
            "Accuracy:  0.885 0.10049875621120886\n",
            "Accuracy:  0.8550000000000001 0.122065556157337\n",
            "Accuracy:  0.7899999999999999 0.12489995996796796\n",
            "Accuracy:  0.86 0.12489995996796795\n",
            "Accuracy:  0.8150000000000001 0.16763054614240208\n"
          ],
          "name": "stdout"
        }
      ]
    },
    {
      "metadata": {
        "id": "l8G3PoaJiLiE",
        "colab_type": "code",
        "outputId": "c0e4f713-da24-48c9-f826-b7b9d7b6c476",
        "colab": {
          "base_uri": "https://localhost:8080/",
          "height": 128
        }
      },
      "cell_type": "code",
      "source": [
        "from keras.applications.inception_v3 import InceptionV3\n",
        "from keras.preprocessing import image\n",
        "from keras.applications.inception_v3 import preprocess_input\n",
        "\n",
        "model = InceptionV3(weights='imagenet', include_top=False)\n",
        "(X_inc3, y) = generate_feature_vec(model)\n",
        "print(len(X_inc3))\n",
        "print(X_inc3[0].shape)\n",
        "print(len(y))"
      ],
      "execution_count": 0,
      "outputs": [
        {
          "output_type": "stream",
          "text": [
            "Downloading data from https://github.com/fchollet/deep-learning-models/releases/download/v0.5/inception_v3_weights_tf_dim_ordering_tf_kernels_notop.h5\n",
            "87916544/87910968 [==============================] - 4s 0us/step\n",
            "200\n",
            "(51200,)\n",
            "200\n"
          ],
          "name": "stdout"
        }
      ]
    },
    {
      "metadata": {
        "id": "dmNf4n_nAifh",
        "colab_type": "code",
        "outputId": "94b94f60-0d97-4176-e10e-8fed070b87fc",
        "colab": {
          "base_uri": "https://localhost:8080/",
          "height": 163
        }
      },
      "cell_type": "code",
      "source": [
        "from sklearn.preprocessing import StandardScaler\n",
        "\n",
        "scaler = StandardScaler()\n",
        "scaler.fit(X_inc3)\n",
        "\n",
        "print(scaler.mean_)\n",
        "\n",
        "X = scaler.transform(X_inc3)\n",
        "\n",
        "print(np.mean(X))\n",
        "print(np.var(X))\n",
        "\n",
        "from sklearn.model_selection import cross_val_score\n",
        "from sklearn import svm\n",
        "\n",
        "clf = svm.SVC(kernel='linear', C=1, class_weight = class_weight)\n",
        "scores = cross_val_score(clf, X, y, cv=10)\n",
        "print('Accuracy: ', scores.mean(), scores.std() * 2)\n",
        "\n",
        "\n",
        "\n",
        "from sklearn.ensemble import RandomForestClassifier\n",
        "clf = RandomForestClassifier(n_estimators=10, max_depth=None,\n",
        "    min_samples_split=2, random_state=0, class_weight = class_weight)\n",
        "\n",
        "scores = cross_val_score(clf, X, y, cv=10)\n",
        "print('Accuracy: ', scores.mean(), scores.std() * 2)\n",
        "\n",
        "\n",
        "\n",
        "from sklearn import tree\n",
        "clf = tree.DecisionTreeClassifier()\n",
        "\n",
        "scores = cross_val_score(clf, X, y, cv=10)\n",
        "print('Accuracy: ', scores.mean(), scores.std() * 2)\n",
        "\n",
        "\n",
        "from sklearn.ensemble import AdaBoostClassifier\n",
        "clf = AdaBoostClassifier(n_estimators=100)\n",
        "\n",
        "scores = cross_val_score(clf, X, y, cv=10)\n",
        "print('Accuracy: ', scores.mean(), scores.std() * 2)\n",
        "\n",
        "from sklearn.ensemble import GradientBoostingClassifier\n",
        "clf = GradientBoostingClassifier()\n",
        "scores = cross_val_score(clf, X, y, cv=10)\n",
        "print('Accuracy: ', scores.mean(), scores.std() * 2)"
      ],
      "execution_count": 0,
      "outputs": [
        {
          "output_type": "stream",
          "text": [
            "[0.16593921 0.02876234 0.03965574 ... 0.87909791 1.38054225 0.30340776]\n",
            "2.9753977059954196e-18\n",
            "1.0000000000000009\n",
            "Accuracy:  0.8949999999999999 0.12206555615733701\n",
            "Accuracy:  0.8099999999999999 0.09797958971132713\n",
            "Accuracy:  0.78 0.18\n",
            "Accuracy:  0.86 0.15362291495737213\n",
            "Accuracy:  0.8250000000000002 0.12041594578792297\n"
          ],
          "name": "stdout"
        }
      ]
    },
    {
      "metadata": {
        "id": "RVR6lwRlBwEQ",
        "colab_type": "code",
        "outputId": "996582b1-c034-41f9-9fd2-3c334c999a95",
        "colab": {
          "base_uri": "https://localhost:8080/",
          "height": 128
        }
      },
      "cell_type": "code",
      "source": [
        "from keras.applications.densenet import DenseNet201\n",
        "from keras.preprocessing import image\n",
        "from keras.applications.densenet import preprocess_input\n",
        "\n",
        "model = DenseNet201(weights='imagenet', include_top=False)\n",
        "(X_d, y) = generate_feature_vec(model)\n",
        "print(len(X_d))\n",
        "print(X_d[0].shape)\n",
        "print(len(y))"
      ],
      "execution_count": 0,
      "outputs": [
        {
          "output_type": "stream",
          "text": [
            "Downloading data from https://github.com/fchollet/deep-learning-models/releases/download/v0.8/densenet201_weights_tf_dim_ordering_tf_kernels_notop.h5\n",
            "76398592/76391848 [==============================] - 3s 0us/step\n",
            "200\n",
            "(94080,)\n",
            "200\n"
          ],
          "name": "stdout"
        }
      ]
    },
    {
      "metadata": {
        "id": "5cf8Znm9CF-7",
        "colab_type": "code",
        "outputId": "96570315-47d5-4cd3-8900-ad23f6c72929",
        "colab": {
          "base_uri": "https://localhost:8080/",
          "height": 181
        }
      },
      "cell_type": "code",
      "source": [
        "from sklearn.preprocessing import StandardScaler\n",
        "\n",
        "scaler = StandardScaler()\n",
        "scaler.fit(X_d)\n",
        "\n",
        "print(scaler.mean_)\n",
        "\n",
        "X = scaler.transform(X_d)\n",
        "\n",
        "print(np.mean(X))\n",
        "print(np.var(X))\n",
        "\n",
        "from sklearn.model_selection import cross_val_score\n",
        "from sklearn import svm\n",
        "\n",
        "clf = svm.SVC(kernel='linear', C=1, class_weight = class_weight)\n",
        "scores = cross_val_score(clf, X, y, cv=10)\n",
        "print('Accuracy: ', scores.mean(), scores.std() * 2)\n",
        "\n",
        "\n",
        "\n",
        "from sklearn.ensemble import RandomForestClassifier\n",
        "clf = RandomForestClassifier(n_estimators=10, max_depth=None,\n",
        "    min_samples_split=2, random_state=0, class_weight = class_weight)\n",
        "\n",
        "scores = cross_val_score(clf, X, y, cv=10)\n",
        "print('Accuracy: ', scores.mean(), scores.std() * 2)\n",
        "\n",
        "\n",
        "\n",
        "from sklearn import tree\n",
        "clf = tree.DecisionTreeClassifier()\n",
        "\n",
        "scores = cross_val_score(clf, X, y, cv=10)\n",
        "print('Accuracy: ', scores.mean(), scores.std() * 2)\n",
        "\n",
        "\n",
        "from sklearn.ensemble import AdaBoostClassifier\n",
        "clf = AdaBoostClassifier(n_estimators=100)\n",
        "\n",
        "scores = cross_val_score(clf, X, y, cv=10)\n",
        "print('Accuracy: ', scores.mean(), scores.std() * 2)\n",
        "\n",
        "from sklearn.ensemble import GradientBoostingClassifier\n",
        "clf = GradientBoostingClassifier()\n",
        "scores = cross_val_score(clf, X, y, cv=10)\n",
        "print('Accuracy: ', scores.mean(), scores.std() * 2)"
      ],
      "execution_count": 0,
      "outputs": [
        {
          "output_type": "stream",
          "text": [
            "[-9.51864998e-05  3.55345527e-03  8.66860743e-03 ...  4.27639772e-01\n",
            "  4.37626430e-01  2.73508079e-01]\n",
            "1.522591576628786e-18\n",
            "1.0000000000000002\n",
            "Accuracy:  0.9200000000000002 0.142828568570857\n",
            "Accuracy:  0.8350000000000002 0.10049875621120889\n",
            "Accuracy:  0.825 0.12845232578665128\n",
            "Accuracy:  0.9099999999999999 0.13266499161421597\n",
            "Accuracy:  0.835 0.16155494421403516\n"
          ],
          "name": "stdout"
        }
      ]
    }
  ]
}